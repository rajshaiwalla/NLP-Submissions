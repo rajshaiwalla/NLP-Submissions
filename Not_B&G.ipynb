{
  "nbformat": 4,
  "nbformat_minor": 0,
  "metadata": {
    "colab": {
      "name": "Not B&G.ipynb",
      "provenance": [],
      "collapsed_sections": [],
      "include_colab_link": true
    },
    "kernelspec": {
      "name": "python3",
      "display_name": "Python 3"
    }
  },
  "cells": [
    {
      "cell_type": "markdown",
      "metadata": {
        "id": "view-in-github",
        "colab_type": "text"
      },
      "source": [
        "<a href=\"https://colab.research.google.com/github/rajshaiwalla/NLP-Submissions/blob/master/Not_B%26G.ipynb\" target=\"_parent\"><img src=\"https://colab.research.google.com/assets/colab-badge.svg\" alt=\"Open In Colab\"/></a>"
      ]
    },
    {
      "cell_type": "code",
      "metadata": {
        "id": "RDbVJxL6FWjn",
        "colab_type": "code",
        "colab": {}
      },
      "source": [
        "import pandas as pd #importing for using dataframes\n",
        "import gzip #importing for unzipping the file for reading it\n",
        "from collections import Counter #importing to use it to count \n",
        "import re #importing RegEx"
      ],
      "execution_count": 0,
      "outputs": []
    },
    {
      "cell_type": "code",
      "metadata": {
        "id": "oRppdlmeGKIP",
        "colab_type": "code",
        "colab": {}
      },
      "source": [
        "data = pd.read_json(\"http://snap.stanford.edu/data/amazon/productGraph/categoryFiles/reviews_Office_Products_5.json.gz\", lines = True) #Reading the Office Products file "
      ],
      "execution_count": 0,
      "outputs": []
    },
    {
      "cell_type": "code",
      "metadata": {
        "id": "_G0t07b2Ge2Q",
        "colab_type": "code",
        "colab": {}
      },
      "source": [
        "df = data.copy() #making a copy of the data and storing it in 'df' to leave the original data unaltered."
      ],
      "execution_count": 0,
      "outputs": []
    },
    {
      "cell_type": "code",
      "metadata": {
        "id": "lU8STdJcGj6-",
        "colab_type": "code",
        "colab": {}
      },
      "source": [
        "def not_B_and_G(x):\n",
        "    y = re.findall(r'\\b(?!b|B)\\b\\S+', x)\n",
        "    string = ' '.join([str(elem) for elem in y]) #changing list to string\n",
        "    BG = re.findall(r'\\b(\\w*[^gG])\\b[\\W\\s$]', string) #applying the notB&G operation\n",
        "    return BG"
      ],
      "execution_count": 0,
      "outputs": []
    },
    {
      "cell_type": "code",
      "metadata": {
        "id": "jhYHCrFpICcL",
        "colab_type": "code",
        "colab": {}
      },
      "source": [
        "df['reviewText_not_B_and_G'] = df['reviewText'].apply(not_B_and_G)"
      ],
      "execution_count": 0,
      "outputs": []
    },
    {
      "cell_type": "code",
      "metadata": {
        "id": "i9eOFKW-IChc",
        "colab_type": "code",
        "colab": {
          "base_uri": "https://localhost:8080/",
          "height": 1000
        },
        "outputId": "8d22de84-3251-4ca4-94ec-50b3ddb2cb66"
      },
      "source": [
        "df['reviewText_not_B_and_G'][0]"
      ],
      "execution_count": 6,
      "outputs": [
        {
          "output_type": "execute_result",
          "data": {
            "text/plain": [
              "['I',\n",
              " 'my',\n",
              " 'first',\n",
              " 'HP12C',\n",
              " 'in',\n",
              " 'about',\n",
              " '1984',\n",
              " 'or',\n",
              " 'so',\n",
              " 'and',\n",
              " 'it',\n",
              " 'served',\n",
              " 'me',\n",
              " 'faithfully',\n",
              " 'until',\n",
              " '2002',\n",
              " 'when',\n",
              " 'I',\n",
              " 'lost',\n",
              " 'it',\n",
              " 'while',\n",
              " 'I',\n",
              " 'searched',\n",
              " 'for',\n",
              " 'another',\n",
              " 'one',\n",
              " 'to',\n",
              " 'replace',\n",
              " 'it',\n",
              " 'found',\n",
              " 'one',\n",
              " 'difficult',\n",
              " 'to',\n",
              " 'come',\n",
              " 'in',\n",
              " 'my',\n",
              " 'area',\n",
              " 'So',\n",
              " 'I',\n",
              " 'decided',\n",
              " 'to',\n",
              " 'up',\n",
              " 'and',\n",
              " 'purchased',\n",
              " 'an',\n",
              " 'HP',\n",
              " 'What',\n",
              " 'a',\n",
              " 'mistake',\n",
              " 'I',\n",
              " 'know',\n",
              " 'that',\n",
              " 'many',\n",
              " 'people',\n",
              " 'view',\n",
              " 'the',\n",
              " 'HP',\n",
              " 'now',\n",
              " 'as',\n",
              " 'the',\n",
              " 'flagship',\n",
              " 'of',\n",
              " 'the',\n",
              " 'HP',\n",
              " 'line',\n",
              " 'for',\n",
              " 'me',\n",
              " 'that',\n",
              " 'was',\n",
              " 'a',\n",
              " 'disaster',\n",
              " 'The',\n",
              " 'may',\n",
              " 'powerful',\n",
              " 'it',\n",
              " 'is',\n",
              " 'extremely',\n",
              " 'counterintuitive',\n",
              " 'and',\n",
              " 'the',\n",
              " 'manual',\n",
              " 'was',\n",
              " 'sketchy',\n",
              " 'at',\n",
              " 'The',\n",
              " '12C',\n",
              " 'on',\n",
              " 'the',\n",
              " 'other',\n",
              " 'hand',\n",
              " 'does',\n",
              " 'what',\n",
              " 'I',\n",
              " 'need',\n",
              " 'in',\n",
              " 'a',\n",
              " 'way',\n",
              " 'that',\n",
              " 'makes',\n",
              " 'good',\n",
              " 'sense',\n",
              " 'to',\n",
              " 'me',\n",
              " 'If',\n",
              " 'you',\n",
              " 'are',\n",
              " 'for',\n",
              " 'a',\n",
              " 'solid',\n",
              " 'reliable',\n",
              " 'calculator',\n",
              " 'the',\n",
              " 'HP12C',\n",
              " 'may',\n",
              " 'for',\n",
              " 'you',\n",
              " 'It',\n",
              " 's',\n",
              " 'programmable',\n",
              " 'It',\n",
              " 'does',\n",
              " 'statistics',\n",
              " 'well',\n",
              " 'and',\n",
              " 'many',\n",
              " 'applications',\n",
              " 'too',\n",
              " 'The',\n",
              " 'manual',\n",
              " 'makes',\n",
              " 'sense',\n",
              " 'you',\n",
              " 'will',\n",
              " 'up',\n",
              " 'and',\n",
              " 'in',\n",
              " 'short',\n",
              " 'order',\n",
              " 'I',\n",
              " 'm',\n",
              " 'ready',\n",
              " 'to',\n",
              " 'set',\n",
              " 'my',\n",
              " 'aside',\n",
              " 'and',\n",
              " 'move',\n",
              " 'to',\n",
              " 'my',\n",
              " 'old',\n",
              " 'friend',\n",
              " 'I',\n",
              " 'didn',\n",
              " 't',\n",
              " 'even',\n",
              " 'have',\n",
              " 'to',\n",
              " 'replace',\n",
              " 'the',\n",
              " 'in',\n",
              " 'well',\n",
              " 'over',\n",
              " 'a',\n",
              " 'decade',\n",
              " 'of',\n",
              " 'use',\n",
              " 'HP',\n",
              " '12C',\n",
              " 'I',\n",
              " 'm',\n",
              " 'home']"
            ]
          },
          "metadata": {
            "tags": []
          },
          "execution_count": 6
        }
      ]
    }
  ]
}