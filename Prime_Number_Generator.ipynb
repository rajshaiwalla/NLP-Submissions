{
  "nbformat": 4,
  "nbformat_minor": 0,
  "metadata": {
    "colab": {
      "name": "Prime Number Generator.ipynb",
      "provenance": [],
      "collapsed_sections": [],
      "include_colab_link": true
    },
    "kernelspec": {
      "name": "python3",
      "display_name": "Python 3"
    }
  },
  "cells": [
    {
      "cell_type": "markdown",
      "metadata": {
        "id": "view-in-github",
        "colab_type": "text"
      },
      "source": [
        "<a href=\"https://colab.research.google.com/github/rajshaiwalla/NLP-Submissions/blob/master/Prime_Number_Generator.ipynb\" target=\"_parent\"><img src=\"https://colab.research.google.com/assets/colab-badge.svg\" alt=\"Open In Colab\"/></a>"
      ]
    },
    {
      "cell_type": "code",
      "metadata": {
        "id": "HqXmMtivSVK2",
        "colab_type": "code",
        "colab": {}
      },
      "source": [
        "def is_prime(num): #defining a function to see if the given number is prime or not \n",
        "  factor = 2\n",
        "  while (factor < num):\n",
        "    if num%factor ==0:\n",
        "      return False\n",
        "    factor +=1\n",
        "  return True    "
      ],
      "execution_count": 0,
      "outputs": []
    },
    {
      "cell_type": "code",
      "metadata": {
        "id": "pqOoBUe4YcvN",
        "colab_type": "code",
        "colab": {}
      },
      "source": [
        "def nth_prime_num(n): #defining a function to calculate the nth prime number based on if it is prime or not \n",
        "    if n==1:\n",
        "        return 2\n",
        "    count = 1\n",
        "    num = 3\n",
        "    while(count <= n):\n",
        "        if is_prime(num):\n",
        "            count +=1\n",
        "            if count == n:\n",
        "               return num\n",
        "        num +=2"
      ],
      "execution_count": 0,
      "outputs": []
    },
    {
      "cell_type": "code",
      "metadata": {
        "id": "bMcmqRw1Wvsu",
        "colab_type": "code",
        "outputId": "feef673e-01aa-497b-af02-81d5a76667b8",
        "colab": {
          "base_uri": "https://localhost:8080/",
          "height": 34
        }
      },
      "source": [
        "nth_prime_num(3) #calculating the 3rd prime number"
      ],
      "execution_count": 0,
      "outputs": [
        {
          "output_type": "execute_result",
          "data": {
            "text/plain": [
              "5"
            ]
          },
          "metadata": {
            "tags": []
          },
          "execution_count": 18
        }
      ]
    }
  ]
}