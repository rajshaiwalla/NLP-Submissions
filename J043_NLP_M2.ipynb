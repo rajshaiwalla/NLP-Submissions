{
  "nbformat": 4,
  "nbformat_minor": 0,
  "metadata": {
    "colab": {
      "name": "J043_NLP_M2.ipynb",
      "provenance": [],
      "collapsed_sections": [
        "GhB9KUKNCD7m",
        "ELU1hwiSB5-6",
        "3LZ1iWloB_r9",
        "vrmhNCASqoSa",
        "fZ-yohawFITT"
      ],
      "authorship_tag": "ABX9TyO7VQAoy2o/nTLCVmkQfpkK",
      "include_colab_link": true
    },
    "kernelspec": {
      "name": "python3",
      "display_name": "Python 3"
    },
    "accelerator": "GPU"
  },
  "cells": [
    {
      "cell_type": "markdown",
      "metadata": {
        "id": "view-in-github",
        "colab_type": "text"
      },
      "source": [
        "<a href=\"https://colab.research.google.com/github/rajshaiwalla/NLP-Submissions/blob/master/J043_NLP_M2.ipynb\" target=\"_parent\"><img src=\"https://colab.research.google.com/assets/colab-badge.svg\" alt=\"Open In Colab\"/></a>"
      ]
    },
    {
      "cell_type": "markdown",
      "metadata": {
        "id": "GhB9KUKNCD7m",
        "colab_type": "text"
      },
      "source": [
        "# Reading & Preprocessing"
      ]
    },
    {
      "cell_type": "code",
      "metadata": {
        "id": "WQNZrWtM9sGD",
        "colab_type": "code",
        "colab": {
          "base_uri": "https://localhost:8080/",
          "height": 408
        },
        "outputId": "46b59277-99c8-497a-95a8-daae48fd616c"
      },
      "source": [
        "! wget https://github.com/amsurve/J050_sem6_nlp/blob/master/datasets/10k-german-news-articles.zip?raw=true #reading from github\n",
        "! mkdir newsarticles\n",
        "! unzip 10k-german-news-articles.zip?raw=true -d newsarticles"
      ],
      "execution_count": 1,
      "outputs": [
        {
          "output_type": "stream",
          "text": [
            "--2020-03-03 18:23:25--  https://github.com/amsurve/J050_sem6_nlp/blob/master/datasets/10k-german-news-articles.zip?raw=true\n",
            "Resolving github.com (github.com)... 140.82.114.4\n",
            "Connecting to github.com (github.com)|140.82.114.4|:443... connected.\n",
            "HTTP request sent, awaiting response... 302 Found\n",
            "Location: https://github.com/amsurve/J050_sem6_nlp/raw/master/datasets/10k-german-news-articles.zip [following]\n",
            "--2020-03-03 18:23:25--  https://github.com/amsurve/J050_sem6_nlp/raw/master/datasets/10k-german-news-articles.zip\n",
            "Reusing existing connection to github.com:443.\n",
            "HTTP request sent, awaiting response... 302 Found\n",
            "Location: https://media.githubusercontent.com/media/amsurve/J050_sem6_nlp/master/datasets/10k-german-news-articles.zip [following]\n",
            "--2020-03-03 18:23:25--  https://media.githubusercontent.com/media/amsurve/J050_sem6_nlp/master/datasets/10k-german-news-articles.zip\n",
            "Resolving media.githubusercontent.com (media.githubusercontent.com)... 151.101.0.133, 151.101.64.133, 151.101.128.133, ...\n",
            "Connecting to media.githubusercontent.com (media.githubusercontent.com)|151.101.0.133|:443... connected.\n",
            "HTTP request sent, awaiting response... 200 OK\n",
            "Length: 128989980 (123M) [application/zip]\n",
            "Saving to: ‘10k-german-news-articles.zip?raw=true.6’\n",
            "\n",
            "10k-german-news-art 100%[===================>] 123.01M   165MB/s    in 0.7s    \n",
            "\n",
            "2020-03-03 18:23:28 (165 MB/s) - ‘10k-german-news-articles.zip?raw=true.6’ saved [128989980/128989980]\n",
            "\n",
            "mkdir: cannot create directory ‘newsarticles’: File exists\n",
            "Archive:  10k-german-news-articles.zip?raw=true\n",
            "replace newsarticles/Annotations.csv? [y]es, [n]o, [A]ll, [N]one, [r]ename: "
          ],
          "name": "stdout"
        }
      ]
    },
    {
      "cell_type": "code",
      "metadata": {
        "id": "IhHAds0v9sEb",
        "colab_type": "code",
        "colab": {
          "base_uri": "https://localhost:8080/",
          "height": 119
        },
        "outputId": "b72d1f19-7ff2-4309-abc9-5c4394efb56e"
      },
      "source": [
        "import numpy as np\n",
        "import pandas as pd\n",
        "import os\n",
        "import re\n",
        "import nltk\n",
        "import warnings\n",
        "import random\n",
        "import pickle\n",
        "from nltk import word_tokenize\n",
        "from gensim import models, corpora\n",
        "from sklearn.feature_extraction.text import CountVectorizer\n",
        "from sklearn.model_selection import train_test_split as tts\n",
        "from sklearn.ensemble import RandomForestClassifier\n",
        "from sklearn.model_selection import GridSearchCV\n",
        "import numpy as np\n",
        "from sklearn.preprocessing import LabelEncoder, LabelBinarizer\n",
        "from sklearn.metrics import classification_report, roc_auc_score\n",
        "from sklearn.feature_extraction.text import TfidfVectorizer\n",
        "from sklearn.decomposition import LatentDirichletAllocation as LDA\n",
        "from sklearn.metrics.pairwise import cosine_similarity\n",
        "import string\n",
        "from string import digits\n",
        "from nltk.corpus import stopwords\n",
        "from nltk.tokenize import word_tokenize\n",
        "import lightgbm as lgb\n",
        "import gensim\n",
        "import gensim.corpora as corpora\n",
        "from gensim.utils import simple_preprocess\n",
        "from gensim.models import CoherenceModel\n",
        "import pyLDAvis\n",
        "import pyLDAvis.sklearn\n",
        "import pyLDAvis.gensim\n",
        "from pyLDAvis import sklearn as sklearn_lda\n",
        "import gensim\n",
        "from gensim import corpora\n",
        "import pickle\n",
        "\n",
        "nltk.download('stopwords')\n",
        "nltk.download('punkt')\n",
        "nltk.download('words')\n",
        "german_stop_words = stopwords.words('german')"
      ],
      "execution_count": 55,
      "outputs": [
        {
          "output_type": "stream",
          "text": [
            "[nltk_data] Downloading package stopwords to /root/nltk_data...\n",
            "[nltk_data]   Package stopwords is already up-to-date!\n",
            "[nltk_data] Downloading package punkt to /root/nltk_data...\n",
            "[nltk_data]   Package punkt is already up-to-date!\n",
            "[nltk_data] Downloading package words to /root/nltk_data...\n",
            "[nltk_data]   Package words is already up-to-date!\n"
          ],
          "name": "stdout"
        }
      ]
    },
    {
      "cell_type": "code",
      "metadata": {
        "id": "vGOBRooQ9sCL",
        "colab_type": "code",
        "colab": {}
      },
      "source": [
        "posts_df=pd.read_csv(\"/content/newsarticles/Posts.csv\") #reading csv and making it in a dataframe\n",
        "articles_df=pd.read_csv(\"/content/newsarticles/Articles.csv\")\n",
        "df=pd.read_csv(\"/content/newsarticles/Articles.csv\")"
      ],
      "execution_count": 0,
      "outputs": []
    },
    {
      "cell_type": "code",
      "metadata": {
        "id": "AoYc7hQV9r_d",
        "colab_type": "code",
        "colab": {}
      },
      "source": [
        "dfm = pd.merge(posts_df, articles_df, on=\"ID_Article\") #merging df\n",
        "dft = pd.merge(posts_df, articles_df, on=\"ID_Article\")"
      ],
      "execution_count": 0,
      "outputs": []
    },
    {
      "cell_type": "code",
      "metadata": {
        "id": "fwV-3E-KkChy",
        "colab_type": "code",
        "colab": {
          "base_uri": "https://localhost:8080/",
          "height": 204
        },
        "outputId": "04c4437e-1882-434d-f7d5-e98f5d712fd9"
      },
      "source": [
        "df.head()"
      ],
      "execution_count": 5,
      "outputs": [
        {
          "output_type": "execute_result",
          "data": {
            "text/html": [
              "<div>\n",
              "<style scoped>\n",
              "    .dataframe tbody tr th:only-of-type {\n",
              "        vertical-align: middle;\n",
              "    }\n",
              "\n",
              "    .dataframe tbody tr th {\n",
              "        vertical-align: top;\n",
              "    }\n",
              "\n",
              "    .dataframe thead th {\n",
              "        text-align: right;\n",
              "    }\n",
              "</style>\n",
              "<table border=\"1\" class=\"dataframe\">\n",
              "  <thead>\n",
              "    <tr style=\"text-align: right;\">\n",
              "      <th></th>\n",
              "      <th>ID_Article</th>\n",
              "      <th>Path</th>\n",
              "      <th>publishingDate</th>\n",
              "      <th>Title</th>\n",
              "      <th>Body</th>\n",
              "    </tr>\n",
              "  </thead>\n",
              "  <tbody>\n",
              "    <tr>\n",
              "      <th>0</th>\n",
              "      <td>1</td>\n",
              "      <td>Newsroom/User/Community</td>\n",
              "      <td>2012-05-26 03:00:19.23</td>\n",
              "      <td>Die Newsletter von derStandard.at</td>\n",
              "      <td>&lt;div class=\"section\" id=\"content-main\" itempro...</td>\n",
              "    </tr>\n",
              "    <tr>\n",
              "      <th>1</th>\n",
              "      <td>2</td>\n",
              "      <td>Newsroom/User/Community/Regeln</td>\n",
              "      <td>2012-05-26 12:12:19.46</td>\n",
              "      <td>Werden Sie Teil von derStandard.at!</td>\n",
              "      <td>&lt;div class=\"diashow\" id=\"objectContent\"&gt;&lt;meta ...</td>\n",
              "    </tr>\n",
              "    <tr>\n",
              "      <th>2</th>\n",
              "      <td>3</td>\n",
              "      <td>Diverses/mobil</td>\n",
              "      <td>2013-11-22 12:15:00.00</td>\n",
              "      <td>Die Android App von derStandard.at</td>\n",
              "      <td>&lt;div class=\"section\" id=\"content-main\" itempro...</td>\n",
              "    </tr>\n",
              "    <tr>\n",
              "      <th>3</th>\n",
              "      <td>4</td>\n",
              "      <td>Newsroom/User/mitmachen/Mitreden</td>\n",
              "      <td>2014-08-13 05:30:00.00</td>\n",
              "      <td>Welche Erfahrungen haben Sie als Linkshänder g...</td>\n",
              "      <td>&lt;div class=\"section\" id=\"content-main\" itempro...</td>\n",
              "    </tr>\n",
              "    <tr>\n",
              "      <th>4</th>\n",
              "      <td>5</td>\n",
              "      <td>Newsroom/User/mitmachen/Mitreden</td>\n",
              "      <td>2014-08-27 12:27:01.09</td>\n",
              "      <td>Wie haben Sie das Jahr 1989 erlebt?</td>\n",
              "      <td>&lt;div class=\"section\" id=\"content-main\" itempro...</td>\n",
              "    </tr>\n",
              "  </tbody>\n",
              "</table>\n",
              "</div>"
            ],
            "text/plain": [
              "   ID_Article  ...                                               Body\n",
              "0           1  ...  <div class=\"section\" id=\"content-main\" itempro...\n",
              "1           2  ...  <div class=\"diashow\" id=\"objectContent\"><meta ...\n",
              "2           3  ...  <div class=\"section\" id=\"content-main\" itempro...\n",
              "3           4  ...  <div class=\"section\" id=\"content-main\" itempro...\n",
              "4           5  ...  <div class=\"section\" id=\"content-main\" itempro...\n",
              "\n",
              "[5 rows x 5 columns]"
            ]
          },
          "metadata": {
            "tags": []
          },
          "execution_count": 5
        }
      ]
    },
    {
      "cell_type": "code",
      "metadata": {
        "id": "wNcFmpcv9rVV",
        "colab_type": "code",
        "colab": {
          "base_uri": "https://localhost:8080/",
          "height": 34
        },
        "outputId": "8d0b6385-5e7f-486e-87fc-1b13166bfc63"
      },
      "source": [
        "df.shape"
      ],
      "execution_count": 6,
      "outputs": [
        {
          "output_type": "execute_result",
          "data": {
            "text/plain": [
              "(12087, 5)"
            ]
          },
          "metadata": {
            "tags": []
          },
          "execution_count": 6
        }
      ]
    },
    {
      "cell_type": "code",
      "metadata": {
        "id": "ioQlOzkX9rTE",
        "colab_type": "code",
        "colab": {
          "base_uri": "https://localhost:8080/",
          "height": 34
        },
        "outputId": "bc561572-8597-4b7b-d9e7-98cb7a9e0b2a"
      },
      "source": [
        "df_2k = df.iloc[:2000] #selecting only 2000 rows\n",
        "df_2kt = dft.iloc[:2000]\n",
        "df_2k.shape"
      ],
      "execution_count": 7,
      "outputs": [
        {
          "output_type": "execute_result",
          "data": {
            "text/plain": [
              "(2000, 5)"
            ]
          },
          "metadata": {
            "tags": []
          },
          "execution_count": 7
        }
      ]
    },
    {
      "cell_type": "code",
      "metadata": {
        "id": "BlLoymUn-j-d",
        "colab_type": "code",
        "colab": {}
      },
      "source": [
        "def punctuation(text): #funtion to remove punctuation\n",
        "  \n",
        "    doc = text.lower()\n",
        "    doc = re.sub(r'<.*?>', ' ', doc)\n",
        "    doc = re.sub(r'\\n', '', doc)\n",
        "    doc = re.sub(r'\\t', '', doc)\n",
        "    doc = re.sub(r'\\r', '', doc)\n",
        "    doc = re.sub(r'[^A-Za-z\\s]', ' ', doc)\n",
        "    return doc\n",
        "\n",
        "def short_words(text): #funtion to remove words whose length is less than three\n",
        "    s_words = ' '.join([w for w in text.split() if len(w)>3])\n",
        "    return s_words\n",
        "\n",
        "def stop_words(text): #funtion to remove stop words\n",
        "    split = text.split()\n",
        "    tokens = [item for item in split if item not in german_stop_words]\n",
        "    final = ' '.join([w for w in tokens])\n",
        "    return final"
      ],
      "execution_count": 0,
      "outputs": []
    },
    {
      "cell_type": "code",
      "metadata": {
        "id": "E-vW6inn-lOO",
        "colab_type": "code",
        "colab": {}
      },
      "source": [
        "def preprocessing(text): #function combined of punctuation, short_words, stop_words\n",
        "    ctext = punctuation(text)\n",
        "    ctext = short_words(ctext)\n",
        "    ctext = stop_words(ctext)\n",
        "    return ctext"
      ],
      "execution_count": 0,
      "outputs": []
    },
    {
      "cell_type": "code",
      "metadata": {
        "id": "dYd5GezWMss4",
        "colab_type": "code",
        "colab": {}
      },
      "source": [
        "def tokenize(string): #function to tokenize\n",
        "    return nltk.tokenize.WordPunctTokenizer().tokenize(string)"
      ],
      "execution_count": 0,
      "outputs": []
    },
    {
      "cell_type": "markdown",
      "metadata": {
        "id": "ELU1hwiSB5-6",
        "colab_type": "text"
      },
      "source": [
        "# Body"
      ]
    },
    {
      "cell_type": "code",
      "metadata": {
        "id": "di6RN_Tj-mnS",
        "colab_type": "code",
        "colab": {
          "base_uri": "https://localhost:8080/",
          "height": 119
        },
        "outputId": "5bb916b6-0b58-490c-f8e5-afdebd43dad3"
      },
      "source": [
        "df_2k['Body']=df_2k['Body'].apply(preprocessing) #applying preprocessing to Body Column"
      ],
      "execution_count": 11,
      "outputs": [
        {
          "output_type": "stream",
          "text": [
            "/usr/local/lib/python3.6/dist-packages/ipykernel_launcher.py:1: SettingWithCopyWarning: \n",
            "A value is trying to be set on a copy of a slice from a DataFrame.\n",
            "Try using .loc[row_indexer,col_indexer] = value instead\n",
            "\n",
            "See the caveats in the documentation: http://pandas.pydata.org/pandas-docs/stable/user_guide/indexing.html#returning-a-view-versus-a-copy\n",
            "  \"\"\"Entry point for launching an IPython kernel.\n"
          ],
          "name": "stderr"
        }
      ]
    },
    {
      "cell_type": "code",
      "metadata": {
        "id": "KUFU14jp-n3-",
        "colab_type": "code",
        "colab": {
          "base_uri": "https://localhost:8080/",
          "height": 34
        },
        "outputId": "cb7c743b-cfdf-4134-d3e3-78fd5379de5a"
      },
      "source": [
        "print(len(df_2k['Body'][0].split()))"
      ],
      "execution_count": 12,
      "outputs": [
        {
          "output_type": "stream",
          "text": [
            "173\n"
          ],
          "name": "stdout"
        }
      ]
    },
    {
      "cell_type": "code",
      "metadata": {
        "id": "sOpe9k_0-p0C",
        "colab_type": "code",
        "colab": {
          "base_uri": "https://localhost:8080/",
          "height": 34
        },
        "outputId": "7197e28e-543f-4353-d6bc-58b84ee14089"
      },
      "source": [
        "print(len(df_2k['Body'][0]))"
      ],
      "execution_count": 13,
      "outputs": [
        {
          "output_type": "stream",
          "text": [
            "1505\n"
          ],
          "name": "stdout"
        }
      ]
    },
    {
      "cell_type": "code",
      "metadata": {
        "id": "qD_EEpLa-uSQ",
        "colab_type": "code",
        "colab": {
          "base_uri": "https://localhost:8080/",
          "height": 54
        },
        "outputId": "f6009d53-d461-46e6-dc81-86c8b63dc5ed"
      },
      "source": [
        "df_2k['Body'][0]"
      ],
      "execution_count": 14,
      "outputs": [
        {
          "output_type": "execute_result",
          "data": {
            "text/plain": [
              "'abonnieren unserer newsletter lassen aktuelle nachrichten mail zuschicken derstandard bietet vielzahl themenbezogener newsletter motto nachrichten echtzeit liefert derstandard wichtigsten meldungen tages mail html textversion derstandard newsletter nnen kostenloses newsletter abonnement bequem abmelden newsletter berblick mail newsroom spitzenmeldungen newsroom ressorts mail meinung aktuelle kommentare kolumnen mail internationalpolitik news internationale geschehen mail innenpolitik news innenpolitische geschehen mail wirtschaft nachrichten unternehmens wirtschaftsbranche mail finanz finanz news mail webstandard neueste netz technologie mail sport spitzenmeldungen sportressort mail panorama meldungen chronik gesellschaft umwelt wien mail etat aktuelles medien werbung sowie newsflash mail kultur aktuelle kultur nachrichten alert mail brandaktuelle meldungen besonderer wichtigkeit liefert mail chentliche newsletter weekly mail mail informiert jeweils wochenmitte neuigkeiten rund angebot derstandard bringt highlights ressorts mail gesundheit chentliche berblick aktuellen gesundheitsthemen mail bildung chentliche berblick bildung mail lifestyle chentliche news essen mode design mail reise berichte tipps rund reisen mail karriere karrieretipps arbeitsleben hrungsfragen mail immobilien neueste welt wohnens mail autos chentliche news test berichte rund autos motorr mail user beitr user community mail gewinnspiele infos aktuellen gewinnspielen link login registrierung mail abos verwalten'"
            ]
          },
          "metadata": {
            "tags": []
          },
          "execution_count": 14
        }
      ]
    },
    {
      "cell_type": "code",
      "metadata": {
        "id": "dwE46bM2-1d_",
        "colab_type": "code",
        "colab": {
          "base_uri": "https://localhost:8080/",
          "height": 34
        },
        "outputId": "97bf781c-e98b-48d9-8639-60ef78906958"
      },
      "source": [
        "print(len(df_2kt['Body_y'][0]))"
      ],
      "execution_count": 15,
      "outputs": [
        {
          "output_type": "stream",
          "text": [
            "2924\n"
          ],
          "name": "stdout"
        }
      ]
    },
    {
      "cell_type": "code",
      "metadata": {
        "id": "JHhemdUT-36e",
        "colab_type": "code",
        "colab": {
          "base_uri": "https://localhost:8080/",
          "height": 253
        },
        "outputId": "cb28ca59-3f2a-4158-90a4-d081d877683c"
      },
      "source": [
        "tfidfb = TfidfVectorizer() #defining tfidf vectorizer for body\n",
        "c_corpus = ['{}'.format(text) for text in df_2k['Body']] #forming corpus\n",
        "c_corpus\n",
        "XB = tfidfb.fit_transform(c_corpus) #fitting tfidf for body\n",
        "f_names = tfidfb.get_feature_names()\n",
        "dense = XB.todense().tolist()\n",
        "new_df = pd.DataFrame(dense,columns=f_names)\n",
        "new_df.head()"
      ],
      "execution_count": 16,
      "outputs": [
        {
          "output_type": "execute_result",
          "data": {
            "text/html": [
              "<div>\n",
              "<style scoped>\n",
              "    .dataframe tbody tr th:only-of-type {\n",
              "        vertical-align: middle;\n",
              "    }\n",
              "\n",
              "    .dataframe tbody tr th {\n",
              "        vertical-align: top;\n",
              "    }\n",
              "\n",
              "    .dataframe thead th {\n",
              "        text-align: right;\n",
              "    }\n",
              "</style>\n",
              "<table border=\"1\" class=\"dataframe\">\n",
              "  <thead>\n",
              "    <tr style=\"text-align: right;\">\n",
              "      <th></th>\n",
              "      <th>aaaaaaatemlos</th>\n",
              "      <th>aachen</th>\n",
              "      <th>aalen</th>\n",
              "      <th>aalglatte</th>\n",
              "      <th>aaron</th>\n",
              "      <th>aatt</th>\n",
              "      <th>abac</th>\n",
              "      <th>abadi</th>\n",
              "      <th>abarbeiten</th>\n",
              "      <th>abba</th>\n",
              "      <th>abbas</th>\n",
              "      <th>abbau</th>\n",
              "      <th>abbauarbeiten</th>\n",
              "      <th>abbaubank</th>\n",
              "      <th>abbaubaren</th>\n",
              "      <th>abbaueinheit</th>\n",
              "      <th>abbauen</th>\n",
              "      <th>abbaugesellschaft</th>\n",
              "      <th>abbaut</th>\n",
              "      <th>abbauteil</th>\n",
              "      <th>abbei</th>\n",
              "      <th>abberuft</th>\n",
              "      <th>abbey</th>\n",
              "      <th>abbezahlt</th>\n",
              "      <th>abbiegen</th>\n",
              "      <th>abbild</th>\n",
              "      <th>abbilde</th>\n",
              "      <th>abbilden</th>\n",
              "      <th>abbildung</th>\n",
              "      <th>abbildungen</th>\n",
              "      <th>abblitzen</th>\n",
              "      <th>abbr</th>\n",
              "      <th>abbrach</th>\n",
              "      <th>abbrechen</th>\n",
              "      <th>abbremsblase</th>\n",
              "      <th>abbremsen</th>\n",
              "      <th>abbremst</th>\n",
              "      <th>abbringen</th>\n",
              "      <th>abbruch</th>\n",
              "      <th>abbruchh</th>\n",
              "      <th>...</th>\n",
              "      <th>zwischenl</th>\n",
              "      <th>zwischenlanden</th>\n",
              "      <th>zwischenmahlzeiten</th>\n",
              "      <th>zwischenmenschliche</th>\n",
              "      <th>zwischenmoderationen</th>\n",
              "      <th>zwischennutzungen</th>\n",
              "      <th>zwischennutzungsprojekt</th>\n",
              "      <th>zwischenruf</th>\n",
              "      <th>zwischenrufe</th>\n",
              "      <th>zwischenrufen</th>\n",
              "      <th>zwischenrufs</th>\n",
              "      <th>zwischenschritt</th>\n",
              "      <th>zwischenspiele</th>\n",
              "      <th>zwischenstadium</th>\n",
              "      <th>zwischenstand</th>\n",
              "      <th>zwischenstation</th>\n",
              "      <th>zwischenstopp</th>\n",
              "      <th>zwischent</th>\n",
              "      <th>zwischenzeit</th>\n",
              "      <th>zwischenzeitlich</th>\n",
              "      <th>zwischenzeitlichem</th>\n",
              "      <th>zwischenzeitlichen</th>\n",
              "      <th>zwist</th>\n",
              "      <th>zwistigkeiten</th>\n",
              "      <th>zwitschern</th>\n",
              "      <th>zwittern</th>\n",
              "      <th>zyklischen</th>\n",
              "      <th>zyklus</th>\n",
              "      <th>zylinder</th>\n",
              "      <th>zylinderkopf</th>\n",
              "      <th>zynisch</th>\n",
              "      <th>zynischer</th>\n",
              "      <th>zynismus</th>\n",
              "      <th>zypern</th>\n",
              "      <th>zyperngras</th>\n",
              "      <th>zyperns</th>\n",
              "      <th>zyprioten</th>\n",
              "      <th>zypriotischen</th>\n",
              "      <th>zytostatika</th>\n",
              "      <th>zywteyx</th>\n",
              "    </tr>\n",
              "  </thead>\n",
              "  <tbody>\n",
              "    <tr>\n",
              "      <th>0</th>\n",
              "      <td>0.0</td>\n",
              "      <td>0.0</td>\n",
              "      <td>0.0</td>\n",
              "      <td>0.0</td>\n",
              "      <td>0.0</td>\n",
              "      <td>0.0</td>\n",
              "      <td>0.0</td>\n",
              "      <td>0.0</td>\n",
              "      <td>0.0</td>\n",
              "      <td>0.0</td>\n",
              "      <td>0.0</td>\n",
              "      <td>0.0</td>\n",
              "      <td>0.0</td>\n",
              "      <td>0.0</td>\n",
              "      <td>0.0</td>\n",
              "      <td>0.0</td>\n",
              "      <td>0.0</td>\n",
              "      <td>0.0</td>\n",
              "      <td>0.0</td>\n",
              "      <td>0.0</td>\n",
              "      <td>0.0</td>\n",
              "      <td>0.0</td>\n",
              "      <td>0.0</td>\n",
              "      <td>0.0</td>\n",
              "      <td>0.0</td>\n",
              "      <td>0.0</td>\n",
              "      <td>0.0</td>\n",
              "      <td>0.000000</td>\n",
              "      <td>0.0</td>\n",
              "      <td>0.0</td>\n",
              "      <td>0.0</td>\n",
              "      <td>0.0</td>\n",
              "      <td>0.0</td>\n",
              "      <td>0.0</td>\n",
              "      <td>0.0</td>\n",
              "      <td>0.0</td>\n",
              "      <td>0.0</td>\n",
              "      <td>0.0</td>\n",
              "      <td>0.0</td>\n",
              "      <td>0.0</td>\n",
              "      <td>...</td>\n",
              "      <td>0.0</td>\n",
              "      <td>0.0</td>\n",
              "      <td>0.0</td>\n",
              "      <td>0.0</td>\n",
              "      <td>0.0</td>\n",
              "      <td>0.0</td>\n",
              "      <td>0.0</td>\n",
              "      <td>0.0</td>\n",
              "      <td>0.0</td>\n",
              "      <td>0.0</td>\n",
              "      <td>0.0</td>\n",
              "      <td>0.0</td>\n",
              "      <td>0.0</td>\n",
              "      <td>0.0</td>\n",
              "      <td>0.0</td>\n",
              "      <td>0.0</td>\n",
              "      <td>0.0</td>\n",
              "      <td>0.0</td>\n",
              "      <td>0.0</td>\n",
              "      <td>0.0</td>\n",
              "      <td>0.0</td>\n",
              "      <td>0.0</td>\n",
              "      <td>0.0</td>\n",
              "      <td>0.0</td>\n",
              "      <td>0.0</td>\n",
              "      <td>0.0</td>\n",
              "      <td>0.0</td>\n",
              "      <td>0.0</td>\n",
              "      <td>0.0</td>\n",
              "      <td>0.0</td>\n",
              "      <td>0.0</td>\n",
              "      <td>0.0</td>\n",
              "      <td>0.0</td>\n",
              "      <td>0.0</td>\n",
              "      <td>0.0</td>\n",
              "      <td>0.0</td>\n",
              "      <td>0.0</td>\n",
              "      <td>0.0</td>\n",
              "      <td>0.0</td>\n",
              "      <td>0.0</td>\n",
              "    </tr>\n",
              "    <tr>\n",
              "      <th>1</th>\n",
              "      <td>0.0</td>\n",
              "      <td>0.0</td>\n",
              "      <td>0.0</td>\n",
              "      <td>0.0</td>\n",
              "      <td>0.0</td>\n",
              "      <td>0.0</td>\n",
              "      <td>0.0</td>\n",
              "      <td>0.0</td>\n",
              "      <td>0.0</td>\n",
              "      <td>0.0</td>\n",
              "      <td>0.0</td>\n",
              "      <td>0.0</td>\n",
              "      <td>0.0</td>\n",
              "      <td>0.0</td>\n",
              "      <td>0.0</td>\n",
              "      <td>0.0</td>\n",
              "      <td>0.0</td>\n",
              "      <td>0.0</td>\n",
              "      <td>0.0</td>\n",
              "      <td>0.0</td>\n",
              "      <td>0.0</td>\n",
              "      <td>0.0</td>\n",
              "      <td>0.0</td>\n",
              "      <td>0.0</td>\n",
              "      <td>0.0</td>\n",
              "      <td>0.0</td>\n",
              "      <td>0.0</td>\n",
              "      <td>0.000000</td>\n",
              "      <td>0.0</td>\n",
              "      <td>0.0</td>\n",
              "      <td>0.0</td>\n",
              "      <td>0.0</td>\n",
              "      <td>0.0</td>\n",
              "      <td>0.0</td>\n",
              "      <td>0.0</td>\n",
              "      <td>0.0</td>\n",
              "      <td>0.0</td>\n",
              "      <td>0.0</td>\n",
              "      <td>0.0</td>\n",
              "      <td>0.0</td>\n",
              "      <td>...</td>\n",
              "      <td>0.0</td>\n",
              "      <td>0.0</td>\n",
              "      <td>0.0</td>\n",
              "      <td>0.0</td>\n",
              "      <td>0.0</td>\n",
              "      <td>0.0</td>\n",
              "      <td>0.0</td>\n",
              "      <td>0.0</td>\n",
              "      <td>0.0</td>\n",
              "      <td>0.0</td>\n",
              "      <td>0.0</td>\n",
              "      <td>0.0</td>\n",
              "      <td>0.0</td>\n",
              "      <td>0.0</td>\n",
              "      <td>0.0</td>\n",
              "      <td>0.0</td>\n",
              "      <td>0.0</td>\n",
              "      <td>0.0</td>\n",
              "      <td>0.0</td>\n",
              "      <td>0.0</td>\n",
              "      <td>0.0</td>\n",
              "      <td>0.0</td>\n",
              "      <td>0.0</td>\n",
              "      <td>0.0</td>\n",
              "      <td>0.0</td>\n",
              "      <td>0.0</td>\n",
              "      <td>0.0</td>\n",
              "      <td>0.0</td>\n",
              "      <td>0.0</td>\n",
              "      <td>0.0</td>\n",
              "      <td>0.0</td>\n",
              "      <td>0.0</td>\n",
              "      <td>0.0</td>\n",
              "      <td>0.0</td>\n",
              "      <td>0.0</td>\n",
              "      <td>0.0</td>\n",
              "      <td>0.0</td>\n",
              "      <td>0.0</td>\n",
              "      <td>0.0</td>\n",
              "      <td>0.0</td>\n",
              "    </tr>\n",
              "    <tr>\n",
              "      <th>2</th>\n",
              "      <td>0.0</td>\n",
              "      <td>0.0</td>\n",
              "      <td>0.0</td>\n",
              "      <td>0.0</td>\n",
              "      <td>0.0</td>\n",
              "      <td>0.0</td>\n",
              "      <td>0.0</td>\n",
              "      <td>0.0</td>\n",
              "      <td>0.0</td>\n",
              "      <td>0.0</td>\n",
              "      <td>0.0</td>\n",
              "      <td>0.0</td>\n",
              "      <td>0.0</td>\n",
              "      <td>0.0</td>\n",
              "      <td>0.0</td>\n",
              "      <td>0.0</td>\n",
              "      <td>0.0</td>\n",
              "      <td>0.0</td>\n",
              "      <td>0.0</td>\n",
              "      <td>0.0</td>\n",
              "      <td>0.0</td>\n",
              "      <td>0.0</td>\n",
              "      <td>0.0</td>\n",
              "      <td>0.0</td>\n",
              "      <td>0.0</td>\n",
              "      <td>0.0</td>\n",
              "      <td>0.0</td>\n",
              "      <td>0.000000</td>\n",
              "      <td>0.0</td>\n",
              "      <td>0.0</td>\n",
              "      <td>0.0</td>\n",
              "      <td>0.0</td>\n",
              "      <td>0.0</td>\n",
              "      <td>0.0</td>\n",
              "      <td>0.0</td>\n",
              "      <td>0.0</td>\n",
              "      <td>0.0</td>\n",
              "      <td>0.0</td>\n",
              "      <td>0.0</td>\n",
              "      <td>0.0</td>\n",
              "      <td>...</td>\n",
              "      <td>0.0</td>\n",
              "      <td>0.0</td>\n",
              "      <td>0.0</td>\n",
              "      <td>0.0</td>\n",
              "      <td>0.0</td>\n",
              "      <td>0.0</td>\n",
              "      <td>0.0</td>\n",
              "      <td>0.0</td>\n",
              "      <td>0.0</td>\n",
              "      <td>0.0</td>\n",
              "      <td>0.0</td>\n",
              "      <td>0.0</td>\n",
              "      <td>0.0</td>\n",
              "      <td>0.0</td>\n",
              "      <td>0.0</td>\n",
              "      <td>0.0</td>\n",
              "      <td>0.0</td>\n",
              "      <td>0.0</td>\n",
              "      <td>0.0</td>\n",
              "      <td>0.0</td>\n",
              "      <td>0.0</td>\n",
              "      <td>0.0</td>\n",
              "      <td>0.0</td>\n",
              "      <td>0.0</td>\n",
              "      <td>0.0</td>\n",
              "      <td>0.0</td>\n",
              "      <td>0.0</td>\n",
              "      <td>0.0</td>\n",
              "      <td>0.0</td>\n",
              "      <td>0.0</td>\n",
              "      <td>0.0</td>\n",
              "      <td>0.0</td>\n",
              "      <td>0.0</td>\n",
              "      <td>0.0</td>\n",
              "      <td>0.0</td>\n",
              "      <td>0.0</td>\n",
              "      <td>0.0</td>\n",
              "      <td>0.0</td>\n",
              "      <td>0.0</td>\n",
              "      <td>0.0</td>\n",
              "    </tr>\n",
              "    <tr>\n",
              "      <th>3</th>\n",
              "      <td>0.0</td>\n",
              "      <td>0.0</td>\n",
              "      <td>0.0</td>\n",
              "      <td>0.0</td>\n",
              "      <td>0.0</td>\n",
              "      <td>0.0</td>\n",
              "      <td>0.0</td>\n",
              "      <td>0.0</td>\n",
              "      <td>0.0</td>\n",
              "      <td>0.0</td>\n",
              "      <td>0.0</td>\n",
              "      <td>0.0</td>\n",
              "      <td>0.0</td>\n",
              "      <td>0.0</td>\n",
              "      <td>0.0</td>\n",
              "      <td>0.0</td>\n",
              "      <td>0.0</td>\n",
              "      <td>0.0</td>\n",
              "      <td>0.0</td>\n",
              "      <td>0.0</td>\n",
              "      <td>0.0</td>\n",
              "      <td>0.0</td>\n",
              "      <td>0.0</td>\n",
              "      <td>0.0</td>\n",
              "      <td>0.0</td>\n",
              "      <td>0.0</td>\n",
              "      <td>0.0</td>\n",
              "      <td>0.000000</td>\n",
              "      <td>0.0</td>\n",
              "      <td>0.0</td>\n",
              "      <td>0.0</td>\n",
              "      <td>0.0</td>\n",
              "      <td>0.0</td>\n",
              "      <td>0.0</td>\n",
              "      <td>0.0</td>\n",
              "      <td>0.0</td>\n",
              "      <td>0.0</td>\n",
              "      <td>0.0</td>\n",
              "      <td>0.0</td>\n",
              "      <td>0.0</td>\n",
              "      <td>...</td>\n",
              "      <td>0.0</td>\n",
              "      <td>0.0</td>\n",
              "      <td>0.0</td>\n",
              "      <td>0.0</td>\n",
              "      <td>0.0</td>\n",
              "      <td>0.0</td>\n",
              "      <td>0.0</td>\n",
              "      <td>0.0</td>\n",
              "      <td>0.0</td>\n",
              "      <td>0.0</td>\n",
              "      <td>0.0</td>\n",
              "      <td>0.0</td>\n",
              "      <td>0.0</td>\n",
              "      <td>0.0</td>\n",
              "      <td>0.0</td>\n",
              "      <td>0.0</td>\n",
              "      <td>0.0</td>\n",
              "      <td>0.0</td>\n",
              "      <td>0.0</td>\n",
              "      <td>0.0</td>\n",
              "      <td>0.0</td>\n",
              "      <td>0.0</td>\n",
              "      <td>0.0</td>\n",
              "      <td>0.0</td>\n",
              "      <td>0.0</td>\n",
              "      <td>0.0</td>\n",
              "      <td>0.0</td>\n",
              "      <td>0.0</td>\n",
              "      <td>0.0</td>\n",
              "      <td>0.0</td>\n",
              "      <td>0.0</td>\n",
              "      <td>0.0</td>\n",
              "      <td>0.0</td>\n",
              "      <td>0.0</td>\n",
              "      <td>0.0</td>\n",
              "      <td>0.0</td>\n",
              "      <td>0.0</td>\n",
              "      <td>0.0</td>\n",
              "      <td>0.0</td>\n",
              "      <td>0.0</td>\n",
              "    </tr>\n",
              "    <tr>\n",
              "      <th>4</th>\n",
              "      <td>0.0</td>\n",
              "      <td>0.0</td>\n",
              "      <td>0.0</td>\n",
              "      <td>0.0</td>\n",
              "      <td>0.0</td>\n",
              "      <td>0.0</td>\n",
              "      <td>0.0</td>\n",
              "      <td>0.0</td>\n",
              "      <td>0.0</td>\n",
              "      <td>0.0</td>\n",
              "      <td>0.0</td>\n",
              "      <td>0.0</td>\n",
              "      <td>0.0</td>\n",
              "      <td>0.0</td>\n",
              "      <td>0.0</td>\n",
              "      <td>0.0</td>\n",
              "      <td>0.0</td>\n",
              "      <td>0.0</td>\n",
              "      <td>0.0</td>\n",
              "      <td>0.0</td>\n",
              "      <td>0.0</td>\n",
              "      <td>0.0</td>\n",
              "      <td>0.0</td>\n",
              "      <td>0.0</td>\n",
              "      <td>0.0</td>\n",
              "      <td>0.0</td>\n",
              "      <td>0.0</td>\n",
              "      <td>0.104473</td>\n",
              "      <td>0.0</td>\n",
              "      <td>0.0</td>\n",
              "      <td>0.0</td>\n",
              "      <td>0.0</td>\n",
              "      <td>0.0</td>\n",
              "      <td>0.0</td>\n",
              "      <td>0.0</td>\n",
              "      <td>0.0</td>\n",
              "      <td>0.0</td>\n",
              "      <td>0.0</td>\n",
              "      <td>0.0</td>\n",
              "      <td>0.0</td>\n",
              "      <td>...</td>\n",
              "      <td>0.0</td>\n",
              "      <td>0.0</td>\n",
              "      <td>0.0</td>\n",
              "      <td>0.0</td>\n",
              "      <td>0.0</td>\n",
              "      <td>0.0</td>\n",
              "      <td>0.0</td>\n",
              "      <td>0.0</td>\n",
              "      <td>0.0</td>\n",
              "      <td>0.0</td>\n",
              "      <td>0.0</td>\n",
              "      <td>0.0</td>\n",
              "      <td>0.0</td>\n",
              "      <td>0.0</td>\n",
              "      <td>0.0</td>\n",
              "      <td>0.0</td>\n",
              "      <td>0.0</td>\n",
              "      <td>0.0</td>\n",
              "      <td>0.0</td>\n",
              "      <td>0.0</td>\n",
              "      <td>0.0</td>\n",
              "      <td>0.0</td>\n",
              "      <td>0.0</td>\n",
              "      <td>0.0</td>\n",
              "      <td>0.0</td>\n",
              "      <td>0.0</td>\n",
              "      <td>0.0</td>\n",
              "      <td>0.0</td>\n",
              "      <td>0.0</td>\n",
              "      <td>0.0</td>\n",
              "      <td>0.0</td>\n",
              "      <td>0.0</td>\n",
              "      <td>0.0</td>\n",
              "      <td>0.0</td>\n",
              "      <td>0.0</td>\n",
              "      <td>0.0</td>\n",
              "      <td>0.0</td>\n",
              "      <td>0.0</td>\n",
              "      <td>0.0</td>\n",
              "      <td>0.0</td>\n",
              "    </tr>\n",
              "  </tbody>\n",
              "</table>\n",
              "<p>5 rows × 71054 columns</p>\n",
              "</div>"
            ],
            "text/plain": [
              "   aaaaaaatemlos  aachen  aalen  ...  zypriotischen  zytostatika  zywteyx\n",
              "0            0.0     0.0    0.0  ...            0.0          0.0      0.0\n",
              "1            0.0     0.0    0.0  ...            0.0          0.0      0.0\n",
              "2            0.0     0.0    0.0  ...            0.0          0.0      0.0\n",
              "3            0.0     0.0    0.0  ...            0.0          0.0      0.0\n",
              "4            0.0     0.0    0.0  ...            0.0          0.0      0.0\n",
              "\n",
              "[5 rows x 71054 columns]"
            ]
          },
          "metadata": {
            "tags": []
          },
          "execution_count": 16
        }
      ]
    },
    {
      "cell_type": "code",
      "metadata": {
        "id": "GzCJfc7h-5jD",
        "colab_type": "code",
        "colab": {
          "base_uri": "https://localhost:8080/",
          "height": 289
        },
        "outputId": "327b7815-c10b-44b3-8388-1f922518ce81"
      },
      "source": [
        "warnings.simplefilter(\"ignore\", DeprecationWarning)\n",
        " \n",
        "# Helper function\n",
        "def print_topics(model, tfidf, n_top_words):\n",
        "    words = tfidf.get_feature_names()\n",
        "    for topic_idx, topic in enumerate(model.components_):\n",
        "        print(\"\\nTopic #%d:\" % topic_idx)\n",
        "        print(\" \".join([words[i]\n",
        "                        for i in topic.argsort()[:-n_top_words - 1:-1]]))\n",
        "        \n",
        "# Tweak the two parameters below\n",
        "number_topics = 5\n",
        "number_words = 5\n",
        "# Create and fit the LDA model\n",
        "ldab = LDA(n_components=number_topics, n_jobs=-1)\n",
        "ldab.fit(XB)\n",
        "# Print the topics found by the LDA model\n",
        "print(\"Topics found via LDA:\")\n",
        "print_topics(ldab, tfidfb, number_words)"
      ],
      "execution_count": 17,
      "outputs": [
        {
          "output_type": "stream",
          "text": [
            "Topics found via LDA:\n",
            "\n",
            "Topic #0:\n",
            "volltext basierenden agenturmeldungen artikels rechtlichen\n",
            "\n",
            "Topic #1:\n",
            "android nexus nintendo klimt ampelp\n",
            "\n",
            "Topic #2:\n",
            "sporttabellenteaser params ajax success ball\n",
            "\n",
            "Topic #3:\n",
            "prozent euro mehr wurde sterreich\n",
            "\n",
            "Topic #4:\n",
            "mensdorff grad pouilly telekom philae\n"
          ],
          "name": "stdout"
        }
      ]
    },
    {
      "cell_type": "code",
      "metadata": {
        "id": "Bt-_WZZaiWFP",
        "colab_type": "code",
        "colab": {
          "base_uri": "https://localhost:8080/",
          "height": 136
        },
        "outputId": "70ef5b81-0083-43b5-caf3-d5b5b87ca53b"
      },
      "source": [
        "ldab.transform(XB)"
      ],
      "execution_count": 18,
      "outputs": [
        {
          "output_type": "execute_result",
          "data": {
            "text/plain": [
              "array([[0.02892023, 0.02915217, 0.02895243, 0.88331973, 0.02965543],\n",
              "       [0.02079293, 0.02070026, 0.02076849, 0.91702509, 0.02071323],\n",
              "       [0.01625487, 0.01627112, 0.01628649, 0.93491749, 0.01627003],\n",
              "       ...,\n",
              "       [0.01455115, 0.01453421, 0.2423313 , 0.71397241, 0.01461093],\n",
              "       [0.02118161, 0.02120742, 0.31930159, 0.61704532, 0.02126406],\n",
              "       [0.02048033, 0.02043029, 0.22551352, 0.71311623, 0.02045963]])"
            ]
          },
          "metadata": {
            "tags": []
          },
          "execution_count": 18
        }
      ]
    },
    {
      "cell_type": "markdown",
      "metadata": {
        "id": "3LZ1iWloB_r9",
        "colab_type": "text"
      },
      "source": [
        "# Title"
      ]
    },
    {
      "cell_type": "code",
      "metadata": {
        "id": "cEy3UROgBAa6",
        "colab_type": "code",
        "colab": {
          "base_uri": "https://localhost:8080/",
          "height": 119
        },
        "outputId": "33ae0beb-9afa-4e11-f7b3-67594f02c95d"
      },
      "source": [
        "df_2k['Title']=df_2k['Title'].apply(preprocessing) #applying preprocessing to Title Column"
      ],
      "execution_count": 19,
      "outputs": [
        {
          "output_type": "stream",
          "text": [
            "/usr/local/lib/python3.6/dist-packages/ipykernel_launcher.py:1: SettingWithCopyWarning: \n",
            "A value is trying to be set on a copy of a slice from a DataFrame.\n",
            "Try using .loc[row_indexer,col_indexer] = value instead\n",
            "\n",
            "See the caveats in the documentation: http://pandas.pydata.org/pandas-docs/stable/user_guide/indexing.html#returning-a-view-versus-a-copy\n",
            "  \"\"\"Entry point for launching an IPython kernel.\n"
          ],
          "name": "stderr"
        }
      ]
    },
    {
      "cell_type": "code",
      "metadata": {
        "id": "Eekig_XVCRkT",
        "colab_type": "code",
        "colab": {
          "base_uri": "https://localhost:8080/",
          "height": 34
        },
        "outputId": "b282108f-b9c3-45ef-ae17-6696c2938eb0"
      },
      "source": [
        "print(len(df_2k['Title'][0].split()))"
      ],
      "execution_count": 20,
      "outputs": [
        {
          "output_type": "stream",
          "text": [
            "2\n"
          ],
          "name": "stdout"
        }
      ]
    },
    {
      "cell_type": "code",
      "metadata": {
        "id": "Ii9re-RxCU3b",
        "colab_type": "code",
        "colab": {
          "base_uri": "https://localhost:8080/",
          "height": 34
        },
        "outputId": "f797c326-8ed4-4056-a589-67463590f4b9"
      },
      "source": [
        "print(len(df_2k['Title'][0]))"
      ],
      "execution_count": 21,
      "outputs": [
        {
          "output_type": "stream",
          "text": [
            "22\n"
          ],
          "name": "stdout"
        }
      ]
    },
    {
      "cell_type": "code",
      "metadata": {
        "id": "dmKOtnYCCU1K",
        "colab_type": "code",
        "colab": {
          "base_uri": "https://localhost:8080/",
          "height": 34
        },
        "outputId": "b47c4a3a-02e6-4cd8-e12f-8d57bb2f4b13"
      },
      "source": [
        "df_2k['Title'][0]"
      ],
      "execution_count": 22,
      "outputs": [
        {
          "output_type": "execute_result",
          "data": {
            "text/plain": [
              "'newsletter derstandard'"
            ]
          },
          "metadata": {
            "tags": []
          },
          "execution_count": 22
        }
      ]
    },
    {
      "cell_type": "code",
      "metadata": {
        "id": "fMOgjzi4CU0N",
        "colab_type": "code",
        "colab": {
          "base_uri": "https://localhost:8080/",
          "height": 34
        },
        "outputId": "70ec41a8-366e-495e-e87b-6b1a89a3e395"
      },
      "source": [
        "print(len(df_2kt['Title'][0]))"
      ],
      "execution_count": 23,
      "outputs": [
        {
          "output_type": "stream",
          "text": [
            "33\n"
          ],
          "name": "stdout"
        }
      ]
    },
    {
      "cell_type": "code",
      "metadata": {
        "id": "ypu5M6CyCUyn",
        "colab_type": "code",
        "colab": {
          "base_uri": "https://localhost:8080/",
          "height": 253
        },
        "outputId": "5afedc11-0923-47f7-bac9-4b75afb2f44e"
      },
      "source": [
        "tfidft = TfidfVectorizer() #defining tfidf vectorizer for title\n",
        "c_corpus = ['{}'.format(text) for text in df_2k['Title']] #forming corpus\n",
        "c_corpus\n",
        "XT = tfidft.fit_transform(c_corpus) #fitting tfidf for title\n",
        "f_names = tfidft.get_feature_names()\n",
        "dense = XT.todense().tolist()\n",
        "new_df = pd.DataFrame(dense,columns=f_names)\n",
        "new_df.head()"
      ],
      "execution_count": 24,
      "outputs": [
        {
          "output_type": "execute_result",
          "data": {
            "text/html": [
              "<div>\n",
              "<style scoped>\n",
              "    .dataframe tbody tr th:only-of-type {\n",
              "        vertical-align: middle;\n",
              "    }\n",
              "\n",
              "    .dataframe tbody tr th {\n",
              "        vertical-align: top;\n",
              "    }\n",
              "\n",
              "    .dataframe thead th {\n",
              "        text-align: right;\n",
              "    }\n",
              "</style>\n",
              "<table border=\"1\" class=\"dataframe\">\n",
              "  <thead>\n",
              "    <tr style=\"text-align: right;\">\n",
              "      <th></th>\n",
              "      <th>abbas</th>\n",
              "      <th>abbauarbeiten</th>\n",
              "      <th>abbauen</th>\n",
              "      <th>abbei</th>\n",
              "      <th>abberufung</th>\n",
              "      <th>abblitzen</th>\n",
              "      <th>abdullah</th>\n",
              "      <th>abflug</th>\n",
              "      <th>abgang</th>\n",
              "      <th>abgeblitzt</th>\n",
              "      <th>abgeordnete</th>\n",
              "      <th>abgeordneten</th>\n",
              "      <th>abgeordneter</th>\n",
              "      <th>abgesagt</th>\n",
              "      <th>abgewiesen</th>\n",
              "      <th>abgeworben</th>\n",
              "      <th>abgrund</th>\n",
              "      <th>ablenkungen</th>\n",
              "      <th>ablinger</th>\n",
              "      <th>abmahnungen</th>\n",
              "      <th>abregung</th>\n",
              "      <th>absagen</th>\n",
              "      <th>absatzschwund</th>\n",
              "      <th>abschied</th>\n",
              "      <th>abschlie</th>\n",
              "      <th>abschluss</th>\n",
              "      <th>abschlusspr</th>\n",
              "      <th>abschreckende</th>\n",
              "      <th>abschuss</th>\n",
              "      <th>absitzen</th>\n",
              "      <th>absolute</th>\n",
              "      <th>absolviert</th>\n",
              "      <th>abspielen</th>\n",
              "      <th>abstellgleis</th>\n",
              "      <th>abstieg</th>\n",
              "      <th>abstimmen</th>\n",
              "      <th>abstimmung</th>\n",
              "      <th>absturz</th>\n",
              "      <th>abwehrschlacht</th>\n",
              "      <th>abwertung</th>\n",
              "      <th>...</th>\n",
              "      <th>zittersieg</th>\n",
              "      <th>zivildieners</th>\n",
              "      <th>zivilisten</th>\n",
              "      <th>zivilklage</th>\n",
              "      <th>zocken</th>\n",
              "      <th>zotter</th>\n",
              "      <th>zuckerberg</th>\n",
              "      <th>zufrieden</th>\n",
              "      <th>zugang</th>\n",
              "      <th>zugeben</th>\n",
              "      <th>zugriff</th>\n",
              "      <th>zukunft</th>\n",
              "      <th>zukunftstr</th>\n",
              "      <th>zulieferern</th>\n",
              "      <th>zuordnen</th>\n",
              "      <th>zurechnungsf</th>\n",
              "      <th>zusammenarbeit</th>\n",
              "      <th>zusammenhang</th>\n",
              "      <th>zusammenprall</th>\n",
              "      <th>zusammensto</th>\n",
              "      <th>zuschauerzahl</th>\n",
              "      <th>zuseher</th>\n",
              "      <th>zustimmung</th>\n",
              "      <th>zuversichtlich</th>\n",
              "      <th>zuweisen</th>\n",
              "      <th>zwangsabstieg</th>\n",
              "      <th>zweckbindung</th>\n",
              "      <th>zwecks</th>\n",
              "      <th>zwei</th>\n",
              "      <th>zweier</th>\n",
              "      <th>zweifel</th>\n",
              "      <th>zweimal</th>\n",
              "      <th>zweite</th>\n",
              "      <th>zweiter</th>\n",
              "      <th>zweites</th>\n",
              "      <th>zwergplanet</th>\n",
              "      <th>zwischenf</th>\n",
              "      <th>zwischengelandet</th>\n",
              "      <th>zwist</th>\n",
              "      <th>zypriotischer</th>\n",
              "    </tr>\n",
              "  </thead>\n",
              "  <tbody>\n",
              "    <tr>\n",
              "      <th>0</th>\n",
              "      <td>0.0</td>\n",
              "      <td>0.0</td>\n",
              "      <td>0.0</td>\n",
              "      <td>0.0</td>\n",
              "      <td>0.0</td>\n",
              "      <td>0.0</td>\n",
              "      <td>0.0</td>\n",
              "      <td>0.0</td>\n",
              "      <td>0.0</td>\n",
              "      <td>0.0</td>\n",
              "      <td>0.0</td>\n",
              "      <td>0.0</td>\n",
              "      <td>0.0</td>\n",
              "      <td>0.0</td>\n",
              "      <td>0.0</td>\n",
              "      <td>0.0</td>\n",
              "      <td>0.0</td>\n",
              "      <td>0.0</td>\n",
              "      <td>0.0</td>\n",
              "      <td>0.0</td>\n",
              "      <td>0.0</td>\n",
              "      <td>0.0</td>\n",
              "      <td>0.0</td>\n",
              "      <td>0.0</td>\n",
              "      <td>0.0</td>\n",
              "      <td>0.0</td>\n",
              "      <td>0.0</td>\n",
              "      <td>0.0</td>\n",
              "      <td>0.0</td>\n",
              "      <td>0.0</td>\n",
              "      <td>0.0</td>\n",
              "      <td>0.0</td>\n",
              "      <td>0.0</td>\n",
              "      <td>0.0</td>\n",
              "      <td>0.0</td>\n",
              "      <td>0.0</td>\n",
              "      <td>0.0</td>\n",
              "      <td>0.0</td>\n",
              "      <td>0.0</td>\n",
              "      <td>0.0</td>\n",
              "      <td>...</td>\n",
              "      <td>0.0</td>\n",
              "      <td>0.0</td>\n",
              "      <td>0.0</td>\n",
              "      <td>0.0</td>\n",
              "      <td>0.0</td>\n",
              "      <td>0.0</td>\n",
              "      <td>0.0</td>\n",
              "      <td>0.0</td>\n",
              "      <td>0.0</td>\n",
              "      <td>0.0</td>\n",
              "      <td>0.0</td>\n",
              "      <td>0.0</td>\n",
              "      <td>0.0</td>\n",
              "      <td>0.0</td>\n",
              "      <td>0.0</td>\n",
              "      <td>0.0</td>\n",
              "      <td>0.0</td>\n",
              "      <td>0.0</td>\n",
              "      <td>0.0</td>\n",
              "      <td>0.0</td>\n",
              "      <td>0.0</td>\n",
              "      <td>0.0</td>\n",
              "      <td>0.0</td>\n",
              "      <td>0.0</td>\n",
              "      <td>0.0</td>\n",
              "      <td>0.0</td>\n",
              "      <td>0.0</td>\n",
              "      <td>0.0</td>\n",
              "      <td>0.0</td>\n",
              "      <td>0.0</td>\n",
              "      <td>0.0</td>\n",
              "      <td>0.0</td>\n",
              "      <td>0.0</td>\n",
              "      <td>0.0</td>\n",
              "      <td>0.0</td>\n",
              "      <td>0.0</td>\n",
              "      <td>0.0</td>\n",
              "      <td>0.0</td>\n",
              "      <td>0.0</td>\n",
              "      <td>0.0</td>\n",
              "    </tr>\n",
              "    <tr>\n",
              "      <th>1</th>\n",
              "      <td>0.0</td>\n",
              "      <td>0.0</td>\n",
              "      <td>0.0</td>\n",
              "      <td>0.0</td>\n",
              "      <td>0.0</td>\n",
              "      <td>0.0</td>\n",
              "      <td>0.0</td>\n",
              "      <td>0.0</td>\n",
              "      <td>0.0</td>\n",
              "      <td>0.0</td>\n",
              "      <td>0.0</td>\n",
              "      <td>0.0</td>\n",
              "      <td>0.0</td>\n",
              "      <td>0.0</td>\n",
              "      <td>0.0</td>\n",
              "      <td>0.0</td>\n",
              "      <td>0.0</td>\n",
              "      <td>0.0</td>\n",
              "      <td>0.0</td>\n",
              "      <td>0.0</td>\n",
              "      <td>0.0</td>\n",
              "      <td>0.0</td>\n",
              "      <td>0.0</td>\n",
              "      <td>0.0</td>\n",
              "      <td>0.0</td>\n",
              "      <td>0.0</td>\n",
              "      <td>0.0</td>\n",
              "      <td>0.0</td>\n",
              "      <td>0.0</td>\n",
              "      <td>0.0</td>\n",
              "      <td>0.0</td>\n",
              "      <td>0.0</td>\n",
              "      <td>0.0</td>\n",
              "      <td>0.0</td>\n",
              "      <td>0.0</td>\n",
              "      <td>0.0</td>\n",
              "      <td>0.0</td>\n",
              "      <td>0.0</td>\n",
              "      <td>0.0</td>\n",
              "      <td>0.0</td>\n",
              "      <td>...</td>\n",
              "      <td>0.0</td>\n",
              "      <td>0.0</td>\n",
              "      <td>0.0</td>\n",
              "      <td>0.0</td>\n",
              "      <td>0.0</td>\n",
              "      <td>0.0</td>\n",
              "      <td>0.0</td>\n",
              "      <td>0.0</td>\n",
              "      <td>0.0</td>\n",
              "      <td>0.0</td>\n",
              "      <td>0.0</td>\n",
              "      <td>0.0</td>\n",
              "      <td>0.0</td>\n",
              "      <td>0.0</td>\n",
              "      <td>0.0</td>\n",
              "      <td>0.0</td>\n",
              "      <td>0.0</td>\n",
              "      <td>0.0</td>\n",
              "      <td>0.0</td>\n",
              "      <td>0.0</td>\n",
              "      <td>0.0</td>\n",
              "      <td>0.0</td>\n",
              "      <td>0.0</td>\n",
              "      <td>0.0</td>\n",
              "      <td>0.0</td>\n",
              "      <td>0.0</td>\n",
              "      <td>0.0</td>\n",
              "      <td>0.0</td>\n",
              "      <td>0.0</td>\n",
              "      <td>0.0</td>\n",
              "      <td>0.0</td>\n",
              "      <td>0.0</td>\n",
              "      <td>0.0</td>\n",
              "      <td>0.0</td>\n",
              "      <td>0.0</td>\n",
              "      <td>0.0</td>\n",
              "      <td>0.0</td>\n",
              "      <td>0.0</td>\n",
              "      <td>0.0</td>\n",
              "      <td>0.0</td>\n",
              "    </tr>\n",
              "    <tr>\n",
              "      <th>2</th>\n",
              "      <td>0.0</td>\n",
              "      <td>0.0</td>\n",
              "      <td>0.0</td>\n",
              "      <td>0.0</td>\n",
              "      <td>0.0</td>\n",
              "      <td>0.0</td>\n",
              "      <td>0.0</td>\n",
              "      <td>0.0</td>\n",
              "      <td>0.0</td>\n",
              "      <td>0.0</td>\n",
              "      <td>0.0</td>\n",
              "      <td>0.0</td>\n",
              "      <td>0.0</td>\n",
              "      <td>0.0</td>\n",
              "      <td>0.0</td>\n",
              "      <td>0.0</td>\n",
              "      <td>0.0</td>\n",
              "      <td>0.0</td>\n",
              "      <td>0.0</td>\n",
              "      <td>0.0</td>\n",
              "      <td>0.0</td>\n",
              "      <td>0.0</td>\n",
              "      <td>0.0</td>\n",
              "      <td>0.0</td>\n",
              "      <td>0.0</td>\n",
              "      <td>0.0</td>\n",
              "      <td>0.0</td>\n",
              "      <td>0.0</td>\n",
              "      <td>0.0</td>\n",
              "      <td>0.0</td>\n",
              "      <td>0.0</td>\n",
              "      <td>0.0</td>\n",
              "      <td>0.0</td>\n",
              "      <td>0.0</td>\n",
              "      <td>0.0</td>\n",
              "      <td>0.0</td>\n",
              "      <td>0.0</td>\n",
              "      <td>0.0</td>\n",
              "      <td>0.0</td>\n",
              "      <td>0.0</td>\n",
              "      <td>...</td>\n",
              "      <td>0.0</td>\n",
              "      <td>0.0</td>\n",
              "      <td>0.0</td>\n",
              "      <td>0.0</td>\n",
              "      <td>0.0</td>\n",
              "      <td>0.0</td>\n",
              "      <td>0.0</td>\n",
              "      <td>0.0</td>\n",
              "      <td>0.0</td>\n",
              "      <td>0.0</td>\n",
              "      <td>0.0</td>\n",
              "      <td>0.0</td>\n",
              "      <td>0.0</td>\n",
              "      <td>0.0</td>\n",
              "      <td>0.0</td>\n",
              "      <td>0.0</td>\n",
              "      <td>0.0</td>\n",
              "      <td>0.0</td>\n",
              "      <td>0.0</td>\n",
              "      <td>0.0</td>\n",
              "      <td>0.0</td>\n",
              "      <td>0.0</td>\n",
              "      <td>0.0</td>\n",
              "      <td>0.0</td>\n",
              "      <td>0.0</td>\n",
              "      <td>0.0</td>\n",
              "      <td>0.0</td>\n",
              "      <td>0.0</td>\n",
              "      <td>0.0</td>\n",
              "      <td>0.0</td>\n",
              "      <td>0.0</td>\n",
              "      <td>0.0</td>\n",
              "      <td>0.0</td>\n",
              "      <td>0.0</td>\n",
              "      <td>0.0</td>\n",
              "      <td>0.0</td>\n",
              "      <td>0.0</td>\n",
              "      <td>0.0</td>\n",
              "      <td>0.0</td>\n",
              "      <td>0.0</td>\n",
              "    </tr>\n",
              "    <tr>\n",
              "      <th>3</th>\n",
              "      <td>0.0</td>\n",
              "      <td>0.0</td>\n",
              "      <td>0.0</td>\n",
              "      <td>0.0</td>\n",
              "      <td>0.0</td>\n",
              "      <td>0.0</td>\n",
              "      <td>0.0</td>\n",
              "      <td>0.0</td>\n",
              "      <td>0.0</td>\n",
              "      <td>0.0</td>\n",
              "      <td>0.0</td>\n",
              "      <td>0.0</td>\n",
              "      <td>0.0</td>\n",
              "      <td>0.0</td>\n",
              "      <td>0.0</td>\n",
              "      <td>0.0</td>\n",
              "      <td>0.0</td>\n",
              "      <td>0.0</td>\n",
              "      <td>0.0</td>\n",
              "      <td>0.0</td>\n",
              "      <td>0.0</td>\n",
              "      <td>0.0</td>\n",
              "      <td>0.0</td>\n",
              "      <td>0.0</td>\n",
              "      <td>0.0</td>\n",
              "      <td>0.0</td>\n",
              "      <td>0.0</td>\n",
              "      <td>0.0</td>\n",
              "      <td>0.0</td>\n",
              "      <td>0.0</td>\n",
              "      <td>0.0</td>\n",
              "      <td>0.0</td>\n",
              "      <td>0.0</td>\n",
              "      <td>0.0</td>\n",
              "      <td>0.0</td>\n",
              "      <td>0.0</td>\n",
              "      <td>0.0</td>\n",
              "      <td>0.0</td>\n",
              "      <td>0.0</td>\n",
              "      <td>0.0</td>\n",
              "      <td>...</td>\n",
              "      <td>0.0</td>\n",
              "      <td>0.0</td>\n",
              "      <td>0.0</td>\n",
              "      <td>0.0</td>\n",
              "      <td>0.0</td>\n",
              "      <td>0.0</td>\n",
              "      <td>0.0</td>\n",
              "      <td>0.0</td>\n",
              "      <td>0.0</td>\n",
              "      <td>0.0</td>\n",
              "      <td>0.0</td>\n",
              "      <td>0.0</td>\n",
              "      <td>0.0</td>\n",
              "      <td>0.0</td>\n",
              "      <td>0.0</td>\n",
              "      <td>0.0</td>\n",
              "      <td>0.0</td>\n",
              "      <td>0.0</td>\n",
              "      <td>0.0</td>\n",
              "      <td>0.0</td>\n",
              "      <td>0.0</td>\n",
              "      <td>0.0</td>\n",
              "      <td>0.0</td>\n",
              "      <td>0.0</td>\n",
              "      <td>0.0</td>\n",
              "      <td>0.0</td>\n",
              "      <td>0.0</td>\n",
              "      <td>0.0</td>\n",
              "      <td>0.0</td>\n",
              "      <td>0.0</td>\n",
              "      <td>0.0</td>\n",
              "      <td>0.0</td>\n",
              "      <td>0.0</td>\n",
              "      <td>0.0</td>\n",
              "      <td>0.0</td>\n",
              "      <td>0.0</td>\n",
              "      <td>0.0</td>\n",
              "      <td>0.0</td>\n",
              "      <td>0.0</td>\n",
              "      <td>0.0</td>\n",
              "    </tr>\n",
              "    <tr>\n",
              "      <th>4</th>\n",
              "      <td>0.0</td>\n",
              "      <td>0.0</td>\n",
              "      <td>0.0</td>\n",
              "      <td>0.0</td>\n",
              "      <td>0.0</td>\n",
              "      <td>0.0</td>\n",
              "      <td>0.0</td>\n",
              "      <td>0.0</td>\n",
              "      <td>0.0</td>\n",
              "      <td>0.0</td>\n",
              "      <td>0.0</td>\n",
              "      <td>0.0</td>\n",
              "      <td>0.0</td>\n",
              "      <td>0.0</td>\n",
              "      <td>0.0</td>\n",
              "      <td>0.0</td>\n",
              "      <td>0.0</td>\n",
              "      <td>0.0</td>\n",
              "      <td>0.0</td>\n",
              "      <td>0.0</td>\n",
              "      <td>0.0</td>\n",
              "      <td>0.0</td>\n",
              "      <td>0.0</td>\n",
              "      <td>0.0</td>\n",
              "      <td>0.0</td>\n",
              "      <td>0.0</td>\n",
              "      <td>0.0</td>\n",
              "      <td>0.0</td>\n",
              "      <td>0.0</td>\n",
              "      <td>0.0</td>\n",
              "      <td>0.0</td>\n",
              "      <td>0.0</td>\n",
              "      <td>0.0</td>\n",
              "      <td>0.0</td>\n",
              "      <td>0.0</td>\n",
              "      <td>0.0</td>\n",
              "      <td>0.0</td>\n",
              "      <td>0.0</td>\n",
              "      <td>0.0</td>\n",
              "      <td>0.0</td>\n",
              "      <td>...</td>\n",
              "      <td>0.0</td>\n",
              "      <td>0.0</td>\n",
              "      <td>0.0</td>\n",
              "      <td>0.0</td>\n",
              "      <td>0.0</td>\n",
              "      <td>0.0</td>\n",
              "      <td>0.0</td>\n",
              "      <td>0.0</td>\n",
              "      <td>0.0</td>\n",
              "      <td>0.0</td>\n",
              "      <td>0.0</td>\n",
              "      <td>0.0</td>\n",
              "      <td>0.0</td>\n",
              "      <td>0.0</td>\n",
              "      <td>0.0</td>\n",
              "      <td>0.0</td>\n",
              "      <td>0.0</td>\n",
              "      <td>0.0</td>\n",
              "      <td>0.0</td>\n",
              "      <td>0.0</td>\n",
              "      <td>0.0</td>\n",
              "      <td>0.0</td>\n",
              "      <td>0.0</td>\n",
              "      <td>0.0</td>\n",
              "      <td>0.0</td>\n",
              "      <td>0.0</td>\n",
              "      <td>0.0</td>\n",
              "      <td>0.0</td>\n",
              "      <td>0.0</td>\n",
              "      <td>0.0</td>\n",
              "      <td>0.0</td>\n",
              "      <td>0.0</td>\n",
              "      <td>0.0</td>\n",
              "      <td>0.0</td>\n",
              "      <td>0.0</td>\n",
              "      <td>0.0</td>\n",
              "      <td>0.0</td>\n",
              "      <td>0.0</td>\n",
              "      <td>0.0</td>\n",
              "      <td>0.0</td>\n",
              "    </tr>\n",
              "  </tbody>\n",
              "</table>\n",
              "<p>5 rows × 5485 columns</p>\n",
              "</div>"
            ],
            "text/plain": [
              "   abbas  abbauarbeiten  abbauen  ...  zwischengelandet  zwist  zypriotischer\n",
              "0    0.0            0.0      0.0  ...               0.0    0.0            0.0\n",
              "1    0.0            0.0      0.0  ...               0.0    0.0            0.0\n",
              "2    0.0            0.0      0.0  ...               0.0    0.0            0.0\n",
              "3    0.0            0.0      0.0  ...               0.0    0.0            0.0\n",
              "4    0.0            0.0      0.0  ...               0.0    0.0            0.0\n",
              "\n",
              "[5 rows x 5485 columns]"
            ]
          },
          "metadata": {
            "tags": []
          },
          "execution_count": 24
        }
      ]
    },
    {
      "cell_type": "code",
      "metadata": {
        "id": "8qXVzu_-CUwK",
        "colab_type": "code",
        "colab": {
          "base_uri": "https://localhost:8080/",
          "height": 289
        },
        "outputId": "faecb516-6f99-4e91-ded8-df3d615455d9"
      },
      "source": [
        "warnings.simplefilter(\"ignore\", DeprecationWarning)\n",
        " \n",
        "# Helper function\n",
        "def print_topics(model, tfidft, n_top_words):\n",
        "    words = tfidft.get_feature_names()\n",
        "    for topic_idx, topic in enumerate(model.components_):\n",
        "        print(\"\\nTopic #%d:\" % topic_idx)\n",
        "        print(\" \".join([words[i]\n",
        "                        for i in topic.argsort()[:-n_top_words - 1:-1]]))\n",
        "        \n",
        "# Tweak the two parameters below\n",
        "number_topics = 5\n",
        "number_words = 5\n",
        "# Create and fit the LDA model\n",
        "ldat = LDA(n_components=number_topics, n_jobs=-1)\n",
        "ldat.fit(XT)\n",
        "# Print the topics found by the LDA model\n",
        "print(\"Topics found via LDA:\")\n",
        "print_topics(ldat, tfidft, number_words)"
      ],
      "execution_count": 25,
      "outputs": [
        {
          "output_type": "stream",
          "text": [
            "Topics found via LDA:\n",
            "\n",
            "Topic #0:\n",
            "windows macht verl juli euro\n",
            "\n",
            "Topic #1:\n",
            "sterreich forum wiener topic jahre\n",
            "\n",
            "Topic #2:\n",
            "wien zwei neuer salzburg trainer\n",
            "\n",
            "Topic #3:\n",
            "neue sterreich iran tote leben\n",
            "\n",
            "Topic #4:\n",
            "griechenland wien erste gestorben platz\n"
          ],
          "name": "stdout"
        }
      ]
    },
    {
      "cell_type": "code",
      "metadata": {
        "id": "IZtOIvHBk7YY",
        "colab_type": "code",
        "colab": {
          "base_uri": "https://localhost:8080/",
          "height": 136
        },
        "outputId": "c1c1d23a-2de6-4843-b123-6d8f3f319f73"
      },
      "source": [
        "ldat.transform(XT)"
      ],
      "execution_count": 26,
      "outputs": [
        {
          "output_type": "execute_result",
          "data": {
            "text/plain": [
              "array([[0.08334152, 0.08347535, 0.086518  , 0.08312887, 0.66353626],\n",
              "       [0.08321925, 0.0832779 , 0.66671315, 0.08312543, 0.08366428],\n",
              "       [0.08401257, 0.08670577, 0.66249283, 0.08304162, 0.08374721],\n",
              "       ...,\n",
              "       [0.73156602, 0.06680943, 0.06680888, 0.06800592, 0.06680975],\n",
              "       [0.17504178, 0.06201601, 0.63891133, 0.06201441, 0.06201647],\n",
              "       [0.06755697, 0.7303677 , 0.06724237, 0.06733867, 0.06749428]])"
            ]
          },
          "metadata": {
            "tags": []
          },
          "execution_count": 26
        }
      ]
    },
    {
      "cell_type": "code",
      "metadata": {
        "id": "ctlBnRpdlAUs",
        "colab_type": "code",
        "colab": {}
      },
      "source": [
        ""
      ],
      "execution_count": 0,
      "outputs": []
    },
    {
      "cell_type": "markdown",
      "metadata": {
        "id": "vrmhNCASqoSa",
        "colab_type": "text"
      },
      "source": [
        "# Cosine Similarity"
      ]
    },
    {
      "cell_type": "code",
      "metadata": {
        "id": "oM57tySTqre2",
        "colab_type": "code",
        "colab": {}
      },
      "source": [
        "body = df_2k['Body'] #making body df\n",
        "title = df_2k['Title'] #making title df"
      ],
      "execution_count": 0,
      "outputs": []
    },
    {
      "cell_type": "code",
      "metadata": {
        "id": "WlQzL_QAqrbd",
        "colab_type": "code",
        "colab": {}
      },
      "source": [
        "blist = [] #making a list of unique words in body\n",
        "bset = set()\n",
        "for x in body:\n",
        "    if x not in bset:\n",
        "        blist.append(x)\n",
        "        bset.add(x)\n",
        "\n",
        "tlist = [] #making a list of unique words in title\n",
        "tset = set()\n",
        "for x in title:\n",
        "    if x not in tset:\n",
        "        tlist.append(x)\n",
        "        tset.add(x)        "
      ],
      "execution_count": 0,
      "outputs": []
    },
    {
      "cell_type": "code",
      "metadata": {
        "id": "32AdX0abqrUl",
        "colab_type": "code",
        "colab": {}
      },
      "source": [
        "bvec = CountVectorizer().fit_transform(blist) #defining count vec for body list\n",
        "vecb = bvec.toarray()\n",
        "\n",
        "tvec = CountVectorizer().fit_transform(tlist) #defining count vec for title list\n",
        "vect = tvec.toarray()"
      ],
      "execution_count": 0,
      "outputs": []
    },
    {
      "cell_type": "code",
      "metadata": {
        "id": "fqbLHowErj11",
        "colab_type": "code",
        "colab": {}
      },
      "source": [
        "def cos_similarity(vec1,vec2): #defining function for cosine similarity\n",
        "  vec1 = vec1.reshape(1,-1)\n",
        "  vec2 = vec2.reshape(1,-1)\n",
        "\n",
        "  return cosine_similarity(vec1,vec2)[0][0]"
      ],
      "execution_count": 0,
      "outputs": []
    },
    {
      "cell_type": "code",
      "metadata": {
        "id": "Alskbj5rrjya",
        "colab_type": "code",
        "colab": {
          "base_uri": "https://localhost:8080/",
          "height": 34
        },
        "outputId": "0ef73aee-8210-41e3-d7eb-1f07ed9c809a"
      },
      "source": [
        "cos_similarity(vecb[0],vecb[1]) #finding cosine similarity for body "
      ],
      "execution_count": 57,
      "outputs": [
        {
          "output_type": "execute_result",
          "data": {
            "text/plain": [
              "0.30864159182697176"
            ]
          },
          "metadata": {
            "tags": []
          },
          "execution_count": 57
        }
      ]
    },
    {
      "cell_type": "code",
      "metadata": {
        "id": "537XUvOIrjw7",
        "colab_type": "code",
        "colab": {
          "base_uri": "https://localhost:8080/",
          "height": 34
        },
        "outputId": "a7aca647-40f7-401c-f1fa-d9150edd0c6c"
      },
      "source": [
        "cos_similarity(vect[0],vect[1]) #finding cosine similarity for title"
      ],
      "execution_count": 58,
      "outputs": [
        {
          "output_type": "execute_result",
          "data": {
            "text/plain": [
              "0.4999999999999999"
            ]
          },
          "metadata": {
            "tags": []
          },
          "execution_count": 58
        }
      ]
    },
    {
      "cell_type": "markdown",
      "metadata": {
        "id": "fZ-yohawFITT",
        "colab_type": "text"
      },
      "source": [
        "# PyLDAVis"
      ]
    },
    {
      "cell_type": "code",
      "metadata": {
        "id": "_Z3oUQwqFUNK",
        "colab_type": "code",
        "colab": {
          "base_uri": "https://localhost:8080/",
          "height": 374
        },
        "outputId": "9929ca3b-22e6-41cf-c232-80db31bb5f44"
      },
      "source": [
        "!pip install pyLDAvis #installing pyLDAvis"
      ],
      "execution_count": 27,
      "outputs": [
        {
          "output_type": "stream",
          "text": [
            "Requirement already satisfied: pyLDAvis in /usr/local/lib/python3.6/dist-packages (2.1.2)\n",
            "Requirement already satisfied: scipy>=0.18.0 in /usr/local/lib/python3.6/dist-packages (from pyLDAvis) (1.4.1)\n",
            "Requirement already satisfied: joblib>=0.8.4 in /usr/local/lib/python3.6/dist-packages (from pyLDAvis) (0.14.1)\n",
            "Requirement already satisfied: pandas>=0.17.0 in /usr/local/lib/python3.6/dist-packages (from pyLDAvis) (0.25.3)\n",
            "Requirement already satisfied: numpy>=1.9.2 in /usr/local/lib/python3.6/dist-packages (from pyLDAvis) (1.17.5)\n",
            "Requirement already satisfied: pytest in /usr/local/lib/python3.6/dist-packages (from pyLDAvis) (3.6.4)\n",
            "Requirement already satisfied: funcy in /usr/local/lib/python3.6/dist-packages (from pyLDAvis) (1.14)\n",
            "Requirement already satisfied: future in /usr/local/lib/python3.6/dist-packages (from pyLDAvis) (0.16.0)\n",
            "Requirement already satisfied: wheel>=0.23.0 in /usr/local/lib/python3.6/dist-packages (from pyLDAvis) (0.34.2)\n",
            "Requirement already satisfied: jinja2>=2.7.2 in /usr/local/lib/python3.6/dist-packages (from pyLDAvis) (2.11.1)\n",
            "Requirement already satisfied: numexpr in /usr/local/lib/python3.6/dist-packages (from pyLDAvis) (2.7.1)\n",
            "Requirement already satisfied: python-dateutil>=2.6.1 in /usr/local/lib/python3.6/dist-packages (from pandas>=0.17.0->pyLDAvis) (2.6.1)\n",
            "Requirement already satisfied: pytz>=2017.2 in /usr/local/lib/python3.6/dist-packages (from pandas>=0.17.0->pyLDAvis) (2018.9)\n",
            "Requirement already satisfied: more-itertools>=4.0.0 in /usr/local/lib/python3.6/dist-packages (from pytest->pyLDAvis) (8.2.0)\n",
            "Requirement already satisfied: six>=1.10.0 in /usr/local/lib/python3.6/dist-packages (from pytest->pyLDAvis) (1.12.0)\n",
            "Requirement already satisfied: attrs>=17.4.0 in /usr/local/lib/python3.6/dist-packages (from pytest->pyLDAvis) (19.3.0)\n",
            "Requirement already satisfied: setuptools in /usr/local/lib/python3.6/dist-packages (from pytest->pyLDAvis) (45.1.0)\n",
            "Requirement already satisfied: pluggy<0.8,>=0.5 in /usr/local/lib/python3.6/dist-packages (from pytest->pyLDAvis) (0.7.1)\n",
            "Requirement already satisfied: py>=1.5.0 in /usr/local/lib/python3.6/dist-packages (from pytest->pyLDAvis) (1.8.1)\n",
            "Requirement already satisfied: atomicwrites>=1.0 in /usr/local/lib/python3.6/dist-packages (from pytest->pyLDAvis) (1.3.0)\n",
            "Requirement already satisfied: MarkupSafe>=0.23 in /usr/local/lib/python3.6/dist-packages (from jinja2>=2.7.2->pyLDAvis) (1.1.1)\n"
          ],
          "name": "stdout"
        }
      ]
    },
    {
      "cell_type": "code",
      "metadata": {
        "id": "2Bm8-v7GT-oR",
        "colab_type": "code",
        "colab": {}
      },
      "source": [
        "def tokenize(text): #function to tokenize text \n",
        "    tokens = word_tokenize(text)\n",
        "    tokens = [token for token in tokens if len(token) > 4]\n",
        "    tokens = [token for token in tokens if token not in german_stop_words]\n",
        "    return tokens"
      ],
      "execution_count": 0,
      "outputs": []
    },
    {
      "cell_type": "code",
      "metadata": {
        "id": "LIDFnpJsU7wm",
        "colab_type": "code",
        "colab": {
          "base_uri": "https://localhost:8080/",
          "height": 0
        },
        "outputId": "f35fe4e2-7e4c-43bc-f675-82068386fe9a"
      },
      "source": [
        "body_data = [] #creating empty list for body\n",
        "for line in df_2k['Body']:\n",
        "    tokens = tokenize(line)\n",
        "    if random.random() > .99:\n",
        "        print(tokens)\n",
        "        body_data.append(tokens)"
      ],
      "execution_count": 29,
      "outputs": [
        {
          "output_type": "stream",
          "text": [
            "['zweite', 'runde', 'erraten', 'themen', 'ausgew', 'hlten', 'postings', 'ffentlicht', 'wurden', 'ersten', 'community', 'wissenschaft', 'zweite', 'runde', 'fachwissen', 'beitr', 'artikeln', 'vorgestellten', 'postings', 'finden', 'artikeln', 'ausschlie', 'wissenschaftsressort', 'ffentlicht', 'wurden', 'nschen', 'tseln', 'freuen', 'ckmeldung', 'forum', 'derstandard']\n",
            "['spiel', 'mitte', 'hrlich', 'vorgestellt', 'square', 'ersten', 'teaser', 'trailer', 'raider', 'ffentlicht', 'junge', 'croft', 'ersten', 'abenteuer', 'zeigt', 'video', 'allerdings', 'sehen', 'croft', 'steigeisen', 'ausger', 'eisigen', 'erklimmt', 'gespielt', 'grabr', 'uberin', 'erneut', 'camilla', 'luddington', 'spiel', 'jahres', 'erscheinen', 'microsoft', 'konnte', 'zeitlich', 'exklusive', 'distribution', 'titels', 'sichern', 'raider', 'systemen', 'handel', 'kommen', 'erste', 'bilder', 'spiel', 'gaben', 'anfang', 'jahres', 'bereits', 'einblick', 'offizielle', 'vorstellung', 'branchemesse', 'stattfinden', 'thema', 'raider', 'erste', 'screenshots', 'zeigen', 'croft', 'schneegest']\n",
            "['georg', 'vetter', 'marcus', 'franz', 'kommen', 'parteifreie', 'stronach', 'parlamentsklub', 'parlamentsklub', 'zuwachs', 'erhalten', 'unumstrittenen', 'stronach', 'mandatare', 'marcus', 'franz', 'georg', 'vetter', 'finden', 'fraktion', 'unterschlupf', 'wurde', 'gemeinsamen', 'pressekonferenz', 'klubobmann', 'reinhold', 'lopatka', 'bekannt', 'bezeichnete', 'ebenso', 'parteiunabh', 'parteifreien', 'wissenschaftssprecher', 'karlheinz', 'chterle', 'stronach', 'ndete', 'vetter', 'schwer', 'schlingernden', 'schiff', 'politik', 'beiden', 'abgeordneten', 'schwarze', 'parlamentsklub', 'nationalratsabgeordnete', 'mandatare', 'weniger', 'schwarz', 'blaue', 'mehrheit', 'nationalrat', 'fehlen', 'abgeordnete', 'stronach', 'schrumpft', 'hingegen', 'abgeordnete', 'genauso', 'stark', 'abgeordnete', 'derstandard', 'berichtet', 'video']\n",
            "['aserbaidschan', 'lausiges', 'niveau', 'menschenrechten', 'vergangenen', 'jahren', 'unterboten', 'ersten', 'olympischen', 'europaspiele', 'rlich', 'sentativeren', 'austragungsort', 'vorstellen', 'glitzerstadt', 'autokratischen', 'regimes', 'kaspischen', 'irgendetwas', 'unverf', 'ngliches', 'mitte', 'kontinents', 'symbolisch', 'heutige', 'europa', 'doppelmoral', 'politische', 'inkonsequenz', 'merkantiles', 'denken', 'erdem', 'aserbaidschan', 'einzige', 'staat', 'vergabe', 'spiele', 'jahren', 'aufgezeigt', 'lrepublik', 'ostrand', 'europas', 'regiert', 'ambition', 'warum', 'nachher', 'beschweren', 'zynismus', 'guter', 'ratgeber', 'aserbaidschan', 'lausiges', 'niveau', 'menschenrechten', 'vergangenen', 'jahren', 'unterboten', 'dutzend', 'politische', 'gefangene', 'derzeit', 'lange', 'haftstrafen', 'darunter', 'bekannte', 'rgerrechtler', 'leyla', 'yunis', 'mammadi', 'ersten', 'jahrzehnt', 'sidentschaft', 'ilham', 'alijew', 'halbwegs', 'konnten', 'vertretung', 'organisation', 'sicherheit', 'zusammenarbeit', 'europa', 'jahren', 'aktiv', 'ffnung', 'europaspiele', 'hinauswurf', 'kenntnis', 'gesetzt', 'worden', 'trost', 'bleibt', 'aserbaidschan', 'offizieller', 'ostpartner', 'gaslieferant', 'europaratsmitglied', 'produziert', 'europaspielen', 'negativwerbung', 'markus', 'bernath']\n",
            "['damals', 'clinch', 'auswahl', 'jauch', 'anwalt', 'einladen', 'talkmaster', 'nther', 'jauch', 'berichtet', 'jahresende', 'talksendung', 'nther', 'jauch', 'jahren', 'sendeplatz', 'bernimmt', 'spiegel', 'jauch', 'bereits', 'april', 'vergangenen', 'jahres', 'ndigung', 'vertrages', 'gedroht', 'schreiben', 'beklagte', 'eingriffe', 'journalistische', 'unabh', 'ngigkeit', 'kritisiert', 'fehlende', 'vertrauen', 'seitens', 'vorausgegangen', 'drohung', 'auseinandersetzungen', 'sendung', 'ndigen', 'jauch', 'steauswahl', 'berichtet', 'spiegel', 'jauch', 'plante', 'sendung', 'umgang', 'presse', 'prominenten', 'medienanwalt', 'christian', 'schertz', 'einladen', 'zugleich', 'jauchs', 'anwalt', 'monierte', 'moderator', 'unbefangen', 'agieren', 'nnten', 'zugleich', 'anwalt', 'mandant', 'seien', 'jauch', 'ndigung', 'drohte', 'sendung', 'schwerer', 'schlag', 'sendung', 'erreichte', 'durchschnittlich', 'millionen', 'zuschauer', 'entspricht', 'marktanteil', 'prozent']\n",
            "['britische', 'chstgericht', 'entschieden', 'hrige', 'eingefrorenen', 'verstorbenen', 'tochter', 'befruchten', 'lassen', 'austragen', 'london', 'britin', 'eizellen', 'toten', 'tochter', 'bringen', 'chste', 'gericht', 'landes', 'durchkreuzt', 'eingefrorenen', 'tochter', 'krebs', 'gestorben', 'befruchten', 'lassen', 'austragen', 'entschied', 'richter', 'montag', 'hrige', 'argumentierte', 'krebskranke', 'tochter', 'sehnlich', 'kinder', 'nscht', 'gebeten', 'stellvertretend', 'auszutragen', 'ndige', 'aufsichtsbeh', 'allerdings', 'verboten', 'eizellen', 'herauszugeben', 'ndung', 'tochter', 'ausdr', 'cklich', 'schriftlich', 'genehmigt', 'weiterlesen', 'eizellenspende', 'rdert', 'gesundheits', 'tourismus', 'schwanger', 'trotz', 'krebs']\n",
            "['darstellung', 'laser', 'qualit', 'schriftart', 'originalgetreue', 'seitendarstellung', 'vorbestellung', 'gestartet', 'online', 'ndler', 'amazon', 'erneuert', 'reader', 'kindle', 'paperwhite', 'modell', 'verbesserten', 'bildschirm', 'zahlreichen', 'softwareseitigen', 'verbesserungen', 'punkten', 'unternehmen', 'schriftart', 'entwickelt', 'vorinstalliert', 'erreicht', 'paperwhite', 'zuvor', 'schon', 'deutlich', 'teurere', 'kindle', 'voyage', 'amazon', 'spricht', 'laser', 'qualit', 'laufzeit', 'nderung', 'leiden', 'gehabt', 'reader', 'regelbare', 'hintergrundbeleuchtung', 'seitendarstellung', 'erhalten', 'bleiben', 'hohes', 'augenmerkt', 'konzern', 'neues', 'schriftsatzsystem', 'elektronische', 'nftig', 'dargestellt', 'autor', 'print', 'ausgabe', 'werkes', 'vorsieht', 'elemente', 'kapit', 'lchen', 'einleitung', 'neuer', 'abschnitte', 'bersichtliche', 'trennungen', 'hlungen', 'sollen', 'erhalten', 'bleiben', 'nutzer', 'schriftgr', 'ndert', 'viele', 'leser', 'konsumieren', 'amazon', 'reader', 'schrift', 'analoge', 'ausgabe', 'bietet', 'intelligente', 'silbentrennung', 'erkennung', 'benachbarten', 'buchstabenpaaren', 'verbesserungen', 'unansehnlichen', 'leerr', 'kommen', 'halbe', 'million', 'amazon', 'angebot', 'sollen', 'weise', 'besser', 'dargestellt', 'bookerly', 'viele', 'moderne', 'papier', 'angelehnt', 'eigens', 'entwickelte', 'schriftart', 'bookerly', 'lesen', 'leichteres', 'zierlicheres', 'design', 'erleichtern', 'vorschau', 'stellt', 'amazon', 'homepage', 'zeitleiste', 'dabei', 'diverse', 'softwarefunktionen', 'darunter', 'glichkeit', 'schnell', 'bersetzungen', 'definitionen', 'rtern', 'anzeigen', 'lassen', 'lassen', 'handlung', 'charaktere', 'schaupl', 'bestandteile', 'werkes', 'analysieren', 'nachschlagen', 'dabei', 'zeitleistenansicht', 'glichen', 'bisher', 'geschehenes', 'flott', 'erinnerung', 'rufen', 'wiederum', 'lange', 'lesen', 'aktuellen', 'kapitels', 'erreichen', 'whispersync', 'amazons', 'eigenem', 'clouddienst', 'eigene', 'werke', 'mehrere', 'hinweg', 'gemacht', 'erstmals', 'erlaubt', 'amazon', 'amazon', 'konten', 'einrichtung', 'familienbibliothek', 'verkn', 'freetime', 'funktion', 'setzen', 'lesezielen', 'erlaubt', 'sollen', 'eltern', 'kinder', 'besser', 'lesen', 'motivieren', 'kindersicherung', 'verhindert', 'dabei', 'zugriff', 'inhalte', 'funktionen', 'bisherigen', 'modelle', 'erscheint', 'kindle', 'paperwhite', 'fassung', 'anzeige', 'empfehlungen', 'amazon', 'sperrbildschirm', 'verzichten', 'bezahlen', 'reader', 'unterst', 'amazons', 'eigene', 'buchformate', 'sowie', 'dateien', 'sowie', 'ungesch', 'werke', 'dateien', 'ngige', 'bildformate', 'setzen', 'konvertierung', 'voraus', 'chern', 'versteht', 'vorbestellung', 'amazons', 'onlineshop', 'bereits', 'glich', 'auslieferung', 'starten', 'links', 'kindle', 'paperwhite']\n",
            "['mordopfer', 'auftragskiller', 'hauptkommissar', 'lannert', 'eigentlich', 'immer', 'gescheiter', 'mercedes', 'stern', 'prangt', 'turmhoch', 'zentrum', 'stadt', 'dennoch', 'heutigen', 'tatort', 'stuttgart', 'folge', 'inder', 'regie', 'stein', 'wenig', 'motorisierten', 'lokalpatriotismus', 'gesetzt', 'mordopfer', 'politiker', 'realen', 'bauskandal', 'namens', 'stuttgart', 'verwickelt', 'grunds', 'tzlich', 'tieferlegung', 'stuttgarter', 'hauptbahnhofs', 'hrdetes', 'grundwasser', 'menge', 'immobilienprojekte', 'auftragskiller', 'ermittler', 'sebastian', 'bootz', 'mindestens', 'ckhaltend', 'rasiert', 'dargestellt', 'felix', 'klare', 'setzt', 'bische', 'marke', 'allerdings', 'mercedes', 'einst', 'georg', 'danzer', 'angeberautos', 'neicha', 'freind', 'foahrt', 'porsche', 'oarsch', 'hauptkommisaar', 'thorsten', 'lannert', 'richy', 'eigentlich', 'immer', 'gewissen', 'leblosigkeit', 'gesicht', 'gesamten', 'restlichen', 'bewegungsapparat', 'ausdr', 'jahren', 'deutschen', 'martin', 'semmelrogge', 'haftbefehle', 'privatleben', 'brigens', 'begeisterter', 'rennfahrer', 'lizenz', 'porsche', 'auskennen', 'heutige', 'folge', 'herlt', 'gewohnt', 'didaktischem', 'bildungsauftrag', 'wenig', 'politik', 'wirtschaft', 'sittenbild', 'zieht', 'strudelteig', 'blich', 'miles', 'davis', 'chtnistrompete', 'unterlegt', 'nimmt', 'tatort', 'tempo', 'blich', 'gescheiter', 'unterhalten', 'christian', 'schachinger']\n",
            "['raimund', 'korrespondent', 'peking', 'startet', 'europ', 'asiatische', 'gespr', 'chsreihe', 'erstmals', 'sehen', 'donnerstag', 'diskussion', 'zensur', 'tabus', 'korrespondent', 'raimund', 'format', 'inside', 'verspricht', 'china', 'eigentlich', 'debatte', 'chinesischen', 'experten', 'journalisten', 'ausland', 'politischer', 'meinungsaustausch', 'ungew', 'hnlich', 'standard', 'vehikel', 'dienen', 'sendung', 'inside', 'viertelj', 'hrliches', 'format', 'konzipiert', 'sehen', 'erstmals', 'donnerstag', 'china', 'rangiert', 'pressefreiheit', 'ranking', 'reporter', 'grenzen', 'position', 'untersuchten', 'ndern', 'dutzende', 'journalisten', 'sitzen', 'ngnis', 'tausende', 'staat', 'kontrolliert', 'korrespondenten', 'zensursystem', 'chinesische', 'medien', 'unterworfen', 'dennoch', 'schwierig', 'diskutanten', 'rekrutieren', 'druck', 'steigt', 'generalverdacht', 'immer', 'spiel', 'standard', 'korrespondent', 'chinesischen', 'ersten', 'sendung', 'konomie', 'professor', 'shiwei', 'wirtschaftsuniversit', 'peking', 'liqun', 'professor', 'deutsche', 'politik', 'peking', 'runde', 'komplettieren', 'sterreichische', 'botschafterin', 'peking', 'irene', 'giner', 'reichl', 'china', 'korrespondenten', 'standard', 'johnny', 'erling', 'anlehnung', 'inside', 'inside', 'themen', 'tapet', 'bringen', 'asiens', 'chinas', 'geopolitische', 'situation', 'beleuchten', 'fragen', 'ndert', 'aufstieg', 'chinas', 'geopolitische', 'situation', 'positioniert', 'peking', 'europa', 'richtung', 'gehen', 'wirtschaft', 'gesellschaft', 'antworten', 'asien', 'herausforderungen', 'unserer', 'terrorismus', 'umweltschutz', 'asien', 'jahre', 'zweiten', 'weltkrieges', 'omark']\n",
            "['kleine', 'indien', 'china', 'ndische', 'dollar', 'einreisen', 'backpacker', 'nscht', 'himalaya', 'liegt', 'tigernest', 'kloster', 'felsvorsprung', 'gebaut', 'wurde', 'zufahrtsstra', 'bekannteste', 'sehensw', 'rdigkeit', 'bhutan', 'besuchen', 'lange', 'wanderung', 'nimmt', 'bergmassiv', 'erklimmen', 'bilder', 'abgeschiedenheit', 'denen', 'bhutan', 'image', 'geheimnisumwitterte', 'ckgezogene', 'binneninsel', 'seeligen', 'bewirbt', 'individuelles', 'reisen', 'chlich', 'bhutan', 'bleibt', 'globalisierten', 'chste', 'flugreise', 'klick', 'entfernt', 'immer', 'wenigen', 'reiseziele', 'wenigen', 'menschen', 'hrlich', 'angesteuert', 'weltenbummler', 'interessante', 'destination', 'darstellt', 'wenige', 'leistbar', 'dollar', 'tourist', 'bhutan', 'reist', 'glich', 'zahlen', 'immerhin', 'chtigung', 'dreisternehotel', 'halbpension', 'sowie', 'transport', 'inkludiert', 'trotzdem', 'bleibt', 'chtliche', 'summe', 'aufenthalt', 'entwicklungsland', 'touristen', 'reisen', 'buchen', 'individuelle', 'urlaubsplanung', 'glich', 'jugendliche', 'backpacker', 'jeeps', 'chste', 'unterwegs', 'deshalb', 'sehen', 'angst', 'umweltzerst', 'ansatz', 'aufenthalt', 'anzahl', 'unerschwinglich', 'macht', 'bhutan', 'motto', 'value', 'impact', 'tourism', 'verkauft', 'karma', 'thinley', 'direktor', 'tourismusfachschule', 'bhutan', 'drastisch', 'historiker', 'doktoren', 'million', 'kommen', 'hippies', 'hingegen', 'verloren', 'viele', 'bhutaner', 'hegen', 'erdem', 'angst', 'ndern', 'berrannt', 'ffnen', 'halten', 'erstrebenswert', 'wichtiger', 'einzigartigkeit', 'landes', 'tradition', 'natur', 'bewahren', 'himalaya', 'staat', 'nepal', 'tourismussch', 'yeshi', 'tshetrim', 'negativbeispiel', 'gebracht', 'touristen', 'bergsteiger', 'mmert', 'umwelt', 'zerst', 'gegensatz', 'nepal', 'bhutan', 'chsten', 'berge', 'bergsteiger', 'gesperrt', 'buddhistischen', 'gottheiten', 'sterreicher', 'bhutan', 'letzte', 'touristen', 'besuchen', 'nsche', 'touristen', 'bhutaner', 'treffen', 'premierminister', 'tshering', 'tobgay', 'standard', 'davon', 'allerdings', 'entfernt', 'betrachtet', 'touristenzahlen', 'sterreich', 'millionen', 'touristen', 'einwohner', 'bhutan', 'anteil', 'touristen', 'bhutan', 'stellen', 'inderinnen', 'inder', 'neben', 'touristen', 'bangladesch', 'malediven', 'dollar', 'zahlen', 'folgen', 'besucherranking', 'thailand', 'sterreich', 'immerhin', 'personen', 'bereist', 'wirtschaftsfaktor', 'tourismus', 'paradoxerweise', 'gerade', 'tourismus', 'wenigen', 'branchen', 'rohstoffarmen', 'bhutan', 'wirtschaftliche', 'entwicklung', 'vorantreiben', 'meisten', 'setzen', 'hoffnungen', 'tourismus', 'thinley', 'niglichen', 'tourismusschule', 'starkem', 'austausch', 'salzburg', 'steht', 'hrlich', 'beginnen', 'studenten', 'ausbildung', 'konzentrieren', 'entweder', 'hotel', 'tourismusmanagement', 'philosophie', 'bruttonationalgl', 'tourismuspolitik', 'verhindert', 'bhutan', 'riesige', 'hotelbauten', 'shoppingcenter', 'errichtet', 'naturschutzgebiete', 'stattdessen', 'tourist', 'glichkeit', 'bhutanerinnen', 'bhutanern', 'direkt', 'einfach', 'gehaltenen', 'usern', 'leben', 'deren', 'gepflogenheiten', 'kennenzulernen', 'nachhaltigkeit', 'geschrieben', 'reisender', 'mitbringen', 'teresa']\n",
            "['attacke', 'morgengrauen', 'viehmarkt', 'grenze', 'somalia', 'terrormiliz', 'shabaab', 'verantwortlich', 'nairobi', 'angriff', 'nordosten', 'kenias', 'dienstag', 'mindestens', 'menschen', 'worden', 'bewaffneten', 'angreifer', 'berfall', 'viehmarkts', 'erhalb', 'stadt', 'mandera', 'grenze', 'somalia', 'thiopien', 'menschen', 'verletzt', 'teilten', 'vertreter', 'polizei', 'kenianischen', 'roten', 'kreuzes', 'demnach', 'ereignete', 'angriff', 'morgenstunden', 'rtliche', 'regierungsvertreter', 'nkoyo', 'sagte', 'angreifer', 'opfer', 'schlaf', 'berrascht', 'sprengs', 'geworfen', 'menschen', 'geschossen', 'opfer', 'vorwiegend', 'nahegelegenen', 'steinbruch', 'gearbeitet', 'sagte', 'nkoyo', 'somalische', 'shabaab', 'miliz', 'angriff', 'verantwortlich', 'machte', 'kreuz', 'ndigte', 'flugzeug', 'schicken', 'schwerverletzten', 'krankenh', 'hauptstadt', 'nairobi', 'bringen', 'norden', 'kenias', 'vergangenen', 'jahren', 'vermehrt', 'angriffe', 'shabaab', 'miliz', 'gegeben', 'somalische', 'islamistengruppe', 'vergeltung', 'beteiligung', 'kenianischen', 'armee', 'milit', 'rmission', 'afrikanischen', 'union', 'somalia', 'anfang', 'april', 'griffen', 'mpfer', 'miliz', 'universit', 'stadt', 'garissa', 'teten', 'dabei', 'menschen', 'meisten', 'davon', 'studenten', 'miliz', 'somalia', 'jahren', 'regierung', 'wurde', 'zuletzt', 'deutlich', 'ckgedr']\n",
            "['beschleunigung', 'technik', 'wurde', 'problem', 'erhoben', 'meint', 'soziologin', 'wajcman', 'dabei', 'spiegelbild', 'sozialer', 'standard', 'neues', 'titel', 'zeitdruck', 'beschleunigung', 'zeiten', 'digitalen', 'kapitalismus', 'warum', 'immer', 'weniger', 'wajcman', 'druck', 'kommt', 'leben', 'technologie', 'menschen', 'smartphones', 'verantwortlich', 'zeitdruck', 'abgelenkt', 'viele', 'nnten', 'wegen', 'technik', 'konzentrieren', 'opfer', 'technik', 'technologien', 'reflektieren', 'lebens', 'arbeitsweisen', 'darauf', 'wenig', 'eingegangen', 'digitale', 'problem', 'fetischisiert', 'soziale', 'probleme', 'schwieriger', 'dekonstruieren', 'standard', 'zeitliche', 'probleme', 'arbeitswelt', 'wajcman', 'menschen', 'unserer', 'gesellschaft', 'unregelm', 'arbeitszeiten', 'flexibel', 'hinzu', 'kommt', 'immer', 'ungleichheit', 'bezug', 'menschen', 'spitzenpositionen', 'lange', 'arbeitstage', 'viele', 'arbeitslose', 'menschen', 'teilzeit', 'arbeiten', 'flexible', 'vertr', 'gruppen', 'unterschiedliche', 'erfahrungen', 'mittlerweile', 'webseiten', 'miesen', 'eingeben', 'jemand', 'schlecht', 'bezahlt', 'annehmen', 'reiche', 'bezahlen', 'personen', 'ersparen', 'reiche', 'menschen', 'daher', 'unterschiedlich', 'schnell', 'unterschiedlich', 'standard', 'unserer', 'erhalb', 'arbeitswelt', 'wajcman', 'meisten', 'familien', 'arbeiten', 'beide', 'elternteile', 'mehrere', 'traditionelle', 'mutter', 'hause', 'bleiben', 'glichkeit', 'tageszeit', 'einzukaufen', 'leben', 'desynchronisierten', 'gesellschaft', 'kontext', 'telefon', 'abendessen', 'organisieren', 'standard', 'frauen', 'immer', 'teils', 'steht', 'wajcman', 'studien', 'zeigen', 'personen', 'zeitdruck', 'stehen', 'arbeitende', 'erwartungen', 'kindern', 'verbringen', 'immens', 'kindern', 'unterhalten', 'hausaufgaben', 'helfen', 'erziehen', 'zeitlicher', 'aufwand', 'frauen', 'bringen', 'arbeitende', 'verringern', 'hausarbeit', 'bezahlen', 'frauen', 'essen', 'fertiggerichte', 'managen', 'kinder', 'vermissen', 'dabei', 'freizeit', 'kinder', 'standard', 'unterschied', 'frauen', 'technik', 'nutzen', 'wajcman', 'blackberrys', 'businesstools', 'gedacht', 'innerhalb', 'rzester', 'wurden', 'mobiltelefone', 'alltag', 'verwendet', 'freunden', 'familie', 'schreiben', 'unserer', 'studie', 'gesehen', 'meisten', 'telefonate', 'schulschluss', 'stattfinden', 'rufen', 'kinder', 'eltern', 'besprechen', 'kinder', 'abholt', 'erledigt', 'frauen', 'nutzen', 'organisation', 'alltag', 'familie', 'arbeit', 'standard', 'beeinflussen', 'technologien', 'kommunikation', 'wajcman', 'gespr', 'medial', 'unterst', 'gespr', 'miteinander', 'verglichen', 'behauptet', 'nliche', 'kommunikation', 'intimer', 'besser', 'kinder', 'tools', 'aufgewachsen', 'kommunizieren', 'daher', 'gleich', 'physischer', 'anwesenheit', 'frage', 'besser', 'viele', 'beziehungen', 'junge', 'menschen', 'gebrauch', 'technisch', 'unterst', 'tzter', 'kommunikation', 'sogar', 'wertvoller', 'standard', 'woher', 'kommt', 'menschen', 'digitaler', 'kommunikation', 'negativ', 'berstehen', 'wajcman', 'schon', 'immer', 'denken', 'debatte', 'telegramm', 'erfunden', 'wurde', 'genau', 'kontroversen', 'herrschte', 'angst', 'verletzung', 'bewusstsein', 'ndern', 'rchtete', 'telegramm', 'nachrichten', 'modernisieren', 'beschleunigen', 'aufgrund', 'kommunikation', 'banaler', 'wenige', 'worte', 'verknappen', 'diskussionen', 'nachgelesen', 'dachte', 'debatte', 'twitter', 'welle', 'technischer', 'erneuerungen', 'wurde', 'dramatischen', 'weise', 'reagiert', 'standard', 'technik', 'faktor', 'zeitdruck', 'gesehen', 'wajcman', 'gesellschaft', 'zwiegespalten', 'menschen', 'smartphones', 'stress', 'verantwortlich', 'erreichbar', 'gleichzeitig', 'telefone', 'aufgeben', 'praktisch', 'dabei', 'helfen', 'arbeit', 'sparen', 'standard', 'sehen', 'probleme', 'technikkonsum', 'wajcman', 'anspruchsvoller', 'technik', 'anschaffen', 'silicon', 'valley', 'unternehmen', 'jungen', 'nnern', 'geleitet', 'zukunft', 'bestimmen', 'entwicklung', 'technik', 'braucht', 'vielf', 'ltigere', 'gruppe', 'menschen', 'frauen', 'ltere', 'afroamerikanische', 'menschen', 'ausgeschlossen', 'spiegelt', 'entwicklung', 'wider', 'silicon', 'valley', 'jungs', 'absichtlich', 'dinge', 'entwickeln', 'barrierefrei', 'denken', 'einfach', 'daran', 'diversere', 'gruppe', 'entwicklern', 'rfnisse', 'cksichtigt', 'kroisleitner', 'wajcman', 'professorin', 'london', 'school', 'economics', 'fakult', 'soziologie', 'leitet', 'wajcman', 'technofeminism', 'wichtigsten', 'vertreterinnen', 'feministischen', 'techniksoziologie', 'sslich', 'jubil', 'universit', 'hielt', 'vortrag', 'symposium', 'women', 'future', 'wajcman', 'london', 'school', 'economics']\n",
            "['gemeinsam', 'italien', 'frankreich', 'wales', 'deutschland', 'belgien', 'spanien', 'europ', 'ischen', 'qualifikations', 'gruppen', 'russland', 'petersburg', 'ausgelost', 'insgesamt', 'teams', 'sieben', 'mannschaften', 'liegen', 'besten', 'europ', 'ischen', 'teams', 'donnerstag', 'ffentlichten', 'weltrangliste', 'sterreich', 'slowakei', 'kreis', 'teams', 'neben', 'gastgeber', 'russland', 'qualifizieren', 'nationalmannschaften', 'europa', 'endrunde', 'qualifikation', 'beginnt', 'september', 'endet', 'november', 'gruppensieger', 'qualifizieren', 'direkt', 'besten', 'gruppenzweiten', 'spielen', 'restlichen', 'schlechteste', 'gruppenzweite', 'dagegen', 'quali', 'rennen', 'vermarktung', 'medienrechte', 'kommen', 'deutschland', 'niederlande', 'england', 'spanien', 'italien', 'frankreich', 'sechsergruppen', 'italiener', 'franzosen', 'gruppe', 'genannten', 'mannschaften', 'spielen', 'russland', 'zugelost', 'bestreitet', 'qualifikation', 'franzosen', 'gastgeber', 'derzeit', 'quali', 'konkurrenz', 'freundschaftsspielen', 'gruppen', 'gegner', 'topfeinteilung', 'auslosung', 'europ', 'ischen', 'qualifikationsgruppen', 'weltranglistenplatzierung', 'klammer', 'deutschland', 'belgien', 'niederlande', 'portugal', 'england', 'wales', 'spanien', 'kroatien', 'slowakei', 'sterreich', 'italien', 'schweiz', 'tschechien', 'frankreich', 'island', 'nemark', 'bosnien', 'herzegowina', 'ukraine', 'schottland', 'polen', 'ungarn', 'schweden', 'albanien', 'nordirland', 'serbien', 'griechenland', 'slowenien', 'israel', 'irland', 'norwegen', 'bulgarien', 'montenegro', 'estland', 'zypern', 'lettland', 'armenien', 'finnland', 'russland', 'mazedonien', 'aserbaidschan', 'litauen', 'moldau', 'kasachstan', 'luxemburg', 'liechtenstein', 'georgien', 'malta', 'marino', 'andorra', 'params', 'ressortid', 'sporttabellenteaser', 'updater', 'success', 'sporttabellenteaser', 'sporttabellen', 'teaser', 'method', 'parameters', 'params']\n",
            "['vertr', 'ndigt', 'investitionen', 'verschoben', 'gazproms', 'ambitioniertes', 'pipelineprojekt', 'turkstream', 'kommt', 'voran', 'experten', 'zweifeln', 'realisierung', 'moskau', 'ersten', 'strangs', 'turkstream', 'gelegt', 'abwicklung', 'projekts', 'beauftragte', 'gazprom', 'tochter', 'south', 'stream', 'transport', 'vertrag', 'italienischen', 'pipelineverleger', 'saipem', 'vergangenen', 'woche', 'annulliert', 'entscheidung', 'wurde', 'getroffen', 'viele', 'arbeitstechnische', 'kommerzielle', 'fragen', 'realisierung', 'projekts', 'turkstream', 'einigung', 'erzielen', 'pressemitteilung', 'gazproms', 'saipem', 'entgeht', 'auftrag', 'milliarden', 'dollar', 'milliarden', 'gazprom', 'wegen', 'vertragsbruchs', 'strafe', 'millionen', 'dollar', 'zahlen', 'immerhin', 'steht', 'spezialschiff', 'castoro', 'schon', 'halben', 'besch', 'ftigungslos', 'schwarzen', 'gazprom', 'betonte', 'geplanten', 'trasse', 'bedeute', 'verhandlungen', 'potenziellen', 'pipelineverlegern', 'aufgenommen', 'teilte', 'unternehmen', 'russlands', 'energieminister', 'alexander', 'nowak', 'bezeichnete', 'ausscheiden', 'saipems', 'technische', 'frage', 'auswirkung', 'realisierung', 'turkstream', 'allerdings', 'handelt', 'vernehmen', 'problem', 'beiden', 'unternehmen', 'gazprom', 'konnte', 'leisten', 'teure', 'leerlaufzeit', 'spezialschiffe', 'bezahlen', 'hrend', 'verhandlungen', 'pipeline', 'bugsieren', 'unstimmigkeiten', 'moskau', 'ankara', 'preis', 'gazprom', 'weigert', 'medienberichten', 'geforderten', 'rabatt', 'prozent', 'einzur', 'sackgasse', 'statt', 'durchbruch', 'zudem', 'unklar', 'milliarden', 'kubikmeter', 'balkan', 'italien', 'gehen', 'sollten', 'geliefert', 'widerstand', 'willige', 'griechenland', 'abnehmer', 'wenig', 'mazedonien', 'stellte', 'machte', 'einverst', 'ndnis', 'kommission', 'voraussetzung', 'teilnahme', 'schon', 'ngerprojekt', 'southstream', 'wenig', 'gegenliebe', 'gesto', 'moskaus', 'abbruch', 'verhandlungen', 'sentation', 'turkstream', 'umgehungsvariante', 'sympathie', 'projekt', 'hintergrund', 'gazprom', 'schon', 'anfang', 'begonnene', 'erweiterung', 'pipeline', 'tigen', 'zuleitungen', 'russischem', 'territorium', 'eingestellt', 'zuletzt', 'moskau', 'gastransit', 'ukraine', 'kategorisch', 'ausgeschlossen', 'experten', 'bezweifeln', 'daher', 'inzwischen', 'realisierung', 'pipeline', 'rustam', 'tankajew', 'energieexperte', 'russischen', 'gasverbands', 'nennt', 'wirtschaftlichkeit', 'projekts', 'derzeitigen', 'widerstand', 'westens', 'angesichts', 'bevorstehenden', 'wiederaufnahme', 'iranischer', 'lieferungen', 'fraglich', 'michail', 'krutichin', 'partner', 'consultingagentur', 'rusenergy', 'wahrscheinlichkeit', 'turkstream', 'schicksal', 'southstream', 'ereilt', 'ballin', 'moskau']\n",
            "['ideen', 'wahlkampagnen', 'klingen', 'bisher', 'wenig', 'innovativ', 'wiener', 'wahlkampf', 'begonnen', 'beteuern', 'parteien', 'mitte', 'august', 'anfang', 'september', 'starttermine', 'genannt', 'gemeinderats', 'bezirksvertretungswahlen', 'oktober', 'schon', 'thema', 'bundeshauptstadt', 'indizien', 'beispiel', 'optischer', 'natur', 'april', 'ziert', 'maria', 'vassilakou', 'spitzenkandidatin', 'berlebensgro', 'plakat', 'wiener', 'naschmarkt', 'botschaft', 'michi', 'bildungsreform', 'reiben', 'kommt', 'wenig', 'subtil', 'daher', 'indizien', 'inhaltlicher', 'natur', 'beispiel', 'machte', 'rgermeister', 'michael', 'besonders', 'vehement', 'unterbringung', 'chtlingen', 'zelten', 'stark', 'bisher', 'erfolglos', 'ideen', 'wahlkampagnen', 'hingegen', 'strategen', 'monaten', 'zerbrechen', 'klingen', 'bisher', 'wenig', 'innovativ', 'vergangenen', 'jahren', 'darauf', 'ckgegriffen', 'wahlplakate', 'enaktionen', 'social', 'media', 'scheint', 'motto', 'wahlkampfs', 'positiv', 'wiener', 'parteienf', 'rderungsgesetz', 'wahlwerbungskosten', 'sechs', 'millionen', 'beschr', 'wurden', 'bleibt', 'hoffen', 'parteien', 'daran', 'halten', 'standard', 'umfrage', 'immer', 'herkommt', 'winkler', 'hermaden']\n",
            "['zentrum', 'stadtrand', 'fassaden', 'billige', 'klimaanlagen', 'sterreich', 'steht', 'extremes', 'wochenende', 'bevor', 'samstag', 'erreicht', 'hitzewelle', 'temperaturen', 'ufigen', 'hepunkt', 'danach', 'ziehen', 'teilweise', 'heftige', 'gewitter', 'hitzetag', 'gesprochen', 'tagestemperatur', 'marke', 'celsius', 'berschreitet', 'hitzetage', 'stieg', 'dicht', 'bebauten', 'stadt', 'hochsommer', 'stadtrand', 'aufzeichnungen', 'zentralanstalt', 'meteorologie', 'geodynamik', 'zeigen', 'temperaturdifferenz', 'innerer', 'stadt', 'randbezirken', 'betragen', 'umweltschutzabteilung', 'wissenschaftern', 'urban', 'islands', 'strategieplan', 'strat', 'entwickelt', 'hitzeinseln', 'reduzieren', 'stadtteile', 'sollen', 'gesichtspunkt', 'geplant', 'seestadt', 'beispiel', 'geben', 'informiert', 'jedoch', 'mehrere', 'faktoren', 'urbane', 'spots', 'verst', 'versiegelte', 'oberfl', 'speichern', 'energie', 'rliche', 'oberfl', 'bebaute', 'wirken', 'barriere', 'luftaustausch', 'blockieren', 'fterl', 'umliegenden', 'ldern', 'landfl', 'nacht', 'kommt', 'betrieben', 'klimaanlagen', 'autos', 'abhilfe', 'schaffen', 'rchenhaft', 'verwachsene', 'mauern', 'fassaden', 'umgebung', 'verdunstung', 'beispiele', 'enmauern', 'zentrale', 'margareteng', 'bezirks', 'margareten', 'hernals', 'josefstadt', 'georg', 'patak', 'private', 'wurden', 'kooperation', 'stadt', 'rogeb', 'initiative', 'progreencity', 'untersucht', 'auswirkungen', 'fassadenbegr', 'nungen', 'mehreren', 'grundlage', 'chendeckende', 'europas', 'liefern', 'effekte', 'stlichen', 'mariahilfer', 'mithilfe', 'computersimulationen', 'erforscht', 'wurde', 'aktuelle', 'situation', 'bebauung', 'erfasst', 'danach', 'wurden', 'hitzetag', 'august', 'szenarien', 'simuliert', 'erste', 'zeigt', 'mikroklima', 'aktuellen', 'zustand', 'karte', 'zweite', 'analysiert', 'situation', 'fassadenoberfl', 'innenh', 'nungen', 'angebracht', 'mariahilfer', 'ergibt', 'demnach', 'hrend', 'sonneneinstrahlung', 'deutliche', 'reduzierung', 'hlten', 'temperatur', 'hrend', 'morgens', 'abends', 'aufgrund', 'ngeren', 'verschattung', 'vegetation', 'hlende', 'effekte', 'nstlich', 'geschaffener', 'anlass', 'simulation', 'erweiterung', 'mikroklimamodells', 'architekten', 'dteplanern', 'werkzeug', 'auswirkungen', 'baulichen', 'nderungen', 'stadtklima', 'erkennen', 'bernhard', 'scharf', 'projekt', 'mitgearbeitet', 'ingenieurbiologe', 'zudem', 'bepflanzungskonzept', 'sterreich', 'beitrag', 'mailand', 'entwickelt', 'nstlich', 'geschaffenen', 'temperatur', 'niedriger', 'umgebung', 'pavillon', 'besucher', 'kombination', 'natur', 'technik', 'heutigem', 'wissen', 'glicht', 'scharf', 'kommission', 'naturkapitals', 'erkannt', 'wissenschafter', 'infrastruktur', 'weiterwachsen', 'progreencity']\n",
            "['hrungsverfall', 'egalisiert', 'telekom', 'gewinn', 'russland', 'lateinamerika', 'spiel', 'stehen', 'millionen', 'spielt', 'roaming', 'telefonieren', 'kunden', 'ndischen', 'mobilfunknetzen', 'konzern', 'telekom', 'austria', 'roamingerl', 'kommission', 'erscheinen', 'derartige', 'binnenmarkt', 'angemessen', 'wegzubrechen', 'droht', 'steht', 'vieltelefonierern', 'internetnutzern', 'betreiber', 'extrageb', 'einheben', 'wegbrechenden', 'wettzumachen', 'gedenkt', 'vorlage', 'halbjahreszahlen', 'freitag', 'erfahrung', 'bringen', 'auslandst', 'chtern', 'gewinn', 'erwarten', 'ertragsperlen', 'bulgarien', 'kroatien', 'lassen', 'russland', 'egalisiert', 'verfall', 'rubel', 'prozentige', 'ergebniszuw', 'heimatmarkt', 'sterreich', 'nagen', 'virtuelle', 'mobilfunker', 'ertrag', 'akuter', 'geldbedarf', 'prozent', 'aktion', 'heuer', 'kapitalerh', 'milliarden', 'durchziehen', 'presse', 'berichtet', 'angesichts', 'umfelds', 'unklar', 'republik', 'sterreich', 'mitzieht', 'anteil', 'prozent', 'erhalten', 'angesichts', 'budgetzw', 'unwahrscheinlich', 'zumal', 'staatsholding', 'schon', 'kapitalerh', 'november', 'stemmen', 'schon', 'republik', 'syndikatsvertrag', 'verbrieftes', 'vetorecht', 'kapitalaufstockungen', 'ziehen', 'akuten', 'geldbedarf', 'sieht', 'aktuell', 'funklizenzen', 'bezahlt', 'nettoverschuldung', 'prozent', 'milliarden', 'gesunken', 'halbe', 'milliarde', 'investitionen', 'breitbandausbau', 'laufenden', 'gesch', 'finanzieren', 'management', 'scheidenden', 'generaldirektor', 'hannes', 'ametsreiter', 'stets', 'betont', 'aufsichtsratssitzung', 'freitag', 'allerdings', 'sondiert', 'vorzugsweise', 'westen', 'entsandte', 'vorstand', 'operative', 'gesch', 'alejandro', 'plater', 'andeutete', 'gleich', 'beginn', 'gepriesenen', 'sterreichisch', 'mexikanischen', 'partnerschaft', 'rfnis', 'anlegt', 'halten', 'beobachter', 'unwahrscheinlich', 'thema', 'nachbesetzung', 'generaldirektors', 'abgearbeitet', 'aufsichtsratssitzung', 'freitag', 'hrungsverlusten', 'brigens', 'deren', 'nettogewinn', 'ersten', 'halbjahr', 'milliarden', 'pesos', 'einbrach', 'meldete', 'hrungsverluste', 'pesos', 'operativ', 'stagnieren', 'pesos', 'kosten', 'stiegen', 'prozent', 'ebitda', 'prozent', 'pesos']\n",
            "['insgesamt', 'gemeinden', 'negatives', 'ergebnis', 'ordentlichen', 'haushalt', 'bedeutet', 'konkret', 'weniger', 'regelm', 'einnahmen', 'planbare', 'ausgaben', 'karte', 'zeigt', 'bezirk', 'prozentuellen', 'anteil', 'sogenannten', 'abgangsgemeinden', 'meisten', 'abgangsgemeinden', 'rnten', 'anteil', 'prozent', 'wenigsten', 'finden', 'sparsam', 'bekannten', 'vorarlberg', 'wirtschaftsgebaren', 'gemeinden', 'einzige', 'grund', 'unterschiede', 'verantwortungsbereich', 'gemeinden', 'bundesland', 'transferzahlungen', 'bundesl', 'strukturelle', 'unterschiede', 'ausgleichen', 'einberechnet', 'cksichtigt', 'schreiben', 'rnten', 'angabe', 'landes', 'gemeinden', 'roten', 'zahlen', 'markus', 'hametner']\n",
            "['manunited', 'bietet', 'angeblich', 'millionen', 'bayern', 'spieler', 'rooney', 'sturmspitze', 'ckkehren', 'kalifornien', 'manchester', 'united', 'medienberichten', 'zufolge', 'millionen', 'verpflichtung', 'deutschen', 'teamspielers', 'thomas', 'bieten', 'trainer', 'louis', 'montag', 'allerdings', 'tigen', 'englische', 'rekordmeister', 'bastian', 'schweinsteiger', 'zweiten', 'weltmeister', 'bayern', 'nchen', 'holen', 'frage', 'berraschende', 'verpflichtung', 'geben', 'antwortete', 'niederl', 'pressekonferenz', 'arbeiten', 'daran', 'medien', 'geschrieben', 'warten', 'schauen', 'sagte', 'bayern', 'coach', 'testspiel', 'englischen', 'rekordmeisters', 'earthquake', 'mittwoch', 'bayern', 'unverk', 'uflich', 'besitzt', 'vertrag', 'wayne', 'rooney', 'kommenden', 'saison', 'offensiven', 'mittelfeld', 'sturmspitze', 'ckkehren', 'ndigte', 'kapit', 'englischen', 'nationalmannschaft', 'vorigen', 'saison', 'premier', 'league', 'erzielt', 'bisher', 'letzten', 'saison', 'mittelst', 'stellte', 'dagegen', 'treffern', 'nliche', 'bestmarke', 'hoffe', 'schie', 'sagte', 'rooney', 'england', 'spiele', 'schie', 'params', 'ressortid', 'sporttabellenteaser', 'updater', 'success', 'sporttabellenteaser', 'sporttabellen', 'teaser', 'method', 'parameters', 'params']\n"
          ],
          "name": "stdout"
        }
      ]
    },
    {
      "cell_type": "code",
      "metadata": {
        "id": "OyeKsoXqU-ZD",
        "colab_type": "code",
        "colab": {
          "base_uri": "https://localhost:8080/",
          "height": 0
        },
        "outputId": "bbd9a896-4ea8-4933-b44d-95827c3e4b4e"
      },
      "source": [
        "dictb = corpora.Dictionary(body_data) #dictionary for body data\n",
        "corpus_words_body = [dictb.doc2bow(text) for text in body_data]\n",
        "pickle.dump(corpus_words_body, open('corpus.pkl', 'wb'))\n",
        "dictb.save('dictionary_body.gensim')"
      ],
      "execution_count": 30,
      "outputs": [
        {
          "output_type": "stream",
          "text": [
            "/usr/local/lib/python3.6/dist-packages/smart_open/smart_open_lib.py:402: UserWarning: This function is deprecated, use smart_open.open instead. See the migration notes for details: https://github.com/RaRe-Technologies/smart_open/blob/master/README.rst#migrating-to-the-new-open-function\n",
            "  'See the migration notes for details: %s' % _MIGRATION_NOTES_URL\n"
          ],
          "name": "stderr"
        }
      ]
    },
    {
      "cell_type": "code",
      "metadata": {
        "id": "yN3wPLYBW5fo",
        "colab_type": "code",
        "colab": {
          "base_uri": "https://localhost:8080/",
          "height": 0
        },
        "outputId": "31eab6e0-7a26-46b0-952e-de8fa67be6e8"
      },
      "source": [
        "import gensim #finding topics for body\n",
        "lda_model_body = gensim.models.ldamodel.LdaModel(corpus_words_body, num_topics = 5, id2word=dictb, passes=15)\n",
        "lda_model_body.save('model_ldavis_b')\n",
        "topicsb = lda_model_body.print_topics(num_words=4)\n",
        "for topic in topicsb:\n",
        "    print(topic)"
      ],
      "execution_count": 31,
      "outputs": [
        {
          "output_type": "stream",
          "text": [
            "(0, '0.008*\"amazon\" + 0.007*\"jauch\" + 0.006*\"sendung\" + 0.005*\"peking\"')\n",
            "(1, '0.008*\"prozent\" + 0.007*\"jahren\" + 0.007*\"pesos\" + 0.007*\"aserbaidschan\"')\n",
            "(2, '0.011*\"menschen\" + 0.010*\"wajcman\" + 0.009*\"bhutan\" + 0.007*\"standard\"')\n",
            "(3, '0.008*\"tochter\" + 0.007*\"bisher\" + 0.007*\"bayern\" + 0.005*\"millionen\"')\n",
            "(4, '0.008*\"gazprom\" + 0.008*\"turkstream\" + 0.006*\"wenig\" + 0.006*\"realisierung\"')\n"
          ],
          "name": "stdout"
        },
        {
          "output_type": "stream",
          "text": [
            "/usr/local/lib/python3.6/dist-packages/smart_open/smart_open_lib.py:402: UserWarning: This function is deprecated, use smart_open.open instead. See the migration notes for details: https://github.com/RaRe-Technologies/smart_open/blob/master/README.rst#migrating-to-the-new-open-function\n",
            "  'See the migration notes for details: %s' % _MIGRATION_NOTES_URL\n"
          ],
          "name": "stderr"
        }
      ]
    },
    {
      "cell_type": "code",
      "metadata": {
        "id": "4xrQV5sTYyXH",
        "colab_type": "code",
        "colab": {
          "base_uri": "https://localhost:8080/",
          "height": 0
        },
        "outputId": "1aa825ef-c43f-4686-a1d7-4cf5c38df826"
      },
      "source": [
        "dictionaryb = gensim.corpora.Dictionary.load('dictionary_body.gensim') #display of the pyLDAvis for body\n",
        "corpus_b = pickle.load(open('corpus.pkl', 'rb'))\n",
        "ldab = gensim.models.ldamodel.LdaModel.load('model_ldavis_b')\n",
        "import pyLDAvis.gensim\n",
        "lda_displayb = pyLDAvis.gensim.prepare(ldab, corpus_b, dictionaryb, sort_topics=False)\n",
        "pyLDAvis.display(lda_displayb)"
      ],
      "execution_count": 32,
      "outputs": [
        {
          "output_type": "stream",
          "text": [
            "/usr/local/lib/python3.6/dist-packages/smart_open/smart_open_lib.py:402: UserWarning: This function is deprecated, use smart_open.open instead. See the migration notes for details: https://github.com/RaRe-Technologies/smart_open/blob/master/README.rst#migrating-to-the-new-open-function\n",
            "  'See the migration notes for details: %s' % _MIGRATION_NOTES_URL\n",
            "/usr/local/lib/python3.6/dist-packages/pyLDAvis/_prepare.py:257: FutureWarning: Sorting because non-concatenation axis is not aligned. A future version\n",
            "of pandas will change to not sort by default.\n",
            "\n",
            "To accept the future behavior, pass 'sort=False'.\n",
            "\n",
            "To retain the current behavior and silence the warning, pass 'sort=True'.\n",
            "\n",
            "  return pd.concat([default_term_info] + list(topic_dfs))\n"
          ],
          "name": "stderr"
        },
        {
          "output_type": "execute_result",
          "data": {
            "text/html": [
              "\n",
              "<link rel=\"stylesheet\" type=\"text/css\" href=\"https://cdn.rawgit.com/bmabey/pyLDAvis/files/ldavis.v1.0.0.css\">\n",
              "\n",
              "\n",
              "<div id=\"ldavis_el28881405762137240402315629633\"></div>\n",
              "<script type=\"text/javascript\">\n",
              "\n",
              "var ldavis_el28881405762137240402315629633_data = {\"mdsDat\": {\"x\": [-0.12906314167886304, -0.009722233776034178, 0.14223680899080424, 0.0012013800748486385, -0.004652813610755648], \"y\": [0.08239656116094221, -0.02940750592873175, 0.06934738386266806, -0.014435265790672782, -0.10790117330420572], \"topics\": [1, 2, 3, 4, 5], \"cluster\": [1, 1, 1, 1, 1], \"Freq\": [26.133346557617188, 10.364133834838867, 38.6320686340332, 10.060728073120117, 14.809722900390625]}, \"tinfo\": {\"Category\": [\"Default\", \"Default\", \"Default\", \"Default\", \"Default\", \"Default\", \"Default\", \"Default\", \"Default\", \"Default\", \"Default\", \"Default\", \"Default\", \"Default\", \"Default\", \"Default\", \"Default\", \"Default\", \"Default\", \"Default\", \"Default\", \"Default\", \"Default\", \"Default\", \"Default\", \"Default\", \"Default\", \"Default\", \"Default\", \"Default\", \"Topic1\", \"Topic1\", \"Topic1\", \"Topic1\", \"Topic1\", \"Topic1\", \"Topic1\", \"Topic1\", \"Topic1\", \"Topic1\", \"Topic1\", \"Topic1\", \"Topic1\", \"Topic1\", \"Topic1\", \"Topic1\", \"Topic1\", \"Topic1\", \"Topic1\", \"Topic1\", \"Topic1\", \"Topic1\", \"Topic1\", \"Topic1\", \"Topic1\", \"Topic1\", \"Topic1\", \"Topic1\", \"Topic1\", \"Topic1\", \"Topic1\", \"Topic1\", \"Topic1\", \"Topic1\", \"Topic1\", \"Topic1\", \"Topic1\", \"Topic1\", \"Topic1\", \"Topic2\", \"Topic2\", \"Topic2\", \"Topic2\", \"Topic2\", \"Topic2\", \"Topic2\", \"Topic2\", \"Topic2\", \"Topic2\", \"Topic2\", \"Topic2\", \"Topic2\", \"Topic2\", \"Topic2\", \"Topic2\", \"Topic2\", \"Topic2\", \"Topic2\", \"Topic2\", \"Topic2\", \"Topic2\", \"Topic2\", \"Topic2\", \"Topic2\", \"Topic2\", \"Topic2\", \"Topic2\", \"Topic2\", \"Topic2\", \"Topic2\", \"Topic2\", \"Topic2\", \"Topic2\", \"Topic2\", \"Topic2\", \"Topic2\", \"Topic2\", \"Topic2\", \"Topic2\", \"Topic2\", \"Topic2\", \"Topic2\", \"Topic3\", \"Topic3\", \"Topic3\", \"Topic3\", \"Topic3\", \"Topic3\", \"Topic3\", \"Topic3\", \"Topic3\", \"Topic3\", \"Topic3\", \"Topic3\", \"Topic3\", \"Topic3\", \"Topic3\", \"Topic3\", \"Topic3\", \"Topic3\", \"Topic3\", \"Topic3\", \"Topic3\", \"Topic3\", \"Topic3\", \"Topic3\", \"Topic3\", \"Topic3\", \"Topic3\", \"Topic3\", \"Topic3\", \"Topic3\", \"Topic3\", \"Topic3\", \"Topic3\", \"Topic3\", \"Topic3\", \"Topic3\", \"Topic3\", \"Topic3\", \"Topic3\", \"Topic3\", \"Topic3\", \"Topic3\", \"Topic3\", \"Topic3\", \"Topic4\", \"Topic4\", \"Topic4\", \"Topic4\", \"Topic4\", \"Topic4\", \"Topic4\", \"Topic4\", \"Topic4\", \"Topic4\", \"Topic4\", \"Topic4\", \"Topic4\", \"Topic4\", \"Topic4\", \"Topic4\", \"Topic4\", \"Topic4\", \"Topic4\", \"Topic4\", \"Topic4\", \"Topic4\", \"Topic4\", \"Topic4\", \"Topic4\", \"Topic4\", \"Topic4\", \"Topic4\", \"Topic4\", \"Topic4\", \"Topic4\", \"Topic4\", \"Topic4\", \"Topic4\", \"Topic4\", \"Topic4\", \"Topic4\", \"Topic4\", \"Topic4\", \"Topic4\", \"Topic5\", \"Topic5\", \"Topic5\", \"Topic5\", \"Topic5\", \"Topic5\", \"Topic5\", \"Topic5\", \"Topic5\", \"Topic5\", \"Topic5\", \"Topic5\", \"Topic5\", \"Topic5\", \"Topic5\", \"Topic5\", \"Topic5\", \"Topic5\", \"Topic5\", \"Topic5\", \"Topic5\", \"Topic5\", \"Topic5\", \"Topic5\", \"Topic5\", \"Topic5\", \"Topic5\", \"Topic5\", \"Topic5\", \"Topic5\", \"Topic5\", \"Topic5\", \"Topic5\", \"Topic5\", \"Topic5\", \"Topic5\", \"Topic5\", \"Topic5\", \"Topic5\", \"Topic5\", \"Topic5\", \"Topic5\"], \"Freq\": [11.0, 10.0, 9.0, 3.0, 3.0, 5.0, 3.0, 4.0, 5.0, 4.0, 2.0, 2.0, 2.0, 3.0, 2.0, 4.0, 4.0, 2.0, 2.0, 5.0, 4.0, 6.0, 3.0, 1.0, 1.0, 1.0, 4.0, 1.0, 4.0, 5.0, 5.346102714538574, 4.693241596221924, 4.04184103012085, 3.3905577659606934, 2.7403717041015625, 2.7389259338378906, 2.738633394241333, 2.7384941577911377, 2.738459587097168, 2.737981081008911, 2.087977409362793, 2.0878779888153076, 2.087839126586914, 2.087834596633911, 2.087059497833252, 2.0868377685546875, 2.086772918701172, 2.0867867469787598, 2.0866756439208984, 2.08661150932312, 2.08652663230896, 2.0865910053253174, 2.0862958431243896, 2.086045265197754, 2.0861222743988037, 2.0861082077026367, 1.4358632564544678, 1.4358628988265991, 1.4356348514556885, 1.4355251789093018, 2.739285469055176, 2.087122678756714, 2.086618185043335, 2.0870440006256104, 2.0884578227996826, 2.0877959728240967, 2.087791681289673, 2.0869743824005127, 2.0868866443634033, 1.8020708560943604, 1.3730859756469727, 0.9440934062004089, 0.944081723690033, 0.9440823793411255, 0.944020688533783, 0.9439883828163147, 0.9439857006072998, 0.9439816474914551, 0.9438676238059998, 0.9438605308532715, 0.94376540184021, 0.943831205368042, 0.9437363147735596, 0.943692147731781, 0.943658173084259, 0.9436234831809998, 1.801891803741455, 0.5150246620178223, 0.51502525806427, 0.5150154829025269, 0.5150108933448792, 0.5149941444396973, 0.5149943232536316, 0.5149852633476257, 0.5149938464164734, 0.5149883031845093, 0.5149815082550049, 0.5149838328361511, 0.514977753162384, 0.5149840116500854, 2.2328531742095947, 0.944033682346344, 1.373177409172058, 1.802849531173706, 1.373553991317749, 0.9443204402923584, 0.9445204734802246, 0.9448336362838745, 0.9447408318519592, 0.9446600079536438, 0.5160284638404846, 0.5159351229667664, 11.182317733764648, 9.710770606994629, 8.976005554199219, 6.032558441162109, 5.29605770111084, 4.560815334320068, 3.8264524936676025, 3.8260161876678467, 3.089780807495117, 3.089404582977295, 3.089245319366455, 3.089077949523926, 3.0894670486450195, 2.3543145656585693, 2.3542349338531494, 2.354260206222534, 2.3540844917297363, 2.354093313217163, 2.3540382385253906, 2.353788137435913, 2.353663206100464, 2.3533308506011963, 3.8241734504699707, 1.6187769174575806, 1.61871337890625, 1.6187046766281128, 1.6186692714691162, 1.6186316013336182, 1.6186436414718628, 1.6186203956604004, 7.504980564117432, 4.5615057945251465, 3.8256943225860596, 2.354426622390747, 3.0893566608428955, 2.354372024536133, 2.353975534439087, 3.8258793354034424, 3.0901927947998047, 3.0896928310394287, 3.089853525161743, 2.3546805381774902, 2.354334592819214, 2.35414719581604, 1.7691121101379395, 1.3481223583221436, 1.3479912281036377, 1.3480159044265747, 2.191173553466797, 0.9270139336585999, 0.9269976615905762, 0.9268733859062195, 0.9269397854804993, 0.9269264936447144, 0.9269084334373474, 0.9267817139625549, 0.9268950819969177, 0.9268210530281067, 0.9267149567604065, 0.9266757369041443, 0.9268175959587097, 0.9266318678855896, 0.9267483949661255, 0.9266818761825562, 0.926645815372467, 0.9266275763511658, 0.9266193509101868, 1.7693713903427124, 0.5056912899017334, 0.5056750774383545, 0.5056668519973755, 0.5056571960449219, 0.5056551694869995, 0.5056536197662354, 0.9269486665725708, 0.9268391132354736, 1.3486238718032837, 1.3482260704040527, 0.926740825176239, 0.9267551898956299, 0.9275583028793335, 0.927331805229187, 0.9270061254501343, 0.9268513321876526, 3.2063870429992676, 3.205754518508911, 2.1720645427703857, 2.17167067527771, 1.656010627746582, 1.655981183052063, 1.6548755168914795, 1.654768705368042, 1.654764175415039, 1.1383198499679565, 1.1382951736450195, 1.1382982730865479, 1.1382482051849365, 1.1382427215576172, 1.1382437944412231, 1.138209581375122, 1.1382094621658325, 1.1381698846817017, 1.138162612915039, 1.13816499710083, 1.1379165649414062, 1.1378496885299683, 1.1378487348556519, 1.1376590728759766, 0.6211062073707581, 0.6211060881614685, 0.6211008429527283, 0.6211010813713074, 0.6210740208625793, 0.6210668087005615, 1.6560841798782349, 2.1724369525909424, 1.6552493572235107, 1.1384499073028564, 1.1384496688842773, 1.137921690940857, 1.6556376218795776, 1.6564162969589233, 1.6555205583572388, 1.1392134428024292, 1.1386603116989136, 1.1383817195892334], \"Term\": [\"menschen\", \"wajcman\", \"bhutan\", \"gazprom\", \"turkstream\", \"amazon\", \"tochter\", \"prozent\", \"jauch\", \"wenig\", \"bisher\", \"aserbaidschan\", \"bayern\", \"milliarden\", \"pesos\", \"sendung\", \"ersten\", \"realisierung\", \"moskau\", \"jahren\", \"russland\", \"technik\", \"peking\", \"wiener\", \"rooney\", \"saison\", \"allerdings\", \"freitag\", \"millionen\", \"touristen\", \"amazon\", \"jauch\", \"sendung\", \"peking\", \"stronach\", \"europ\", \"inside\", \"kindle\", \"paperwhite\", \"reader\", \"vetter\", \"parlamentsklub\", \"runde\", \"abgeordnete\", \"teams\", \"ischen\", \"deutschland\", \"spanien\", \"korrespondent\", \"donnerstag\", \"lesen\", \"frankreich\", \"schriftart\", \"anwalt\", \"amazons\", \"erstmals\", \"postings\", \"artikeln\", \"derstandard\", \"franz\", \"russland\", \"erhalten\", \"berichtet\", \"italien\", \"standard\", \"sollen\", \"kommen\", \"dabei\", \"china\", \"pesos\", \"freitag\", \"aufsichtsratssitzung\", \"telekom\", \"gewinn\", \"gesch\", \"geldbedarf\", \"egalisiert\", \"kapitalerh\", \"politische\", \"republik\", \"niveau\", \"unwahrscheinlich\", \"unterboten\", \"europaspiele\", \"menschenrechten\", \"lausiges\", \"aserbaidschan\", \"mobilfunker\", \"heuer\", \"mexikanischen\", \"auslandst\", \"beobachter\", \"gepriesenen\", \"gedenkt\", \"kapitalaufstockungen\", \"erfahrung\", \"einheben\", \"stiegen\", \"generaldirektor\", \"stagnieren\", \"prozent\", \"angesichts\", \"milliarden\", \"jahren\", \"ersten\", \"europa\", \"vergangenen\", \"russland\", \"schon\", \"sterreich\", \"berichtet\", \"presse\", \"menschen\", \"wajcman\", \"bhutan\", \"technik\", \"touristen\", \"frauen\", \"meisten\", \"kommunikation\", \"zeitdruck\", \"verantwortlich\", \"somalia\", \"miliz\", \"gemeinden\", \"probleme\", \"angst\", \"wenigen\", \"leben\", \"personen\", \"entwicklung\", \"opfer\", \"angriff\", \"shabaab\", \"stadt\", \"angreifer\", \"konzentrieren\", \"alltag\", \"backpacker\", \"studenten\", \"economics\", \"kindern\", \"standard\", \"wurde\", \"kinder\", \"tourismus\", \"kommt\", \"anteil\", \"zahlen\", \"immer\", \"viele\", \"dabei\", \"sterreich\", \"gesellschaft\", \"steht\", \"unserer\", \"bayern\", \"rooney\", \"saison\", \"wiener\", \"tochter\", \"hrige\", \"krebs\", \"englischen\", \"eingefrorenen\", \"eizellen\", \"befruchten\", \"sturmspitze\", \"austragen\", \"montag\", \"ckkehren\", \"verpflichtung\", \"parteien\", \"schie\", \"ideen\", \"klingen\", \"innovativ\", \"indizien\", \"wahlkampagnen\", \"bisher\", \"rdert\", \"schwanger\", \"toten\", \"verboten\", \"auszutragen\", \"ndige\", \"beispiel\", \"daran\", \"millionen\", \"wenig\", \"sporttabellenteaser\", \"params\", \"lassen\", \"allerdings\", \"natur\", \"sagte\", \"gazprom\", \"turkstream\", \"realisierung\", \"moskau\", \"croft\", \"raider\", \"verhandlungen\", \"pipeline\", \"projekts\", \"folge\", \"stuttgart\", \"porsche\", \"lannert\", \"mercedes\", \"blich\", \"mordopfer\", \"auftragskiller\", \"tatort\", \"gescheiter\", \"konnte\", \"gazproms\", \"widerstand\", \"saipem\", \"southstream\", \"systemen\", \"zeitlich\", \"offizielle\", \"screenshots\", \"vorstellung\", \"erklimmt\", \"spiel\", \"wenig\", \"milliarden\", \"eigentlich\", \"jahres\", \"experten\", \"allerdings\", \"ersten\", \"schon\", \"immer\", \"erste\", \"anfang\"], \"Total\": [11.0, 10.0, 9.0, 3.0, 3.0, 5.0, 3.0, 4.0, 5.0, 4.0, 2.0, 2.0, 2.0, 3.0, 2.0, 4.0, 4.0, 2.0, 2.0, 5.0, 4.0, 6.0, 3.0, 1.0, 1.0, 1.0, 4.0, 1.0, 4.0, 5.0, 5.771382808685303, 5.118180274963379, 4.466104984283447, 3.814101457595825, 3.1620426177978516, 3.161734104156494, 3.1615962982177734, 3.1615285873413086, 3.1615376472473145, 3.1614303588867188, 2.5094316005706787, 2.509411573410034, 2.5093860626220703, 2.5094025135040283, 2.509265184402466, 2.5091969966888428, 2.509148359298706, 2.5092389583587646, 2.5091350078582764, 2.509101390838623, 2.509024143218994, 2.509153127670288, 2.508957624435425, 2.508697748184204, 2.508880615234375, 2.508923053741455, 1.8568789958953857, 1.8568787574768066, 1.856831669807434, 1.8568090200424194, 4.0210113525390625, 2.9388279914855957, 2.9384605884552, 3.027100086212158, 10.29239273071289, 3.244878053665161, 3.7632336616516113, 5.45334005355835, 3.2453086376190186, 2.2699954509735107, 1.8403353691101074, 1.4107117652893066, 1.410721778869629, 1.410726547241211, 1.4107606410980225, 1.4107476472854614, 1.4107533693313599, 1.410751223564148, 1.4106954336166382, 1.4108154773712158, 1.4107046127319336, 1.4108325242996216, 1.4107410907745361, 1.4107699394226074, 1.4107937812805176, 1.4107497930526733, 2.9224116802215576, 0.9811092019081116, 0.9811162352561951, 0.9811081886291504, 0.9811224937438965, 0.9811074733734131, 0.9811097383499146, 0.9811130166053772, 0.9811296463012695, 0.98112553358078, 0.9811246991157532, 0.9811316728591919, 0.9811222553253174, 0.9811345338821411, 4.605245590209961, 1.9285807609558105, 3.3938393592834473, 5.333879470825195, 4.698655128479004, 2.715733051300049, 3.738691568374634, 4.0210113525390625, 4.7744245529174805, 5.660321235656738, 2.9384605884552, 1.633279800415039, 11.593779563903809, 10.121479034423828, 9.385679244995117, 6.440745830535889, 5.704254627227783, 4.968204021453857, 4.232545375823975, 4.232422828674316, 3.4961016178131104, 3.495922088623047, 3.495913028717041, 3.495901107788086, 3.4963736534118652, 2.759995222091675, 2.759953498840332, 2.759988784790039, 2.759915590286255, 2.75993275642395, 2.7599291801452637, 2.759847402572632, 2.759800910949707, 2.75972843170166, 4.749721050262451, 2.0239174365997314, 2.0238633155822754, 2.023860216140747, 2.0238423347473145, 2.0238311290740967, 2.023855209350586, 2.023827314376831, 10.29239273071289, 6.138848304748535, 5.306416988372803, 3.181601047515869, 4.4354352951049805, 3.1896469593048096, 3.2776689529418945, 6.341961860656738, 5.318886756896973, 5.45334005355835, 5.660321235656738, 3.4125022888183594, 3.707235336303711, 3.412334680557251, 2.237736940383911, 1.8162124156951904, 1.8162007331848145, 1.8165740966796875, 3.1774439811706543, 1.394755482673645, 1.3947703838348389, 1.3946398496627808, 1.3947980403900146, 1.3948063850402832, 1.3948057889938354, 1.3946353197097778, 1.3948153257369995, 1.3947241306304932, 1.3946552276611328, 1.394647240638733, 1.39487624168396, 1.3946397304534912, 1.3949137926101685, 1.3949506282806396, 1.3949705362319946, 1.3949798345565796, 1.394984483718872, 2.8906257152557373, 0.9731259346008301, 0.9731449484825134, 0.9731456637382507, 0.9731473922729492, 0.9731501936912537, 0.9731550812721252, 2.130843162536621, 2.1309313774108887, 4.1521992683410645, 4.623930931091309, 2.6996541023254395, 2.6997649669647217, 3.12925386428833, 4.113863468170166, 2.8670833110809326, 2.866752862930298, 3.65816593170166, 3.658254384994507, 2.622750997543335, 2.6226017475128174, 2.1049816608428955, 2.1049931049346924, 2.1049094200134277, 2.1049177646636963, 2.1049160957336426, 1.5870391130447388, 1.5870189666748047, 1.587024450302124, 1.5869853496551514, 1.5870097875595093, 1.587024211883545, 1.5869903564453125, 1.5870295763015747, 1.5869885683059692, 1.5870134830474854, 1.5871429443359375, 1.5870879888534546, 1.5871002674102783, 1.587157964706421, 1.587152123451233, 1.0693440437316895, 1.0693442821502686, 1.069338083267212, 1.069344162940979, 1.0693503618240356, 1.0693531036376953, 3.1871390342712402, 4.623930931091309, 3.3938393592834473, 2.2395191192626953, 2.239637613296509, 2.2396256923675537, 4.113863468170166, 4.698655128479004, 4.7744245529174805, 6.341961860656738, 2.3231558799743652, 2.74497127532959], \"loglift\": [30.0, 29.0, 28.0, 27.0, 26.0, 25.0, 24.0, 23.0, 22.0, 21.0, 20.0, 19.0, 18.0, 17.0, 16.0, 15.0, 14.0, 13.0, 12.0, 11.0, 10.0, 9.0, 8.0, 7.0, 6.0, 5.0, 4.0, 3.0, 2.0, 1.0, 1.2654000520706177, 1.2553000450134277, 1.2421000003814697, 1.2242000102996826, 1.198799967765808, 1.1984000205993652, 1.1983000040054321, 1.1983000040054321, 1.1983000040054321, 1.198199987411499, 1.1581000089645386, 1.1581000089645386, 1.1579999923706055, 1.1579999923706055, 1.1576999425888062, 1.1576000452041626, 1.1576000452041626, 1.1576000452041626, 1.1576000452041626, 1.1576000452041626, 1.1576000452041626, 1.1575000286102295, 1.1575000286102295, 1.1575000286102295, 1.1574000120162964, 1.1574000120162964, 1.0848000049591064, 1.0848000049591064, 1.0846999883651733, 1.0845999717712402, 0.9581000208854675, 0.9997000098228455, 0.9995999932289124, 0.9700999855995178, -0.2529999911785126, 0.9010000228881836, 0.7527999877929688, 0.3813999891281128, 0.9003999829292297, 2.0360000133514404, 1.9738999605178833, 1.8652000427246094, 1.8652000427246094, 1.8652000427246094, 1.8651000261306763, 1.8651000261306763, 1.8651000261306763, 1.8650000095367432, 1.8650000095367432, 1.86489999294281, 1.86489999294281, 1.864799976348877, 1.864799976348877, 1.8646999597549438, 1.8646999597549438, 1.8646999597549438, 1.7832000255584717, 1.6224000453948975, 1.6223000288009644, 1.6223000288009644, 1.6223000288009644, 1.6223000288009644, 1.6223000288009644, 1.6223000288009644, 1.6223000288009644, 1.6223000288009644, 1.6223000288009644, 1.6222000122070312, 1.6222000122070312, 1.6222000122070312, 1.5428999662399292, 1.55239999294281, 1.3619999885559082, 1.1821000576019287, 1.0369000434875488, 1.2105000019073486, 0.890999972820282, 0.8184999823570251, 0.6467000246047974, 0.4763999879360199, 0.5273000001907349, 1.1145000457763672, 0.9150000214576721, 0.9096999764442444, 0.906499981880188, 0.8855999708175659, 0.876800000667572, 0.8654999732971191, 0.8501999974250793, 0.8500999808311462, 0.8274999856948853, 0.8274999856948853, 0.8274000287055969, 0.8274000287055969, 0.8274000287055969, 0.7921000123023987, 0.7921000123023987, 0.7921000123023987, 0.7919999957084656, 0.7919999957084656, 0.7919999957084656, 0.7918999791145325, 0.7918999791145325, 0.7918000221252441, 0.7343000173568726, 0.7276999950408936, 0.7276999950408936, 0.7276999950408936, 0.7276999950408936, 0.7276999950408936, 0.7276999950408936, 0.7276999950408936, 0.635200023651123, 0.6541000008583069, 0.6238999962806702, 0.6499999761581421, 0.5893999934196472, 0.6474999785423279, 0.6201000213623047, 0.4456999897956848, 0.4081000089645386, 0.3828999996185303, 0.3456999957561493, 0.5799999833106995, 0.49709999561309814, 0.5799000263214111, 2.061500072479248, 1.9984999895095825, 1.9983999729156494, 1.9982000589370728, 1.9249000549316406, 1.8880000114440918, 1.8880000114440918, 1.8880000114440918, 1.8878999948501587, 1.8878999948501587, 1.8878999948501587, 1.8878999948501587, 1.8878999948501587, 1.8877999782562256, 1.8877999782562256, 1.8876999616622925, 1.8876999616622925, 1.8876999616622925, 1.8875999450683594, 1.8875000476837158, 1.8875000476837158, 1.8874000310897827, 1.8874000310897827, 1.8056999444961548, 1.6418999433517456, 1.6418999433517456, 1.6418999433517456, 1.6418999433517456, 1.641800045967102, 1.641800045967102, 1.4642000198364258, 1.4639999866485596, 1.1720000505447388, 1.0641000270843506, 1.2273000478744507, 1.2273000478744507, 1.0805000066757202, 0.8066999912261963, 1.1674000024795532, 1.1674000024795532, 1.7781000137329102, 1.7777999639511108, 1.7213000059127808, 1.7211999893188477, 1.6699999570846558, 1.6699999570846558, 1.6692999601364136, 1.6692999601364136, 1.6692999601364136, 1.5776000022888184, 1.5776000022888184, 1.5776000022888184, 1.5774999856948853, 1.5774999856948853, 1.5774999856948853, 1.5774999856948853, 1.5774999856948853, 1.5774999856948853, 1.5773999691009521, 1.5773999691009521, 1.5772000551223755, 1.5771000385284424, 1.5771000385284424, 1.5769000053405762, 1.3666000366210938, 1.3666000366210938, 1.3666000366210938, 1.3666000366210938, 1.3665000200271606, 1.3665000200271606, 1.2552000284194946, 1.1545000076293945, 1.1919000148773193, 1.233299970626831, 1.233199954032898, 1.232800006866455, 0.9997000098228455, 0.8672999739646912, 0.8507000207901001, 0.19300000369548798, 1.1967999935150146, 1.0297000408172607], \"logprob\": [30.0, 29.0, 28.0, 27.0, 26.0, 25.0, 24.0, 23.0, 22.0, 21.0, 20.0, 19.0, 18.0, 17.0, 16.0, 15.0, 14.0, 13.0, 12.0, 11.0, 10.0, 9.0, 8.0, 7.0, 6.0, 5.0, 4.0, 3.0, 2.0, 1.0, -4.8572001457214355, -4.987400054931641, -5.1367998123168945, -5.3125, -5.525400161743164, -5.526000022888184, -5.526100158691406, -5.526100158691406, -5.526100158691406, -5.526299953460693, -5.797299861907959, -5.797399997711182, -5.797399997711182, -5.797399997711182, -5.797800064086914, -5.797900199890137, -5.797900199890137, -5.797900199890137, -5.797999858856201, -5.797999858856201, -5.797999858856201, -5.797999858856201, -5.7982001304626465, -5.798299789428711, -5.7982001304626465, -5.7982001304626465, -6.171800136566162, -6.171800136566162, -6.171899795532227, -6.171999931335449, -5.5258002281188965, -5.797800064086914, -5.797999858856201, -5.797800064086914, -5.797100067138672, -5.797399997711182, -5.797399997711182, -5.797800064086914, -5.797900199890137, -5.019700050354004, -5.291600227355957, -5.666200160980225, -5.666200160980225, -5.666200160980225, -5.666299819946289, -5.666299819946289, -5.666299819946289, -5.666299819946289, -5.666399955749512, -5.666500091552734, -5.666600227355957, -5.666500091552734, -5.666600227355957, -5.666600227355957, -5.6666998863220215, -5.6666998863220215, -5.019800186157227, -6.272200107574463, -6.272200107574463, -6.272200107574463, -6.272200107574463, -6.272299766540527, -6.272299766540527, -6.272299766540527, -6.272299766540527, -6.272299766540527, -6.272299766540527, -6.272299766540527, -6.272299766540527, -6.272299766540527, -4.8053998947143555, -5.666299819946289, -5.291600227355957, -5.0192999839782715, -5.291299819946289, -5.665999889373779, -5.665800094604492, -5.66540002822876, -5.665500164031982, -5.665599822998047, -6.270299911499023, -6.270500183105469, -4.5100998878479, -4.651199817657471, -4.729899883270264, -5.127200126647949, -5.257400035858154, -5.406899929046631, -5.582499980926514, -5.582600116729736, -5.796299934387207, -5.79640007019043, -5.796500205993652, -5.796500205993652, -5.79640007019043, -6.06820011138916, -6.06820011138916, -6.06820011138916, -6.068299770355225, -6.068299770355225, -6.068299770355225, -6.068399906158447, -6.068399906158447, -6.068600177764893, -5.583099842071533, -6.442699909210205, -6.442800045013428, -6.442800045013428, -6.442800045013428, -6.442800045013428, -6.442800045013428, -6.442800045013428, -4.90880012512207, -5.406799793243408, -5.582699775695801, -6.0680999755859375, -5.79640007019043, -6.0680999755859375, -6.068299770355225, -5.582600116729736, -5.796199798583984, -5.796299934387207, -5.796299934387207, -6.067999839782715, -6.06820011138916, -6.06820011138916, -5.008500099182129, -5.280300140380859, -5.280399799346924, -5.280300140380859, -4.79449987411499, -5.654799938201904, -5.654799938201904, -5.654900074005127, -5.654799938201904, -5.654799938201904, -5.654900074005127, -5.65500020980835, -5.654900074005127, -5.65500020980835, -5.655099868774414, -5.655099868774414, -5.65500020980835, -5.655200004577637, -5.65500020980835, -5.655099868774414, -5.655200004577637, -5.655200004577637, -5.655200004577637, -5.008299827575684, -6.260799884796143, -6.260799884796143, -6.260799884796143, -6.260900020599365, -6.260900020599365, -6.260900020599365, -5.654799938201904, -5.654900074005127, -5.279900074005127, -5.280200004577637, -5.65500020980835, -5.65500020980835, -5.654200077056885, -5.654399871826172, -5.654799938201904, -5.654900074005127, -4.80049991607666, -4.8007001876831055, -5.189899921417236, -5.190100193023682, -5.46120023727417, -5.46120023727417, -5.461900234222412, -5.461999893188477, -5.461999893188477, -5.836100101470947, -5.836100101470947, -5.836100101470947, -5.836100101470947, -5.836100101470947, -5.836100101470947, -5.83620023727417, -5.83620023727417, -5.83620023727417, -5.83620023727417, -5.83620023727417, -5.836400032043457, -5.83650016784668, -5.83650016784668, -5.836599826812744, -6.44189977645874, -6.44189977645874, -6.44189977645874, -6.44189977645874, -6.44189977645874, -6.44189977645874, -5.46120023727417, -5.189799785614014, -5.461699962615967, -5.835899829864502, -5.835899829864502, -5.836400032043457, -5.461400032043457, -5.460999965667725, -5.46150016784668, -5.835299968719482, -5.8358001708984375, -5.835999965667725]}, \"token.table\": {\"Topic\": [1, 2, 3, 4, 5, 3, 1, 1, 3, 4, 5, 2, 5, 3, 3, 3, 2, 3, 1, 1, 1, 2, 2, 5, 2, 4, 4, 3, 4, 4, 3, 4, 2, 1, 2, 3, 1, 4, 5, 1, 3, 4, 5, 1, 3, 3, 4, 1, 1, 1, 3, 2, 1, 5, 4, 2, 4, 4, 3, 2, 1, 2, 5, 3, 5, 1, 2, 5, 1, 1, 1, 2, 2, 1, 5, 5, 1, 1, 3, 2, 5, 5, 2, 2, 3, 2, 2, 2, 5, 1, 3, 2, 2, 4, 4, 1, 3, 4, 5, 4, 4, 1, 1, 1, 5, 1, 2, 3, 4, 5, 1, 5, 1, 2, 2, 1, 3, 4, 3, 1, 4, 1, 3, 5, 3, 4, 5, 3, 5, 3, 1, 4, 5, 1, 2, 4, 2, 3, 1, 3, 3, 2, 5, 2, 3, 2, 5, 1, 2, 3, 4, 5, 2, 4, 5, 5, 3, 4, 4, 2, 5, 3, 1, 1, 4, 1, 4, 1, 3, 2, 5, 2, 5, 1, 1, 2, 3, 5, 1, 2, 3, 5, 5, 4, 1, 5, 2, 4, 1, 1, 2, 3, 4, 5, 4, 4, 1, 2, 3, 4, 5, 1, 4, 5, 1, 3, 1, 3, 3, 5, 1, 1, 2, 5, 1, 4, 3, 5, 2, 1, 3, 4, 2, 3, 5, 1, 2, 3, 2, 1, 3, 4, 5, 5, 5, 1, 3, 2, 4, 5, 4, 3, 4, 3, 5, 1, 3, 2, 2, 3, 4, 1, 2, 3, 4, 5, 5, 4, 1, 1, 3, 5, 5, 4, 3, 3, 4, 5, 3, 5, 4, 1, 3, 5, 3, 5, 3, 5], \"Freq\": [0.7970024943351746, 0.2430804967880249, 0.2430804967880249, 0.2430804967880249, 0.4861609935760498, 0.9882105588912964, 0.8663434982299805, 0.7971682548522949, 0.36430254578590393, 0.36430254578590393, 0.36430254578590393, 0.5185160040855408, 0.5185160040855408, 0.9881826043128967, 0.7246899604797363, 0.7246499061584473, 0.3135143220424652, 0.6270286440849304, 0.7972263693809509, 0.5385380983352661, 0.3421831429004669, 0.6843662858009338, 0.7088620066642761, 0.6301079988479614, 1.0192407369613647, 0.7169407606124878, 1.0275906324386597, 0.9882192611694336, 0.893760085105896, 0.7169457077980042, 0.4692977964878082, 0.4692977964878082, 1.019256353378296, 0.6806284785270691, 0.34031423926353455, 0.9589076638221741, 0.3459458649158478, 0.6918917298316956, 0.6301100850105286, 0.6162741780281067, 0.30813708901405334, 0.7170230746269226, 0.9501270651817322, 0.3667477071285248, 0.550121545791626, 0.46927836537361145, 0.46927836537361145, 0.5385518074035645, 0.7970831990242004, 0.7970981001853943, 0.9882130026817322, 0.7088411450386047, 0.446524441242218, 0.446524441242218, 0.7169497013092041, 1.0192384719848633, 0.7169454097747803, 0.7170310020446777, 0.7246562838554382, 1.0192375183105469, 0.6805434226989746, 0.3402717113494873, 0.9351447820663452, 0.4304489493370056, 0.4304489493370056, 0.21282686293125153, 0.21282686293125153, 0.42565372586250305, 0.7971547842025757, 0.9488463997840881, 0.36822471022605896, 0.36822471022605896, 0.7088328003883362, 0.4465031921863556, 0.4465031921863556, 0.6301041841506958, 0.797081708908081, 0.5385583639144897, 1.0063998699188232, 0.5433792471885681, 0.8200830817222595, 0.6300848126411438, 1.019250512123108, 0.708844006061554, 0.8580318689346313, 1.0192409753799438, 1.0192539691925049, 0.7088374495506287, 0.6301143765449524, 0.29304009675979614, 0.5860801935195923, 0.708854615688324, 1.0192471742630005, 0.7169715762138367, 0.7168901562690735, 0.15767991542816162, 0.6307196617126465, 0.15767991542816162, 0.15767991542816162, 0.7168562412261963, 0.7168610095977783, 0.9488877654075623, 0.7970677614212036, 0.6606983542442322, 0.3303491771221161, 0.18748080730438232, 0.37496161460876465, 0.37496161460876465, 0.18748080730438232, 0.18748080730438232, 0.4465008080005646, 0.4465008080005646, 0.9769096970558167, 1.0192333459854126, 0.7088422179222107, 0.18845108151435852, 0.7538043260574341, 0.18845108151435852, 0.988226592540741, 0.9489080905914307, 0.7168712615966797, 0.5314578413963318, 0.2657289206981659, 0.2657289206981659, 0.6763710379600525, 0.22545701265335083, 0.22545701265335083, 0.9450851678848267, 0.630062997341156, 0.9882090091705322, 0.7970874309539795, 0.7169638872146606, 0.6301255226135254, 0.3195649981498718, 0.3195649981498718, 0.3195649981498718, 0.708842933177948, 0.7246598601341248, 0.7971226572990417, 0.9450578093528748, 0.9487846493721008, 0.7088208198547363, 0.630115807056427, 1.0192556381225586, 0.8581478595733643, 0.2946515381336212, 0.5893030762672424, 0.2408362329006195, 0.2408362329006195, 0.2408362329006195, 0.2408362329006195, 0.2408362329006195, 1.0192545652389526, 0.716987669467926, 0.6301235556602478, 0.7626014947891235, 0.6975730061531067, 0.34878650307655334, 1.027585506439209, 0.7088656425476074, 0.9351579546928406, 0.7246777415275574, 0.948905348777771, 0.37040260434150696, 0.37040260434150696, 0.7969995737075806, 0.7169094681739807, 0.7865548729896545, 0.7246553301811218, 0.8810590505599976, 0.9501559138298035, 0.7088702321052551, 0.6301100254058838, 0.5385380387306213, 0.6122649908065796, 0.6122649908065796, 0.7246389389038086, 0.9501566290855408, 0.2171436846256256, 0.4342873692512512, 0.2171436846256256, 0.2171436846256256, 0.9501218795776367, 1.027616262435913, 0.9489375352859497, 0.762558102607727, 0.7088099122047424, 0.5505964159965515, 0.79700767993927, 0.7460809350013733, 0.24869365990161896, 0.6976534128189087, 0.34882670640945435, 0.6300570368766785, 0.5505999326705933, 0.7170310616493225, 0.20944932103157043, 0.20944932103157043, 0.20944932103157043, 0.20944932103157043, 0.41889864206314087, 0.797143816947937, 1.027596116065979, 0.9351526498794556, 0.8956350088119507, 0.7247089743614197, 0.6163559556007385, 0.30817797780036926, 0.8581449389457703, 0.6300593018531799, 0.7970544099807739, 0.31376102566719055, 0.31376102566719055, 0.6275220513343811, 0.37041783332824707, 0.37041783332824707, 0.8421547412872314, 0.21053868532180786, 1.019228219985962, 0.1943182796239853, 0.7772731184959412, 0.09715913981199265, 0.26974278688430786, 0.5394855737686157, 0.26974278688430786, 0.1766684204339981, 0.1766684204339981, 0.5300052762031555, 1.0192312002182007, 0.948753833770752, 0.9882247447967529, 0.717033326625824, 0.6301121711730957, 0.9351527094841003, 0.6301242709159851, 0.7970460653305054, 0.9315691590309143, 0.708856999874115, 0.629436731338501, 0.3147183656692505, 1.0275954008102417, 0.6286143064498901, 0.31430715322494507, 0.8765386939048767, 0.8200632333755493, 0.2930544912815094, 0.5861089825630188, 0.7088472843170166, 0.7088013291358948, 0.8581426739692688, 1.0275936126708984, 0.2674732506275177, 0.2674732506275177, 0.2674732506275177, 0.2674732506275177, 0.2674732506275177, 0.9501596689224243, 0.7170271873474121, 0.7969932556152344, 0.18800926208496094, 0.5640277862548828, 0.18800926208496094, 0.935147225856781, 0.7168538570404053, 0.9879978895187378, 0.2162661999464035, 0.2162661999464035, 0.432532399892807, 0.7246406078338623, 0.6300799250602722, 0.5504867434501648, 0.1628970056772232, 0.8144850134849548, 0.1628970056772232, 0.6101897358894348, 0.3050948679447174, 0.8580986261367798, 0.935152530670166], \"Term\": [\"abgeordnete\", \"allerdings\", \"allerdings\", \"allerdings\", \"allerdings\", \"alltag\", \"amazon\", \"amazons\", \"anfang\", \"anfang\", \"anfang\", \"angesichts\", \"angesichts\", \"angreifer\", \"angriff\", \"angst\", \"anteil\", \"anteil\", \"anwalt\", \"artikeln\", \"aserbaidschan\", \"aserbaidschan\", \"aufsichtsratssitzung\", \"auftragskiller\", \"auslandst\", \"austragen\", \"auszutragen\", \"backpacker\", \"bayern\", \"befruchten\", \"beispiel\", \"beispiel\", \"beobachter\", \"berichtet\", \"berichtet\", \"bhutan\", \"bisher\", \"bisher\", \"blich\", \"china\", \"china\", \"ckkehren\", \"croft\", \"dabei\", \"dabei\", \"daran\", \"daran\", \"derstandard\", \"deutschland\", \"donnerstag\", \"economics\", \"egalisiert\", \"eigentlich\", \"eigentlich\", \"eingefrorenen\", \"einheben\", \"eizellen\", \"englischen\", \"entwicklung\", \"erfahrung\", \"erhalten\", \"erhalten\", \"erklimmt\", \"erste\", \"erste\", \"ersten\", \"ersten\", \"ersten\", \"erstmals\", \"europ\", \"europa\", \"europa\", \"europaspiele\", \"experten\", \"experten\", \"folge\", \"frankreich\", \"franz\", \"frauen\", \"freitag\", \"gazprom\", \"gazproms\", \"gedenkt\", \"geldbedarf\", \"gemeinden\", \"generaldirektor\", \"gepriesenen\", \"gesch\", \"gescheiter\", \"gesellschaft\", \"gesellschaft\", \"gewinn\", \"heuer\", \"hrige\", \"ideen\", \"immer\", \"immer\", \"immer\", \"immer\", \"indizien\", \"innovativ\", \"inside\", \"ischen\", \"italien\", \"italien\", \"jahren\", \"jahren\", \"jahren\", \"jahren\", \"jahren\", \"jahres\", \"jahres\", \"jauch\", \"kapitalaufstockungen\", \"kapitalerh\", \"kinder\", \"kinder\", \"kinder\", \"kindern\", \"kindle\", \"klingen\", \"kommen\", \"kommen\", \"kommen\", \"kommt\", \"kommt\", \"kommt\", \"kommunikation\", \"konnte\", \"konzentrieren\", \"korrespondent\", \"krebs\", \"lannert\", \"lassen\", \"lassen\", \"lassen\", \"lausiges\", \"leben\", \"lesen\", \"meisten\", \"menschen\", \"menschenrechten\", \"mercedes\", \"mexikanischen\", \"miliz\", \"milliarden\", \"milliarden\", \"millionen\", \"millionen\", \"millionen\", \"millionen\", \"millionen\", \"mobilfunker\", \"montag\", \"mordopfer\", \"moskau\", \"natur\", \"natur\", \"ndige\", \"niveau\", \"offizielle\", \"opfer\", \"paperwhite\", \"params\", \"params\", \"parlamentsklub\", \"parteien\", \"peking\", \"personen\", \"pesos\", \"pipeline\", \"politische\", \"porsche\", \"postings\", \"presse\", \"presse\", \"probleme\", \"projekts\", \"prozent\", \"prozent\", \"prozent\", \"prozent\", \"raider\", \"rdert\", \"reader\", \"realisierung\", \"republik\", \"rooney\", \"runde\", \"russland\", \"russland\", \"sagte\", \"sagte\", \"saipem\", \"saison\", \"schie\", \"schon\", \"schon\", \"schon\", \"schon\", \"schon\", \"schriftart\", \"schwanger\", \"screenshots\", \"sendung\", \"shabaab\", \"sollen\", \"sollen\", \"somalia\", \"southstream\", \"spanien\", \"spiel\", \"spiel\", \"spiel\", \"sporttabellenteaser\", \"sporttabellenteaser\", \"stadt\", \"stadt\", \"stagnieren\", \"standard\", \"standard\", \"standard\", \"steht\", \"steht\", \"steht\", \"sterreich\", \"sterreich\", \"sterreich\", \"stiegen\", \"stronach\", \"studenten\", \"sturmspitze\", \"stuttgart\", \"systemen\", \"tatort\", \"teams\", \"technik\", \"telekom\", \"tochter\", \"tochter\", \"toten\", \"tourismus\", \"tourismus\", \"touristen\", \"turkstream\", \"unserer\", \"unserer\", \"unterboten\", \"unwahrscheinlich\", \"verantwortlich\", \"verboten\", \"vergangenen\", \"vergangenen\", \"vergangenen\", \"vergangenen\", \"vergangenen\", \"verhandlungen\", \"verpflichtung\", \"vetter\", \"viele\", \"viele\", \"viele\", \"vorstellung\", \"wahlkampagnen\", \"wajcman\", \"wenig\", \"wenig\", \"wenig\", \"wenigen\", \"widerstand\", \"wiener\", \"wurde\", \"wurde\", \"wurde\", \"zahlen\", \"zahlen\", \"zeitdruck\", \"zeitlich\"]}, \"R\": 30, \"lambda.step\": 0.01, \"plot.opts\": {\"xlab\": \"PC1\", \"ylab\": \"PC2\"}, \"topic.order\": [1, 2, 3, 4, 5]};\n",
              "\n",
              "function LDAvis_load_lib(url, callback){\n",
              "  var s = document.createElement('script');\n",
              "  s.src = url;\n",
              "  s.async = true;\n",
              "  s.onreadystatechange = s.onload = callback;\n",
              "  s.onerror = function(){console.warn(\"failed to load library \" + url);};\n",
              "  document.getElementsByTagName(\"head\")[0].appendChild(s);\n",
              "}\n",
              "\n",
              "if(typeof(LDAvis) !== \"undefined\"){\n",
              "   // already loaded: just create the visualization\n",
              "   !function(LDAvis){\n",
              "       new LDAvis(\"#\" + \"ldavis_el28881405762137240402315629633\", ldavis_el28881405762137240402315629633_data);\n",
              "   }(LDAvis);\n",
              "}else if(typeof define === \"function\" && define.amd){\n",
              "   // require.js is available: use it to load d3/LDAvis\n",
              "   require.config({paths: {d3: \"https://cdnjs.cloudflare.com/ajax/libs/d3/3.5.5/d3.min\"}});\n",
              "   require([\"d3\"], function(d3){\n",
              "      window.d3 = d3;\n",
              "      LDAvis_load_lib(\"https://cdn.rawgit.com/bmabey/pyLDAvis/files/ldavis.v1.0.0.js\", function(){\n",
              "        new LDAvis(\"#\" + \"ldavis_el28881405762137240402315629633\", ldavis_el28881405762137240402315629633_data);\n",
              "      });\n",
              "    });\n",
              "}else{\n",
              "    // require.js not available: dynamically load d3 & LDAvis\n",
              "    LDAvis_load_lib(\"https://cdnjs.cloudflare.com/ajax/libs/d3/3.5.5/d3.min.js\", function(){\n",
              "         LDAvis_load_lib(\"https://cdn.rawgit.com/bmabey/pyLDAvis/files/ldavis.v1.0.0.js\", function(){\n",
              "                 new LDAvis(\"#\" + \"ldavis_el28881405762137240402315629633\", ldavis_el28881405762137240402315629633_data);\n",
              "            })\n",
              "         });\n",
              "}\n",
              "</script>"
            ],
            "text/plain": [
              "<IPython.core.display.HTML object>"
            ]
          },
          "metadata": {
            "tags": []
          },
          "execution_count": 32
        }
      ]
    },
    {
      "cell_type": "code",
      "metadata": {
        "id": "pBbciZV0a0tb",
        "colab_type": "code",
        "colab": {
          "base_uri": "https://localhost:8080/",
          "height": 0
        },
        "outputId": "b5c88e34-5786-4b99-dda3-eeeb48850f60"
      },
      "source": [
        "title_data = [] #creating empty list for title\n",
        "for line in df_2k['Title']:\n",
        "    tokens = tokenize(line)\n",
        "    if random.random() > .99:\n",
        "        print(tokens)\n",
        "        title_data.append(tokens)"
      ],
      "execution_count": 33,
      "outputs": [
        {
          "output_type": "stream",
          "text": [
            "['ltnis', 'tschechien', 'russland', 'belastet']\n",
            "['morrison', 'spotlight', 'schamanen']\n",
            "['polizist', 'quittierte', 'brutalem', 'einsatz', 'poolparty', 'dienst']\n",
            "['waffenproduzent', 'pleite']\n",
            "['nationalbibliothek', 'parlamentarier', 'aufnehmen']\n",
            "['jauch', 'drohte', 'schon', 'ndigung']\n",
            "['hitzeproblem', 'xperia']\n",
            "['japaner', 'schlafen', 'wenig']\n",
            "['polizei', 'ermittelt', 'wegen', 'rassistischen', 'manifests']\n",
            "['rauscher', 'robert', 'misik', 'griechenland', 'krise']\n",
            "['amazon', 'streik', 'weitet']\n",
            "['derstandard', 'freut', 'facebook']\n",
            "['geisterfahrer', 'internet']\n",
            "['batman', 'arkham', 'knight', 'hersteller', 'wusste', 'offenbar', 'monaten', 'problemen']\n",
            "['kupferpreis', 'bricht', 'wegen', 'angst', 'china', 'krise']\n",
            "['verhandlungsmarathon', 'grexit', 'tisch', 'vorerst']\n",
            "['startet', 'personalisierten', 'nachrichten']\n",
            "['nachfrage', 'wiener', 'romarkt']\n",
            "['syrien', 'sident', 'assad', 'deserteuren', 'amnestie']\n"
          ],
          "name": "stdout"
        }
      ]
    },
    {
      "cell_type": "code",
      "metadata": {
        "id": "mcouPGnKbIfT",
        "colab_type": "code",
        "colab": {
          "base_uri": "https://localhost:8080/",
          "height": 0
        },
        "outputId": "d4029b21-1455-4193-e355-d46bdc836ca6"
      },
      "source": [
        "dictt = corpora.Dictionary(title_data) #dictionary for title data\n",
        "corpus_words_title = [dictt.doc2bow(text) for text in title_data]\n",
        "\n",
        "pickle.dump(corpus_words_title, open('corpus.pkl', 'wb'))\n",
        "dictt.save('dictionary_title.gensim')"
      ],
      "execution_count": 34,
      "outputs": [
        {
          "output_type": "stream",
          "text": [
            "/usr/local/lib/python3.6/dist-packages/smart_open/smart_open_lib.py:402: UserWarning: This function is deprecated, use smart_open.open instead. See the migration notes for details: https://github.com/RaRe-Technologies/smart_open/blob/master/README.rst#migrating-to-the-new-open-function\n",
            "  'See the migration notes for details: %s' % _MIGRATION_NOTES_URL\n"
          ],
          "name": "stderr"
        }
      ]
    },
    {
      "cell_type": "code",
      "metadata": {
        "id": "LDfjxJvdbbuj",
        "colab_type": "code",
        "colab": {
          "base_uri": "https://localhost:8080/",
          "height": 0
        },
        "outputId": "42219d93-69ee-4a52-81b8-9a8bc6896c23"
      },
      "source": [
        "import gensim #finding topics for title\n",
        "lda_model_title = gensim.models.ldamodel.LdaModel(corpus_words_title, num_topics = 5, id2word=dictt, passes=15)\n",
        "lda_model_title.save('model_ldavis_t')\n",
        "topicst = lda_model_title.print_topics(num_words=4)\n",
        "for topic in topicst:\n",
        "    print(topic)"
      ],
      "execution_count": 35,
      "outputs": [
        {
          "output_type": "stream",
          "text": [
            "(0, '0.045*\"wegen\" + 0.024*\"poolparty\" + 0.024*\"einsatz\" + 0.024*\"quittierte\"')\n",
            "(1, '0.051*\"japaner\" + 0.051*\"wenig\" + 0.051*\"schlafen\" + 0.051*\"internet\"')\n",
            "(2, '0.047*\"assad\" + 0.047*\"amnestie\" + 0.047*\"sident\" + 0.047*\"deserteuren\"')\n",
            "(3, '0.036*\"krise\" + 0.036*\"batman\" + 0.036*\"arkham\" + 0.036*\"wusste\"')\n",
            "(4, '0.014*\"morrison\" + 0.014*\"schamanen\" + 0.014*\"wiener\" + 0.014*\"nachfrage\"')\n"
          ],
          "name": "stdout"
        },
        {
          "output_type": "stream",
          "text": [
            "/usr/local/lib/python3.6/dist-packages/smart_open/smart_open_lib.py:402: UserWarning: This function is deprecated, use smart_open.open instead. See the migration notes for details: https://github.com/RaRe-Technologies/smart_open/blob/master/README.rst#migrating-to-the-new-open-function\n",
            "  'See the migration notes for details: %s' % _MIGRATION_NOTES_URL\n"
          ],
          "name": "stderr"
        }
      ]
    },
    {
      "cell_type": "code",
      "metadata": {
        "id": "6XRql8wzcBmL",
        "colab_type": "code",
        "colab": {
          "base_uri": "https://localhost:8080/",
          "height": 0
        },
        "outputId": "3609294d-8bde-4922-d71d-3e4e6df91e8a"
      },
      "source": [
        "dictionaryt = gensim.corpora.Dictionary.load('dictionary_title.gensim') #display of the pyLDAvis for body\n",
        "corpus_t = pickle.load(open('corpus.pkl', 'rb'))\n",
        "ldat = gensim.models.ldamodel.LdaModel.load('model_ldavis_t')\n",
        "import pyLDAvis.gensim\n",
        "lda_displayt = pyLDAvis.gensim.prepare(ldat, corpus_t, dictionaryt, sort_topics=False)\n",
        "pyLDAvis.display(lda_displayt)"
      ],
      "execution_count": 36,
      "outputs": [
        {
          "output_type": "stream",
          "text": [
            "/usr/local/lib/python3.6/dist-packages/smart_open/smart_open_lib.py:402: UserWarning: This function is deprecated, use smart_open.open instead. See the migration notes for details: https://github.com/RaRe-Technologies/smart_open/blob/master/README.rst#migrating-to-the-new-open-function\n",
            "  'See the migration notes for details: %s' % _MIGRATION_NOTES_URL\n",
            "/usr/local/lib/python3.6/dist-packages/pyLDAvis/_prepare.py:257: FutureWarning: Sorting because non-concatenation axis is not aligned. A future version\n",
            "of pandas will change to not sort by default.\n",
            "\n",
            "To accept the future behavior, pass 'sort=False'.\n",
            "\n",
            "To retain the current behavior and silence the warning, pass 'sort=True'.\n",
            "\n",
            "  return pd.concat([default_term_info] + list(topic_dfs))\n"
          ],
          "name": "stderr"
        },
        {
          "output_type": "execute_result",
          "data": {
            "text/html": [
              "\n",
              "<link rel=\"stylesheet\" type=\"text/css\" href=\"https://cdn.rawgit.com/bmabey/pyLDAvis/files/ldavis.v1.0.0.css\">\n",
              "\n",
              "\n",
              "<div id=\"ldavis_el28881405762149471841713569558\"></div>\n",
              "<script type=\"text/javascript\">\n",
              "\n",
              "var ldavis_el28881405762149471841713569558_data = {\"mdsDat\": {\"x\": [0.12685523026153228, -0.007476215252372345, -0.016151422382783925, -0.10892523365544803, 0.005697641029072061], \"y\": [0.04679770733906469, -0.03197502963667656, -0.09647212713657013, 0.071529853824427, 0.010119595609754976], \"topics\": [1, 2, 3, 4, 5], \"cluster\": [1, 1, 1, 1, 1], \"Freq\": [42.56830978393555, 12.433772087097168, 15.699524879455566, 25.309106826782227, 3.9892847537994385]}, \"tinfo\": {\"Category\": [\"Default\", \"Default\", \"Default\", \"Default\", \"Default\", \"Default\", \"Default\", \"Default\", \"Default\", \"Default\", \"Default\", \"Default\", \"Default\", \"Default\", \"Default\", \"Default\", \"Default\", \"Default\", \"Default\", \"Default\", \"Default\", \"Default\", \"Default\", \"Default\", \"Default\", \"Default\", \"Default\", \"Default\", \"Default\", \"Default\", \"Topic1\", \"Topic1\", \"Topic1\", \"Topic1\", \"Topic1\", \"Topic1\", \"Topic1\", \"Topic1\", \"Topic1\", \"Topic1\", \"Topic1\", \"Topic1\", \"Topic1\", \"Topic1\", \"Topic1\", \"Topic1\", \"Topic1\", \"Topic1\", \"Topic1\", \"Topic1\", \"Topic1\", \"Topic1\", \"Topic1\", \"Topic1\", \"Topic1\", \"Topic1\", \"Topic1\", \"Topic1\", \"Topic1\", \"Topic1\", \"Topic2\", \"Topic2\", \"Topic2\", \"Topic2\", \"Topic2\", \"Topic2\", \"Topic2\", \"Topic2\", \"Topic2\", \"Topic2\", \"Topic2\", \"Topic2\", \"Topic2\", \"Topic2\", \"Topic2\", \"Topic2\", \"Topic2\", \"Topic2\", \"Topic2\", \"Topic2\", \"Topic2\", \"Topic2\", \"Topic2\", \"Topic2\", \"Topic2\", \"Topic2\", \"Topic2\", \"Topic2\", \"Topic2\", \"Topic2\", \"Topic2\", \"Topic2\", \"Topic2\", \"Topic2\", \"Topic2\", \"Topic2\", \"Topic2\", \"Topic2\", \"Topic2\", \"Topic2\", \"Topic2\", \"Topic2\", \"Topic2\", \"Topic2\", \"Topic2\", \"Topic2\", \"Topic2\", \"Topic2\", \"Topic3\", \"Topic3\", \"Topic3\", \"Topic3\", \"Topic3\", \"Topic3\", \"Topic3\", \"Topic3\", \"Topic3\", \"Topic3\", \"Topic3\", \"Topic3\", \"Topic3\", \"Topic3\", \"Topic3\", \"Topic3\", \"Topic3\", \"Topic3\", \"Topic3\", \"Topic3\", \"Topic3\", \"Topic3\", \"Topic3\", \"Topic3\", \"Topic3\", \"Topic3\", \"Topic3\", \"Topic3\", \"Topic3\", \"Topic3\", \"Topic3\", \"Topic3\", \"Topic3\", \"Topic3\", \"Topic3\", \"Topic3\", \"Topic3\", \"Topic3\", \"Topic3\", \"Topic3\", \"Topic3\", \"Topic4\", \"Topic4\", \"Topic4\", \"Topic4\", \"Topic4\", \"Topic4\", \"Topic4\", \"Topic4\", \"Topic4\", \"Topic4\", \"Topic4\", \"Topic4\", \"Topic4\", \"Topic4\", \"Topic4\", \"Topic4\", \"Topic4\", \"Topic4\", \"Topic4\", \"Topic4\", \"Topic4\", \"Topic4\", \"Topic4\", \"Topic4\", \"Topic4\", \"Topic4\", \"Topic4\", \"Topic4\", \"Topic4\", \"Topic4\", \"Topic4\", \"Topic4\", \"Topic4\", \"Topic4\", \"Topic4\", \"Topic4\", \"Topic5\", \"Topic5\", \"Topic5\", \"Topic5\", \"Topic5\", \"Topic5\", \"Topic5\", \"Topic5\", \"Topic5\", \"Topic5\", \"Topic5\", \"Topic5\", \"Topic5\", \"Topic5\", \"Topic5\", \"Topic5\", \"Topic5\", \"Topic5\", \"Topic5\", \"Topic5\", \"Topic5\", \"Topic5\", \"Topic5\", \"Topic5\", \"Topic5\", \"Topic5\", \"Topic5\", \"Topic5\", \"Topic5\", \"Topic5\", \"Topic5\", \"Topic5\", \"Topic5\", \"Topic5\", \"Topic5\", \"Topic5\", \"Topic5\", \"Topic5\", \"Topic5\", \"Topic5\", \"Topic5\", \"Topic5\", \"Topic5\", \"Topic5\", \"Topic5\", \"Topic5\", \"Topic5\", \"Topic5\", \"Topic5\"], \"Freq\": [0.0, 0.0, 0.0, 0.0, 0.0, 0.0, 0.0, 0.0, 0.0, 0.0, 0.0, 0.0, 0.0, 0.0, 0.0, 0.0, 0.0, 0.0, 0.0, 0.0, 1.0, 1.0, 1.0, 1.0, 1.0, 1.0, 1.0, 1.0, 1.0, 1.0, 1.4029088020324707, 0.7652074098587036, 0.7652071118354797, 0.7652069330215454, 0.7652067542076111, 0.765206515789032, 0.7652066349983215, 0.7652059197425842, 0.765205979347229, 0.7652058005332947, 0.765204906463623, 0.7651979327201843, 0.7651979923248291, 0.76519775390625, 0.765196681022644, 0.7651873230934143, 0.7651861906051636, 0.7651858925819397, 0.7651859521865845, 0.7651854157447815, 0.7651854157447815, 0.765185534954071, 0.765185534954071, 0.765185534954071, 0.765185534954071, 0.7651851773262024, 0.7651837468147278, 0.7651659846305847, 0.765164315700531, 0.7651625275611877, 0.47181692719459534, 0.4718146324157715, 0.4718146324157715, 0.4718017876148224, 0.4718015193939209, 0.4718010127544403, 0.4718008041381836, 0.47180014848709106, 0.4717967212200165, 0.07864709943532944, 0.07864710688591003, 0.07864674180746078, 0.0786464586853981, 0.07864634692668915, 0.078646220266819, 0.07864416390657425, 0.07864392548799515, 0.07864370942115784, 0.0786435604095459, 0.07864344120025635, 0.07864858955144882, 0.07864835113286972, 0.07864824682474136, 0.07864812761545181, 0.0786481648683548, 0.07864805310964584, 0.07864498347043991, 0.078644759953022, 0.07864458858966827, 0.0786445364356041, 0.07865215092897415, 0.07865215092897415, 0.07865197956562042, 0.07865185290575027, 0.07865165174007416, 0.07865142822265625, 0.07865109294652939, 0.07864872366189957, 0.07864871621131897, 0.07864870131015778, 0.0786486566066742, 0.0786486566066742, 0.07864857465028763, 0.07864858210086823, 0.07864858955144882, 0.07864852994680405, 0.07864851504564285, 0.07864841818809509, 0.5488383173942566, 0.5488375425338745, 0.548837423324585, 0.5488370656967163, 0.5488362312316895, 0.5488260984420776, 0.5488258600234985, 0.5488253235816956, 0.5488250851631165, 0.5488237738609314, 0.5488234162330627, 0.09148736298084259, 0.09148716181516647, 0.09148711711168289, 0.09148702770471573, 0.09148678928613663, 0.09148617833852768, 0.09148286283016205, 0.09148276597261429, 0.09148214757442474, 0.0914854034781456, 0.09148524701595306, 0.09148499369621277, 0.09148479253053665, 0.09148477017879486, 0.09148447960615158, 0.09148132801055908, 0.09148123115301132, 0.09148117899894714, 0.09148114174604416, 0.09148908406496048, 0.09148891270160675, 0.09148857742547989, 0.09148848056793213, 0.09148845821619034, 0.09148828685283661, 0.09148714691400528, 0.09148567914962769, 0.09148554503917694, 0.09148535132408142, 0.09148529917001724, 0.6728647947311401, 0.6728644967079163, 0.6728642582893372, 0.6728637218475342, 0.6728636622428894, 0.6728636026382446, 0.672863245010376, 0.672863245010376, 0.672853410243988, 0.6728532314300537, 0.6728525757789612, 0.6728523373603821, 0.6728338599205017, 0.6728338003158569, 0.6728337407112122, 0.6728319525718689, 0.672831118106842, 0.6728305816650391, 0.6732088923454285, 0.11215905100107193, 0.1121586263179779, 0.11215802282094955, 0.11215780675411224, 0.1121574267745018, 0.11215722560882568, 0.11215413361787796, 0.11215393990278244, 0.1121530532836914, 0.11215454339981079, 0.11215425282716751, 0.11215996742248535, 0.11215980350971222, 0.11215940117835999, 0.11215907335281372, 0.11215904355049133, 0.11215870827436447, 0.041003771126270294, 0.04100324586033821, 0.041003186255693436, 0.04100317135453224, 0.04100295901298523, 0.04100293293595314, 0.04100032523274422, 0.04100026190280914, 0.0409998781979084, 0.04100080952048302, 0.041000645607709885, 0.04100050777196884, 0.04100050777196884, 0.041000425815582275, 0.04100027307868004, 0.04099848493933678, 0.0409984327852726, 0.0409984216094017, 0.04099821671843529, 0.0409981869161129, 0.041002217680215836, 0.041002195328474045, 0.04100203141570091, 0.04100191965699196, 0.04100189357995987, 0.0410018153488636, 0.04099925979971886, 0.04099922999739647, 0.04099908843636513, 0.04099906608462334, 0.0410054512321949, 0.041005417704582214, 0.0410052090883255, 0.0410052090883255, 0.04100501164793968, 0.041004810482263565, 0.04100408777594566, 0.04100251942873001, 0.04100250452756882, 0.041002482175827026, 0.04100247099995613, 0.04100238159298897, 0.04100239276885986, 0.04100239276885986, 0.04100235924124718, 0.04100235179066658, 0.04100232571363449, 0.041002288460731506, 0.04100227355957031], \"Term\": [\"japaner\", \"schlafen\", \"wenig\", \"internet\", \"pleite\", \"waffenproduzent\", \"hitzeproblem\", \"xperia\", \"geisterfahrer\", \"assad\", \"sident\", \"amnestie\", \"deserteuren\", \"syrien\", \"startet\", \"streik\", \"amazon\", \"weitet\", \"personalisierten\", \"nachrichten\", \"batman\", \"wusste\", \"hersteller\", \"arkham\", \"monaten\", \"offenbar\", \"knight\", \"rauscher\", \"griechenland\", \"problemen\", \"wegen\", \"poolparty\", \"einsatz\", \"quittierte\", \"brutalem\", \"kupferpreis\", \"dienst\", \"polizist\", \"angst\", \"bricht\", \"china\", \"rassistischen\", \"polizei\", \"ermittelt\", \"manifests\", \"russland\", \"drohte\", \"ndigung\", \"ltnis\", \"schon\", \"belastet\", \"tschechien\", \"grexit\", \"tisch\", \"verhandlungsmarathon\", \"vorerst\", \"jauch\", \"spotlight\", \"romarkt\", \"wiener\", \"japaner\", \"schlafen\", \"wenig\", \"internet\", \"waffenproduzent\", \"pleite\", \"hitzeproblem\", \"xperia\", \"geisterfahrer\", \"personalisierten\", \"nachrichten\", \"weitet\", \"amazon\", \"streik\", \"startet\", \"syrien\", \"deserteuren\", \"amnestie\", \"sident\", \"assad\", \"aufnehmen\", \"nationalbibliothek\", \"facebook\", \"parlamentarier\", \"freut\", \"derstandard\", \"rauscher\", \"griechenland\", \"misik\", \"robert\", \"nachfrage\", \"wiener\", \"morrison\", \"schamanen\", \"romarkt\", \"spotlight\", \"krise\", \"grexit\", \"tisch\", \"jauch\", \"ltnis\", \"verhandlungsmarathon\", \"schon\", \"belastet\", \"tschechien\", \"vorerst\", \"drohte\", \"ndigung\", \"assad\", \"amnestie\", \"sident\", \"deserteuren\", \"syrien\", \"startet\", \"amazon\", \"streik\", \"weitet\", \"nachrichten\", \"personalisierten\", \"geisterfahrer\", \"xperia\", \"waffenproduzent\", \"hitzeproblem\", \"internet\", \"pleite\", \"schlafen\", \"wenig\", \"japaner\", \"aufnehmen\", \"parlamentarier\", \"nationalbibliothek\", \"facebook\", \"freut\", \"derstandard\", \"misik\", \"griechenland\", \"rauscher\", \"robert\", \"nachfrage\", \"morrison\", \"schamanen\", \"romarkt\", \"wiener\", \"spotlight\", \"krise\", \"jauch\", \"ndigung\", \"ltnis\", \"tschechien\", \"batman\", \"arkham\", \"wusste\", \"hersteller\", \"knight\", \"monaten\", \"offenbar\", \"problemen\", \"robert\", \"misik\", \"griechenland\", \"rauscher\", \"facebook\", \"derstandard\", \"freut\", \"nationalbibliothek\", \"parlamentarier\", \"aufnehmen\", \"krise\", \"geisterfahrer\", \"xperia\", \"hitzeproblem\", \"pleite\", \"waffenproduzent\", \"internet\", \"schlafen\", \"wenig\", \"japaner\", \"nachrichten\", \"personalisierten\", \"nachfrage\", \"schamanen\", \"wiener\", \"morrison\", \"romarkt\", \"spotlight\", \"geisterfahrer\", \"pleite\", \"internet\", \"xperia\", \"hitzeproblem\", \"waffenproduzent\", \"schlafen\", \"wenig\", \"japaner\", \"personalisierten\", \"nachrichten\", \"startet\", \"streik\", \"weitet\", \"amazon\", \"syrien\", \"deserteuren\", \"sident\", \"amnestie\", \"assad\", \"parlamentarier\", \"aufnehmen\", \"nationalbibliothek\", \"derstandard\", \"facebook\", \"freut\", \"rauscher\", \"griechenland\", \"misik\", \"robert\", \"morrison\", \"schamanen\", \"wiener\", \"nachfrage\", \"romarkt\", \"spotlight\", \"krise\", \"jauch\", \"vorerst\", \"schon\", \"belastet\", \"drohte\", \"grexit\", \"tschechien\", \"tisch\", \"russland\", \"ndigung\", \"verhandlungsmarathon\", \"ltnis\"], \"Total\": [0.0, 0.0, 0.0, 0.0, 0.0, 0.0, 0.0, 0.0, 0.0, 0.0, 0.0, 0.0, 0.0, 0.0, 0.0, 0.0, 0.0, 0.0, 0.0, 0.0, 1.0, 1.0, 1.0, 1.0, 1.0, 1.0, 1.0, 1.0, 1.0, 1.0, 1.7261903285980225, 1.088486909866333, 1.0884867906570435, 1.088486671447754, 1.088486671447754, 1.0884864330291748, 1.088486671447754, 1.0884864330291748, 1.0884865522384644, 1.0884864330291748, 1.0884861946105957, 1.0884828567504883, 1.0884829759597778, 1.0884829759597778, 1.08848237991333, 1.0884782075881958, 1.0884777307510376, 1.0884777307510376, 1.0884778499603271, 1.088477373123169, 1.0884774923324585, 1.088477611541748, 1.0884777307510376, 1.0884777307510376, 1.0884777307510376, 1.0884774923324585, 1.0884770154953003, 1.08846914768219, 1.0884685516357422, 1.0884678363800049, 0.8439984321594238, 0.8439984321594238, 0.8439986109733582, 0.8439984917640686, 0.8439989686012268, 0.8439990878105164, 0.8439993858337402, 0.8439992070198059, 0.8439999222755432, 0.9081726670265198, 0.9081729054450989, 0.9081730842590332, 0.9081732630729675, 0.9081730246543884, 0.9081728458404541, 0.9081747531890869, 0.9081747531890869, 0.9081751704216003, 0.9081748127937317, 0.9081750512123108, 1.011515736579895, 1.0115162134170532, 1.0115164518356323, 1.0115159749984741, 1.0115166902542114, 1.0115166902542114, 1.0115227699279785, 1.0115230083465576, 1.0115233659744263, 1.0115234851837158, 1.0884674787521362, 1.0884678363800049, 1.0884672403335571, 1.0884673595428467, 1.0884685516357422, 1.08846914768219, 1.6491621732711792, 1.0884777307510376, 1.0884777307510376, 1.0884770154953003, 1.0884778499603271, 1.0884777307510376, 1.088477373123169, 1.0884774923324585, 1.088477611541748, 1.0884774923324585, 1.0884777307510376, 1.0884777307510376, 0.9081750512123108, 0.9081751704216003, 0.9081748127937317, 0.9081747531890869, 0.9081747531890869, 0.9081728458404541, 0.9081732630729675, 0.9081730246543884, 0.9081730842590332, 0.9081729054450989, 0.9081726670265198, 0.8439999222755432, 0.8439992070198059, 0.8439989686012268, 0.8439993858337402, 0.8439984917640686, 0.8439990878105164, 0.8439984321594238, 0.8439986109733582, 0.8439984321594238, 1.011515736579895, 1.0115159749984741, 1.0115162134170532, 1.0115164518356323, 1.0115166902542114, 1.0115166902542114, 1.0115233659744263, 1.0115230083465576, 1.0115227699279785, 1.0115234851837158, 1.0884674787521362, 1.0884672403335571, 1.0884673595428467, 1.0884685516357422, 1.0884678363800049, 1.08846914768219, 1.6491621732711792, 1.0884770154953003, 1.0884777307510376, 1.0884778499603271, 1.088477611541748, 1.011527180671692, 1.011527180671692, 1.011527180671692, 1.0115268230438232, 1.0115269422531128, 1.0115268230438232, 1.0115267038345337, 1.0115270614624023, 1.0115234851837158, 1.0115233659744263, 1.0115230083465576, 1.0115227699279785, 1.0115164518356323, 1.0115166902542114, 1.0115166902542114, 1.0115162134170532, 1.0115159749984741, 1.011515736579895, 1.6491621732711792, 0.8439999222755432, 0.8439992070198059, 0.8439993858337402, 0.8439990878105164, 0.8439989686012268, 0.8439984917640686, 0.8439984321594238, 0.8439986109733582, 0.8439984321594238, 0.9081729054450989, 0.9081726670265198, 1.0884674787521362, 1.0884673595428467, 1.0884678363800049, 1.0884672403335571, 1.0884685516357422, 1.08846914768219, 0.8439999222755432, 0.8439990878105164, 0.8439984917640686, 0.8439992070198059, 0.8439993858337402, 0.8439989686012268, 0.8439984321594238, 0.8439986109733582, 0.8439984321594238, 0.9081726670265198, 0.9081729054450989, 0.9081728458404541, 0.9081730246543884, 0.9081730842590332, 0.9081732630729675, 0.9081747531890869, 0.9081747531890869, 0.9081748127937317, 0.9081751704216003, 0.9081750512123108, 1.0115159749984741, 1.011515736579895, 1.0115162134170532, 1.0115166902542114, 1.0115164518356323, 1.0115166902542114, 1.0115227699279785, 1.0115230083465576, 1.0115233659744263, 1.0115234851837158, 1.0884672403335571, 1.0884673595428467, 1.0884678363800049, 1.0884674787521362, 1.0884685516357422, 1.08846914768219, 1.6491621732711792, 1.0884770154953003, 1.0884774923324585, 1.088477373123169, 1.0884774923324585, 1.0884777307510376, 1.0884777307510376, 1.088477611541748, 1.0884777307510376, 1.0884782075881958, 1.0884777307510376, 1.0884777307510376, 1.0884778499603271], \"loglift\": [30.0, 29.0, 28.0, 27.0, 26.0, 25.0, 24.0, 23.0, 22.0, 21.0, 20.0, 19.0, 18.0, 17.0, 16.0, 15.0, 14.0, 13.0, 12.0, 11.0, 10.0, 9.0, 8.0, 7.0, 6.0, 5.0, 4.0, 3.0, 2.0, 1.0, 0.6467000246047974, 0.5016999840736389, 0.5016999840736389, 0.5016999840736389, 0.5016999840736389, 0.5016999840736389, 0.5016999840736389, 0.5016999840736389, 0.5016999840736389, 0.5016999840736389, 0.5016999840736389, 0.5016999840736389, 0.5016999840736389, 0.5016999840736389, 0.5016999840736389, 0.5016000270843506, 0.5016000270843506, 0.5016000270843506, 0.5016000270843506, 0.5016000270843506, 0.5016000270843506, 0.5016000270843506, 0.5016000270843506, 0.5016000270843506, 0.5016000270843506, 0.5016000270843506, 0.5016000270843506, 0.5016000270843506, 0.5016000270843506, 0.5016000270843506, 1.5032000541687012, 1.5032000541687012, 1.5032000541687012, 1.5032000541687012, 1.5032000541687012, 1.5032000541687012, 1.5032000541687012, 1.5032000541687012, 1.503100037574768, -0.36169999837875366, -0.36169999837875366, -0.36169999837875366, -0.36169999837875366, -0.36169999837875366, -0.36169999837875366, -0.36169999837875366, -0.3617999851703644, -0.3617999851703644, -0.3617999851703644, -0.3617999851703644, -0.46950000524520874, -0.46950000524520874, -0.46950000524520874, -0.46950000524520874, -0.46950000524520874, -0.46950000524520874, -0.46950000524520874, -0.46950000524520874, -0.46950000524520874, -0.46950000524520874, -0.5426999926567078, -0.5426999926567078, -0.5426999926567078, -0.5426999926567078, -0.5426999926567078, -0.5426999926567078, -0.9581999778747559, -0.5428000092506409, -0.5428000092506409, -0.5428000092506409, -0.5428000092506409, -0.5428000092506409, -0.5428000092506409, -0.5428000092506409, -0.5428000092506409, -0.5428000092506409, -0.5428000092506409, -0.5428000092506409, 1.3479000329971313, 1.3479000329971313, 1.3479000329971313, 1.3479000329971313, 1.3479000329971313, 1.3479000329971313, 1.3479000329971313, 1.3479000329971313, 1.3479000329971313, 1.3479000329971313, 1.3479000329971313, -0.37040001153945923, -0.37040001153945923, -0.37040001153945923, -0.37040001153945923, -0.37040001153945923, -0.37040001153945923, -0.37049999833106995, -0.37049999833106995, -0.37049999833106995, -0.5515000224113464, -0.5515000224113464, -0.5515000224113464, -0.5515000224113464, -0.5515000224113464, -0.5515000224113464, -0.5515000224113464, -0.5515000224113464, -0.5515000224113464, -0.5515000224113464, -0.6248000264167786, -0.6248000264167786, -0.6248000264167786, -0.6248000264167786, -0.6248000264167786, -0.6248000264167786, -1.0403000116348267, -0.6248000264167786, -0.6248000264167786, -0.6248000264167786, -0.6248000264167786, 0.9663000106811523, 0.9663000106811523, 0.9663000106811523, 0.9663000106811523, 0.9663000106811523, 0.9663000106811523, 0.9663000106811523, 0.9663000106811523, 0.9663000106811523, 0.9663000106811523, 0.9663000106811523, 0.9663000106811523, 0.9663000106811523, 0.9663000106811523, 0.9663000106811523, 0.9663000106811523, 0.9663000106811523, 0.9663000106811523, 0.4779999852180481, -0.6442000269889832, -0.6442000269889832, -0.6442000269889832, -0.6442000269889832, -0.6442000269889832, -0.6442000269889832, -0.6442999839782715, -0.6442999839782715, -0.6442999839782715, -0.7175999879837036, -0.7175999879837036, -0.8985999822616577, -0.8985999822616577, -0.8985999822616577, -0.8985999822616577, -0.8985999822616577, -0.8985999822616577, 0.19709999859333038, 0.19709999859333038, 0.19709999859333038, 0.19709999859333038, 0.19709999859333038, 0.19709999859333038, 0.19699999690055847, 0.19699999690055847, 0.19699999690055847, 0.12370000034570694, 0.12370000034570694, 0.12370000034570694, 0.12370000034570694, 0.12370000034570694, 0.12370000034570694, 0.12370000034570694, 0.12370000034570694, 0.12370000034570694, 0.12359999865293503, 0.12359999865293503, 0.01600000075995922, 0.01600000075995922, 0.01600000075995922, 0.01600000075995922, 0.01600000075995922, 0.01600000075995922, 0.01590000092983246, 0.01590000092983246, 0.01590000092983246, 0.01590000092983246, -0.05730000138282776, -0.05730000138282776, -0.05730000138282776, -0.05730000138282776, -0.05730000138282776, -0.05730000138282776, -0.47279998660087585, -0.05730000138282776, -0.05730000138282776, -0.05730000138282776, -0.05730000138282776, -0.05730000138282776, -0.05730000138282776, -0.05730000138282776, -0.05730000138282776, -0.05730000138282776, -0.05730000138282776, -0.05730000138282776, -0.05730000138282776], \"logprob\": [30.0, 29.0, 28.0, 27.0, 26.0, 25.0, 24.0, 23.0, 22.0, 21.0, 20.0, 19.0, 18.0, 17.0, 16.0, 15.0, 14.0, 13.0, 12.0, 11.0, 10.0, 9.0, 8.0, 7.0, 6.0, 5.0, 4.0, 3.0, 2.0, 1.0, -3.1115000247955322, -3.717600107192993, -3.717600107192993, -3.717600107192993, -3.717600107192993, -3.717600107192993, -3.717600107192993, -3.717600107192993, -3.717600107192993, -3.717600107192993, -3.717600107192993, -3.717600107192993, -3.717600107192993, -3.717600107192993, -3.717600107192993, -3.717600107192993, -3.717600107192993, -3.717600107192993, -3.717600107192993, -3.717600107192993, -3.717600107192993, -3.717600107192993, -3.717600107192993, -3.717600107192993, -3.717600107192993, -3.717600107192993, -3.717600107192993, -3.7177000045776367, -3.7177000045776367, -3.7177000045776367, -2.9704999923706055, -2.9704999923706055, -2.9704999923706055, -2.9704999923706055, -2.9704999923706055, -2.9704999923706055, -2.9704999923706055, -2.9704999923706055, -2.9704999923706055, -4.7621002197265625, -4.7621002197265625, -4.7621002197265625, -4.7621002197265625, -4.7621002197265625, -4.7621002197265625, -4.7621002197265625, -4.7621002197265625, -4.7621002197265625, -4.7621002197265625, -4.7621002197265625, -4.7621002197265625, -4.7621002197265625, -4.7621002197265625, -4.7621002197265625, -4.7621002197265625, -4.7621002197265625, -4.7621002197265625, -4.7621002197265625, -4.7621002197265625, -4.7621002197265625, -4.76200008392334, -4.76200008392334, -4.76200008392334, -4.76200008392334, -4.76200008392334, -4.76200008392334, -4.76200008392334, -4.7621002197265625, -4.7621002197265625, -4.7621002197265625, -4.7621002197265625, -4.7621002197265625, -4.7621002197265625, -4.7621002197265625, -4.7621002197265625, -4.7621002197265625, -4.7621002197265625, -4.7621002197265625, -3.052500009536743, -3.052500009536743, -3.052500009536743, -3.052500009536743, -3.052500009536743, -3.052500009536743, -3.052500009536743, -3.052500009536743, -3.052500009536743, -3.052500009536743, -3.052500009536743, -4.844099998474121, -4.844099998474121, -4.844099998474121, -4.844099998474121, -4.844099998474121, -4.844099998474121, -4.844099998474121, -4.844099998474121, -4.844099998474121, -4.844099998474121, -4.844099998474121, -4.844099998474121, -4.844099998474121, -4.844099998474121, -4.844099998474121, -4.844099998474121, -4.844099998474121, -4.844099998474121, -4.844099998474121, -4.844099998474121, -4.844099998474121, -4.844099998474121, -4.844099998474121, -4.844099998474121, -4.844099998474121, -4.844099998474121, -4.844099998474121, -4.844099998474121, -4.844099998474121, -4.844099998474121, -3.3262999057769775, -3.3262999057769775, -3.3262999057769775, -3.3262999057769775, -3.3262999057769775, -3.3262999057769775, -3.3262999057769775, -3.3262999057769775, -3.3262999057769775, -3.3262999057769775, -3.3262999057769775, -3.3262999057769775, -3.3262999057769775, -3.3262999057769775, -3.3262999057769775, -3.3262999057769775, -3.3262999057769775, -3.3262999057769775, -3.3257999420166016, -5.1178998947143555, -5.1178998947143555, -5.1178998947143555, -5.1178998947143555, -5.1178998947143555, -5.1178998947143555, -5.1178998947143555, -5.1178998947143555, -5.118000030517578, -5.1178998947143555, -5.1178998947143555, -5.1178998947143555, -5.1178998947143555, -5.1178998947143555, -5.1178998947143555, -5.1178998947143555, -5.1178998947143555, -4.276599884033203, -4.276599884033203, -4.276599884033203, -4.276599884033203, -4.276599884033203, -4.276599884033203, -4.276700019836426, -4.276700019836426, -4.276700019836426, -4.276700019836426, -4.276700019836426, -4.276700019836426, -4.276700019836426, -4.276700019836426, -4.276700019836426, -4.276700019836426, -4.276700019836426, -4.276700019836426, -4.276700019836426, -4.276700019836426, -4.276599884033203, -4.276599884033203, -4.276599884033203, -4.276599884033203, -4.276599884033203, -4.276599884033203, -4.276700019836426, -4.276700019836426, -4.276700019836426, -4.276700019836426, -4.276599884033203, -4.276599884033203, -4.276599884033203, -4.276599884033203, -4.276599884033203, -4.276599884033203, -4.276599884033203, -4.276599884033203, -4.276599884033203, -4.276599884033203, -4.276599884033203, -4.276599884033203, -4.276599884033203, -4.276599884033203, -4.276599884033203, -4.276599884033203, -4.276599884033203, -4.276599884033203, -4.276599884033203]}, \"token.table\": {\"Topic\": [3, 3, 1, 4, 3, 4, 4, 1, 1, 1, 1, 4, 3, 1, 1, 1, 1, 4, 4, 1, 4, 4, 1, 4, 1, 4, 1, 1, 1, 4, 4, 1, 1, 3, 4, 1, 4, 4, 3, 1, 1, 1, 4, 1, 1, 4, 4, 1, 1, 1, 1, 3, 1, 3, 3, 3, 1, 1, 1, 1, 1, 3, 1, 4], \"Freq\": [1.1011115312576294, 1.1011091470718384, 0.9187067747116089, 0.9886041879653931, 1.101109266281128, 0.9886153936386108, 0.9886041879653931, 0.9187144637107849, 0.9187068939208984, 0.9187067151069641, 0.9187071323394775, 0.9886144399642944, 1.1011096239089966, 0.9187067151069641, 0.9187142252922058, 0.9187065958976746, 0.9187098145484924, 0.9886146783828735, 0.9886144399642944, 0.9187142252922058, 0.9886082410812378, 0.9886045455932617, 0.9187148809432983, 0.9886044263839722, 0.6063684821128845, 0.6063684821128845, 0.9187068939208984, 0.918714165687561, 0.9187103509902954, 0.9886078834533691, 0.9886045455932617, 0.9187231063842773, 0.918722927570343, 1.101111888885498, 0.9886149168014526, 0.9187142252922058, 0.9886046648025513, 0.9886151552200317, 1.1011122465133667, 0.9187098145484924, 0.9187068939208984, 0.918706476688385, 0.9886043071746826, 0.9187067151069641, 0.918709933757782, 0.9886084794998169, 0.9886077642440796, 0.9187219738960266, 0.9187138676643372, 0.9187229871749878, 0.9187145233154297, 1.1011096239089966, 0.9187214970588684, 1.1011120080947876, 1.1011117696762085, 1.1011096239089966, 0.9187142252922058, 0.9187143445014954, 0.9187142252922058, 0.9187144637107849, 0.579310417175293, 1.101111650466919, 0.9187225699424744, 0.9886041879653931], \"Term\": [\"amazon\", \"amnestie\", \"angst\", \"arkham\", \"assad\", \"aufnehmen\", \"batman\", \"belastet\", \"bricht\", \"brutalem\", \"china\", \"derstandard\", \"deserteuren\", \"dienst\", \"drohte\", \"einsatz\", \"ermittelt\", \"facebook\", \"freut\", \"grexit\", \"griechenland\", \"hersteller\", \"jauch\", \"knight\", \"krise\", \"krise\", \"kupferpreis\", \"ltnis\", \"manifests\", \"misik\", \"monaten\", \"morrison\", \"nachfrage\", \"nachrichten\", \"nationalbibliothek\", \"ndigung\", \"offenbar\", \"parlamentarier\", \"personalisierten\", \"polizei\", \"polizist\", \"poolparty\", \"problemen\", \"quittierte\", \"rassistischen\", \"rauscher\", \"robert\", \"romarkt\", \"russland\", \"schamanen\", \"schon\", \"sident\", \"spotlight\", \"startet\", \"streik\", \"syrien\", \"tisch\", \"tschechien\", \"verhandlungsmarathon\", \"vorerst\", \"wegen\", \"weitet\", \"wiener\", \"wusste\"]}, \"R\": 30, \"lambda.step\": 0.01, \"plot.opts\": {\"xlab\": \"PC1\", \"ylab\": \"PC2\"}, \"topic.order\": [1, 2, 3, 4, 5]};\n",
              "\n",
              "function LDAvis_load_lib(url, callback){\n",
              "  var s = document.createElement('script');\n",
              "  s.src = url;\n",
              "  s.async = true;\n",
              "  s.onreadystatechange = s.onload = callback;\n",
              "  s.onerror = function(){console.warn(\"failed to load library \" + url);};\n",
              "  document.getElementsByTagName(\"head\")[0].appendChild(s);\n",
              "}\n",
              "\n",
              "if(typeof(LDAvis) !== \"undefined\"){\n",
              "   // already loaded: just create the visualization\n",
              "   !function(LDAvis){\n",
              "       new LDAvis(\"#\" + \"ldavis_el28881405762149471841713569558\", ldavis_el28881405762149471841713569558_data);\n",
              "   }(LDAvis);\n",
              "}else if(typeof define === \"function\" && define.amd){\n",
              "   // require.js is available: use it to load d3/LDAvis\n",
              "   require.config({paths: {d3: \"https://cdnjs.cloudflare.com/ajax/libs/d3/3.5.5/d3.min\"}});\n",
              "   require([\"d3\"], function(d3){\n",
              "      window.d3 = d3;\n",
              "      LDAvis_load_lib(\"https://cdn.rawgit.com/bmabey/pyLDAvis/files/ldavis.v1.0.0.js\", function(){\n",
              "        new LDAvis(\"#\" + \"ldavis_el28881405762149471841713569558\", ldavis_el28881405762149471841713569558_data);\n",
              "      });\n",
              "    });\n",
              "}else{\n",
              "    // require.js not available: dynamically load d3 & LDAvis\n",
              "    LDAvis_load_lib(\"https://cdnjs.cloudflare.com/ajax/libs/d3/3.5.5/d3.min.js\", function(){\n",
              "         LDAvis_load_lib(\"https://cdn.rawgit.com/bmabey/pyLDAvis/files/ldavis.v1.0.0.js\", function(){\n",
              "                 new LDAvis(\"#\" + \"ldavis_el28881405762149471841713569558\", ldavis_el28881405762149471841713569558_data);\n",
              "            })\n",
              "         });\n",
              "}\n",
              "</script>"
            ],
            "text/plain": [
              "<IPython.core.display.HTML object>"
            ]
          },
          "metadata": {
            "tags": []
          },
          "execution_count": 36
        }
      ]
    },
    {
      "cell_type": "code",
      "metadata": {
        "id": "hwke9Shfds7C",
        "colab_type": "code",
        "colab": {}
      },
      "source": [
        ""
      ],
      "execution_count": 0,
      "outputs": []
    }
  ]
}