{
  "nbformat": 4,
  "nbformat_minor": 0,
  "metadata": {
    "colab": {
      "name": "Vowels & RegEx.ipynb",
      "provenance": [],
      "collapsed_sections": [],
      "include_colab_link": true
    },
    "kernelspec": {
      "name": "python3",
      "display_name": "Python 3"
    }
  },
  "cells": [
    {
      "cell_type": "markdown",
      "metadata": {
        "id": "view-in-github",
        "colab_type": "text"
      },
      "source": [
        "<a href=\"https://colab.research.google.com/github/rajshaiwalla/NLP-Submissions/blob/master/Vowels_%26_RegEx.ipynb\" target=\"_parent\"><img src=\"https://colab.research.google.com/assets/colab-badge.svg\" alt=\"Open In Colab\"/></a>"
      ]
    },
    {
      "cell_type": "code",
      "metadata": {
        "id": "llC9GtR8j8zV",
        "colab_type": "code",
        "colab": {}
      },
      "source": [
        "import pandas as pd #importing for using dataframes\n",
        "import gzip #importing for unzipping the file for reading it\n",
        "from collections import Counter #importing to use it to count "
      ],
      "execution_count": 0,
      "outputs": []
    },
    {
      "cell_type": "code",
      "metadata": {
        "id": "UZYD35qwj9sO",
        "colab_type": "code",
        "colab": {}
      },
      "source": [
        "data = pd.read_json(\"http://snap.stanford.edu/data/amazon/productGraph/categoryFiles/reviews_Office_Products_5.json.gz\", lines = True) #Reading the Office Products file "
      ],
      "execution_count": 0,
      "outputs": []
    },
    {
      "cell_type": "code",
      "metadata": {
        "id": "5aLHcAsJj_Ll",
        "colab_type": "code",
        "colab": {
          "base_uri": "https://localhost:8080/",
          "height": 359
        },
        "outputId": "f3bc5fa6-0463-4241-d32b-d757426c3b05"
      },
      "source": [
        "data.head(10) #viewing the first 10 rows of the data"
      ],
      "execution_count": 3,
      "outputs": [
        {
          "output_type": "execute_result",
          "data": {
            "text/html": [
              "<div>\n",
              "<style scoped>\n",
              "    .dataframe tbody tr th:only-of-type {\n",
              "        vertical-align: middle;\n",
              "    }\n",
              "\n",
              "    .dataframe tbody tr th {\n",
              "        vertical-align: top;\n",
              "    }\n",
              "\n",
              "    .dataframe thead th {\n",
              "        text-align: right;\n",
              "    }\n",
              "</style>\n",
              "<table border=\"1\" class=\"dataframe\">\n",
              "  <thead>\n",
              "    <tr style=\"text-align: right;\">\n",
              "      <th></th>\n",
              "      <th>reviewerID</th>\n",
              "      <th>asin</th>\n",
              "      <th>reviewerName</th>\n",
              "      <th>helpful</th>\n",
              "      <th>reviewText</th>\n",
              "      <th>overall</th>\n",
              "      <th>summary</th>\n",
              "      <th>unixReviewTime</th>\n",
              "      <th>reviewTime</th>\n",
              "    </tr>\n",
              "  </thead>\n",
              "  <tbody>\n",
              "    <tr>\n",
              "      <th>0</th>\n",
              "      <td>A32T2H8150OJLU</td>\n",
              "      <td>B00000JBLH</td>\n",
              "      <td>ARH</td>\n",
              "      <td>[3, 4]</td>\n",
              "      <td>I bought my first HP12C in about 1984 or so, a...</td>\n",
              "      <td>5</td>\n",
              "      <td>A solid performer, and long time friend</td>\n",
              "      <td>1094169600</td>\n",
              "      <td>09 3, 2004</td>\n",
              "    </tr>\n",
              "    <tr>\n",
              "      <th>1</th>\n",
              "      <td>A3MAFS04ZABRGO</td>\n",
              "      <td>B00000JBLH</td>\n",
              "      <td>Let it Be \"Alan\"</td>\n",
              "      <td>[7, 9]</td>\n",
              "      <td>WHY THIS BELATED REVIEW? I feel very obliged t...</td>\n",
              "      <td>5</td>\n",
              "      <td>Price of GOLD is up, so don't bury the golden ...</td>\n",
              "      <td>1197676800</td>\n",
              "      <td>12 15, 2007</td>\n",
              "    </tr>\n",
              "    <tr>\n",
              "      <th>2</th>\n",
              "      <td>A1F1A0QQP2XVH5</td>\n",
              "      <td>B00000JBLH</td>\n",
              "      <td>Mark B</td>\n",
              "      <td>[3, 3]</td>\n",
              "      <td>I have an HP 48GX that has been kicking for mo...</td>\n",
              "      <td>2</td>\n",
              "      <td>Good functionality, but not durable like old HPs</td>\n",
              "      <td>1293840000</td>\n",
              "      <td>01 1, 2011</td>\n",
              "    </tr>\n",
              "    <tr>\n",
              "      <th>3</th>\n",
              "      <td>A49R5DBXXQDE5</td>\n",
              "      <td>B00000JBLH</td>\n",
              "      <td>R. D Johnson</td>\n",
              "      <td>[7, 8]</td>\n",
              "      <td>I've started doing more finance stuff recently...</td>\n",
              "      <td>5</td>\n",
              "      <td>One of the last of an almost extinct species</td>\n",
              "      <td>1145404800</td>\n",
              "      <td>04 19, 2006</td>\n",
              "    </tr>\n",
              "    <tr>\n",
              "      <th>4</th>\n",
              "      <td>A2XRMQA6PJ5ZJ8</td>\n",
              "      <td>B00000JBLH</td>\n",
              "      <td>Roger J. Buffington</td>\n",
              "      <td>[0, 0]</td>\n",
              "      <td>For simple calculations and discounted cash fl...</td>\n",
              "      <td>5</td>\n",
              "      <td>Still the best</td>\n",
              "      <td>1375574400</td>\n",
              "      <td>08 4, 2013</td>\n",
              "    </tr>\n",
              "    <tr>\n",
              "      <th>5</th>\n",
              "      <td>A2JFOHC9W629IE</td>\n",
              "      <td>B00000JBLH</td>\n",
              "      <td>scott_from_dallas</td>\n",
              "      <td>[10, 12]</td>\n",
              "      <td>While I don't have an MBA, it's hard to believ...</td>\n",
              "      <td>5</td>\n",
              "      <td>Every MBA student and grad should get one</td>\n",
              "      <td>1011744000</td>\n",
              "      <td>01 23, 2002</td>\n",
              "    </tr>\n",
              "    <tr>\n",
              "      <th>6</th>\n",
              "      <td>A38NELQT98S4H8</td>\n",
              "      <td>B00000JBLH</td>\n",
              "      <td>W. B. Halper</td>\n",
              "      <td>[3, 4]</td>\n",
              "      <td>I've had an HP 12C ever since they were first ...</td>\n",
              "      <td>5</td>\n",
              "      <td>A workhorse of a calculator</td>\n",
              "      <td>1168992000</td>\n",
              "      <td>01 17, 2007</td>\n",
              "    </tr>\n",
              "    <tr>\n",
              "      <th>7</th>\n",
              "      <td>AA8M6331NI1EN</td>\n",
              "      <td>B00000JBLH</td>\n",
              "      <td>ZombieMom</td>\n",
              "      <td>[0, 0]</td>\n",
              "      <td>Bought this for my boss because he lost his.  ...</td>\n",
              "      <td>5</td>\n",
              "      <td>Fast shipping &amp; great price for this awesome c...</td>\n",
              "      <td>1384387200</td>\n",
              "      <td>11 14, 2013</td>\n",
              "    </tr>\n",
              "    <tr>\n",
              "      <th>8</th>\n",
              "      <td>A25C2M3QF9G7OQ</td>\n",
              "      <td>B00000JBLU</td>\n",
              "      <td>Comdet</td>\n",
              "      <td>[3, 3]</td>\n",
              "      <td>This is a well-designed, simple calculator tha...</td>\n",
              "      <td>5</td>\n",
              "      <td>Nice design, works well, great value</td>\n",
              "      <td>1291680000</td>\n",
              "      <td>12 7, 2010</td>\n",
              "    </tr>\n",
              "    <tr>\n",
              "      <th>9</th>\n",
              "      <td>A1RTVWTWZSIC94</td>\n",
              "      <td>B00000JBLU</td>\n",
              "      <td>Hb \"Black Beauty\"</td>\n",
              "      <td>[0, 0]</td>\n",
              "      <td>I love this calculator, big numbers and calcul...</td>\n",
              "      <td>5</td>\n",
              "      <td>Love It!!!!!!!!!</td>\n",
              "      <td>1385942400</td>\n",
              "      <td>12 2, 2013</td>\n",
              "    </tr>\n",
              "  </tbody>\n",
              "</table>\n",
              "</div>"
            ],
            "text/plain": [
              "       reviewerID        asin  ... unixReviewTime   reviewTime\n",
              "0  A32T2H8150OJLU  B00000JBLH  ...     1094169600   09 3, 2004\n",
              "1  A3MAFS04ZABRGO  B00000JBLH  ...     1197676800  12 15, 2007\n",
              "2  A1F1A0QQP2XVH5  B00000JBLH  ...     1293840000   01 1, 2011\n",
              "3   A49R5DBXXQDE5  B00000JBLH  ...     1145404800  04 19, 2006\n",
              "4  A2XRMQA6PJ5ZJ8  B00000JBLH  ...     1375574400   08 4, 2013\n",
              "5  A2JFOHC9W629IE  B00000JBLH  ...     1011744000  01 23, 2002\n",
              "6  A38NELQT98S4H8  B00000JBLH  ...     1168992000  01 17, 2007\n",
              "7   AA8M6331NI1EN  B00000JBLH  ...     1384387200  11 14, 2013\n",
              "8  A25C2M3QF9G7OQ  B00000JBLU  ...     1291680000   12 7, 2010\n",
              "9  A1RTVWTWZSIC94  B00000JBLU  ...     1385942400   12 2, 2013\n",
              "\n",
              "[10 rows x 9 columns]"
            ]
          },
          "metadata": {
            "tags": []
          },
          "execution_count": 3
        }
      ]
    },
    {
      "cell_type": "code",
      "metadata": {
        "id": "ArcyXZoGkBLb",
        "colab_type": "code",
        "colab": {}
      },
      "source": [
        "df = data.copy() #making a copy of the data and storing it in 'df' to leave the original data unaltered."
      ],
      "execution_count": 0,
      "outputs": []
    },
    {
      "cell_type": "code",
      "metadata": {
        "id": "3NU1WT_0kDAF",
        "colab_type": "code",
        "colab": {}
      },
      "source": [
        "vowels = ['a','e','i','o','u'] #making a list of vowels"
      ],
      "execution_count": 0,
      "outputs": []
    },
    {
      "cell_type": "code",
      "metadata": {
        "id": "1zfvRK_Enwnf",
        "colab_type": "code",
        "colab": {}
      },
      "source": [
        "def split(x):\n",
        "  return list(x)"
      ],
      "execution_count": 0,
      "outputs": []
    },
    {
      "cell_type": "code",
      "metadata": {
        "id": "zzQE8WTGu0kc",
        "colab_type": "code",
        "colab": {}
      },
      "source": [
        "def func(text):\n",
        "  counter = {\"vowels\":0,\"cons\":0,\"total\":0} #defining dictionary containing vowels, consonants and total\n",
        "  for word in text:\n",
        "    words = split(word)\n",
        "    for word in words:\n",
        "      if word in vowels:\n",
        "        counter[\"vowels\"]+=1\n",
        "      else:\n",
        "        counter[\"cons\"]+=1\n",
        "      counter['total']+=1\n",
        "  return counter"
      ],
      "execution_count": 0,
      "outputs": []
    },
    {
      "cell_type": "code",
      "metadata": {
        "id": "mmZ0P67-u0np",
        "colab_type": "code",
        "colab": {}
      },
      "source": [
        "df['ReviewCounter'] = df['reviewText'].apply(lambda x:func(x)) #applying function to reveiwText"
      ],
      "execution_count": 0,
      "outputs": []
    },
    {
      "cell_type": "code",
      "metadata": {
        "id": "6uYaj_Ahu0hs",
        "colab_type": "code",
        "colab": {
          "base_uri": "https://localhost:8080/",
          "height": 34
        },
        "outputId": "1d9e29d0-6b6c-43b4-b2cd-802f11cd5254"
      },
      "source": [
        "df['ReviewCounter'][0] #checking for first row in ReviewText"
      ],
      "execution_count": 9,
      "outputs": [
        {
          "output_type": "execute_result",
          "data": {
            "text/plain": [
              "{'cons': 705, 'total': 972, 'vowels': 267}"
            ]
          },
          "metadata": {
            "tags": []
          },
          "execution_count": 9
        }
      ]
    },
    {
      "cell_type": "code",
      "metadata": {
        "id": "kNaRDT4on7AV",
        "colab_type": "code",
        "colab": {
          "base_uri": "https://localhost:8080/",
          "height": 34
        },
        "outputId": "3a877369-1951-415d-ca1d-1a4248f26f1b"
      },
      "source": [
        "(len(df['reviewText'][0])) == df['ReviewCounter'][0]['total']"
      ],
      "execution_count": 10,
      "outputs": [
        {
          "output_type": "execute_result",
          "data": {
            "text/plain": [
              "True"
            ]
          },
          "metadata": {
            "tags": []
          },
          "execution_count": 10
        }
      ]
    },
    {
      "cell_type": "markdown",
      "metadata": {
        "id": "alDfTzJewozs",
        "colab_type": "text"
      },
      "source": [
        "Words starting with 'B' or ending with 'G'\n",
        "---\n",
        "\n"
      ]
    },
    {
      "cell_type": "code",
      "metadata": {
        "id": "dXhyNZUDw7LG",
        "colab_type": "code",
        "colab": {}
      },
      "source": [
        "import re #importing RegEx"
      ],
      "execution_count": 0,
      "outputs": []
    },
    {
      "cell_type": "code",
      "metadata": {
        "id": "_UrzJazRzA5T",
        "colab_type": "code",
        "outputId": "7d2bbeb6-3460-4637-ddd4-0b84c25f1258",
        "colab": {
          "base_uri": "https://localhost:8080/",
          "height": 54
        }
      },
      "source": [
        "df['reviewText'][0]"
      ],
      "execution_count": 0,
      "outputs": [
        {
          "output_type": "execute_result",
          "data": {
            "text/plain": [
              "\"I bought my first HP12C in about 1984 or so, and it served me faithfully until 2002 when I lost it while travelling.  I searched for another one to replace it, but found one difficult to come by in my area.  So, I decided to buy up and purchased an HP 49G.  What a mistake!  I know that many people view the HP 49G (now 49G+) as the flagship of the HP line, but for me that was a disaster.The 49G may be powerful, but using it is extremely counterintuitive...and the manual was sketchy at best.  The 12C, on the other hand, does what I need in a way that makes good sense to me.If you are looking for a solid, reliable calculator, the HP12C may be for you.  It's programmable.  It does basic statistics well, and many business applications too.  The manual makes sense; you will be up and running in short order.I'm ready to set my 49G aside and move back to my old friend.  I didn't even have to replace the batteries in well over a decade of use!HP 12C, I'm coming home!\""
            ]
          },
          "metadata": {
            "tags": []
          },
          "execution_count": 13
        }
      ]
    },
    {
      "cell_type": "code",
      "metadata": {
        "id": "XopKASSm1-sx",
        "colab_type": "code",
        "colab": {
          "base_uri": "https://localhost:8080/",
          "height": 1000
        },
        "outputId": "de0d4294-772c-47a0-e703-4b5fba1ed0be"
      },
      "source": [
        "line = df['reviewText'][0] #storing the string as 'line'\n",
        "line = re.sub(r'[^A-Za-z0-9\\s]','',line) #removing punctuations\n",
        "line\n",
        "y = line.split()\n",
        "y"
      ],
      "execution_count": 37,
      "outputs": [
        {
          "output_type": "execute_result",
          "data": {
            "text/plain": [
              "['I',\n",
              " 'bought',\n",
              " 'my',\n",
              " 'first',\n",
              " 'HP12C',\n",
              " 'in',\n",
              " 'about',\n",
              " '1984',\n",
              " 'or',\n",
              " 'so',\n",
              " 'and',\n",
              " 'it',\n",
              " 'served',\n",
              " 'me',\n",
              " 'faithfully',\n",
              " 'until',\n",
              " '2002',\n",
              " 'when',\n",
              " 'I',\n",
              " 'lost',\n",
              " 'it',\n",
              " 'while',\n",
              " 'travelling',\n",
              " 'I',\n",
              " 'searched',\n",
              " 'for',\n",
              " 'another',\n",
              " 'one',\n",
              " 'to',\n",
              " 'replace',\n",
              " 'it',\n",
              " 'but',\n",
              " 'found',\n",
              " 'one',\n",
              " 'difficult',\n",
              " 'to',\n",
              " 'come',\n",
              " 'by',\n",
              " 'in',\n",
              " 'my',\n",
              " 'area',\n",
              " 'So',\n",
              " 'I',\n",
              " 'decided',\n",
              " 'to',\n",
              " 'buy',\n",
              " 'up',\n",
              " 'and',\n",
              " 'purchased',\n",
              " 'an',\n",
              " 'HP',\n",
              " '49G',\n",
              " 'What',\n",
              " 'a',\n",
              " 'mistake',\n",
              " 'I',\n",
              " 'know',\n",
              " 'that',\n",
              " 'many',\n",
              " 'people',\n",
              " 'view',\n",
              " 'the',\n",
              " 'HP',\n",
              " '49G',\n",
              " 'now',\n",
              " '49G',\n",
              " 'as',\n",
              " 'the',\n",
              " 'flagship',\n",
              " 'of',\n",
              " 'the',\n",
              " 'HP',\n",
              " 'line',\n",
              " 'but',\n",
              " 'for',\n",
              " 'me',\n",
              " 'that',\n",
              " 'was',\n",
              " 'a',\n",
              " 'disasterThe',\n",
              " '49G',\n",
              " 'may',\n",
              " 'be',\n",
              " 'powerful',\n",
              " 'but',\n",
              " 'using',\n",
              " 'it',\n",
              " 'is',\n",
              " 'extremely',\n",
              " 'counterintuitiveand',\n",
              " 'the',\n",
              " 'manual',\n",
              " 'was',\n",
              " 'sketchy',\n",
              " 'at',\n",
              " 'best',\n",
              " 'The',\n",
              " '12C',\n",
              " 'on',\n",
              " 'the',\n",
              " 'other',\n",
              " 'hand',\n",
              " 'does',\n",
              " 'what',\n",
              " 'I',\n",
              " 'need',\n",
              " 'in',\n",
              " 'a',\n",
              " 'way',\n",
              " 'that',\n",
              " 'makes',\n",
              " 'good',\n",
              " 'sense',\n",
              " 'to',\n",
              " 'meIf',\n",
              " 'you',\n",
              " 'are',\n",
              " 'looking',\n",
              " 'for',\n",
              " 'a',\n",
              " 'solid',\n",
              " 'reliable',\n",
              " 'calculator',\n",
              " 'the',\n",
              " 'HP12C',\n",
              " 'may',\n",
              " 'be',\n",
              " 'for',\n",
              " 'you',\n",
              " 'Its',\n",
              " 'programmable',\n",
              " 'It',\n",
              " 'does',\n",
              " 'basic',\n",
              " 'statistics',\n",
              " 'well',\n",
              " 'and',\n",
              " 'many',\n",
              " 'business',\n",
              " 'applications',\n",
              " 'too',\n",
              " 'The',\n",
              " 'manual',\n",
              " 'makes',\n",
              " 'sense',\n",
              " 'you',\n",
              " 'will',\n",
              " 'be',\n",
              " 'up',\n",
              " 'and',\n",
              " 'running',\n",
              " 'in',\n",
              " 'short',\n",
              " 'orderIm',\n",
              " 'ready',\n",
              " 'to',\n",
              " 'set',\n",
              " 'my',\n",
              " '49G',\n",
              " 'aside',\n",
              " 'and',\n",
              " 'move',\n",
              " 'back',\n",
              " 'to',\n",
              " 'my',\n",
              " 'old',\n",
              " 'friend',\n",
              " 'I',\n",
              " 'didnt',\n",
              " 'even',\n",
              " 'have',\n",
              " 'to',\n",
              " 'replace',\n",
              " 'the',\n",
              " 'batteries',\n",
              " 'in',\n",
              " 'well',\n",
              " 'over',\n",
              " 'a',\n",
              " 'decade',\n",
              " 'of',\n",
              " 'useHP',\n",
              " '12C',\n",
              " 'Im',\n",
              " 'coming',\n",
              " 'home']"
            ]
          },
          "metadata": {
            "tags": []
          },
          "execution_count": 37
        }
      ]
    },
    {
      "cell_type": "code",
      "metadata": {
        "id": "jdHZN2jfzNte",
        "colab_type": "code",
        "colab": {
          "base_uri": "https://localhost:8080/",
          "height": 54
        },
        "outputId": "974e6b90-6984-4a25-f131-f1a58c49f392"
      },
      "source": [
        "x = re.findall(r\"\\s[Bb]\\w*\\s|\\s\\w*[gG]\\s\", line) #applying regEx to 'line'\n",
        "print(x)"
      ],
      "execution_count": 40,
      "outputs": [
        {
          "output_type": "stream",
          "text": [
            "[' bought ', ' travelling ', ' but ', ' by ', ' buy ', ' 49G ', ' 49G ', ' 49G ', ' but ', ' 49G ', ' be ', ' but ', ' best ', ' looking ', ' be ', ' basic ', ' business ', ' be ', ' running ', ' 49G ', ' back ', ' batteries ', ' coming ']\n"
          ],
          "name": "stdout"
        }
      ]
    },
    {
      "cell_type": "code",
      "metadata": {
        "id": "YP7PomL_2nOQ",
        "colab_type": "code",
        "colab": {
          "base_uri": "https://localhost:8080/",
          "height": 54
        },
        "outputId": "48ec3c58-8d94-442d-ff3c-7342cb2e2e09"
      },
      "source": [
        "x = re.findall(r\"\\s[Bb]\\w+\\s|\\s\\w+[gG]\\s\", line)\n",
        "print(x)"
      ],
      "execution_count": 41,
      "outputs": [
        {
          "output_type": "stream",
          "text": [
            "[' bought ', ' travelling ', ' but ', ' by ', ' buy ', ' 49G ', ' 49G ', ' 49G ', ' but ', ' 49G ', ' be ', ' but ', ' best ', ' looking ', ' be ', ' basic ', ' business ', ' be ', ' running ', ' 49G ', ' back ', ' batteries ', ' coming ']\n"
          ],
          "name": "stdout"
        }
      ]
    },
    {
      "cell_type": "code",
      "metadata": {
        "id": "Ojh28Sqn52ZF",
        "colab_type": "code",
        "colab": {
          "base_uri": "https://localhost:8080/",
          "height": 34
        },
        "outputId": "e9b1bfb5-ac87-4d96-e565-92ae77955f2e"
      },
      "source": [
        "x = re.findall(r\"\\B[Bb]|[gG]\\B\", line)\n",
        "print(x)"
      ],
      "execution_count": 43,
      "outputs": [
        {
          "output_type": "stream",
          "text": [
            "['g', 'b', 'g', 'g', 'b', 'g', 'b']\n"
          ],
          "name": "stdout"
        }
      ]
    },
    {
      "cell_type": "code",
      "metadata": {
        "id": "4-aimc-16rnx",
        "colab_type": "code",
        "colab": {}
      },
      "source": [
        ""
      ],
      "execution_count": 0,
      "outputs": []
    }
  ]
}