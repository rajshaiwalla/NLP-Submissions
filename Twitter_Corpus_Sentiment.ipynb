{
  "nbformat": 4,
  "nbformat_minor": 0,
  "metadata": {
    "colab": {
      "name": "Twitter_Corpus_Sentiment.ipynb",
      "provenance": [],
      "collapsed_sections": [],
      "include_colab_link": true
    },
    "kernelspec": {
      "name": "python3",
      "display_name": "Python 3"
    },
    "accelerator": "GPU"
  },
  "cells": [
    {
      "cell_type": "markdown",
      "metadata": {
        "id": "view-in-github",
        "colab_type": "text"
      },
      "source": [
        "<a href=\"https://colab.research.google.com/github/rajshaiwalla/NLP-Submissions/blob/master/Twitter_Corpus_Sentiment.ipynb\" target=\"_parent\"><img src=\"https://colab.research.google.com/assets/colab-badge.svg\" alt=\"Open In Colab\"/></a>"
      ]
    },
    {
      "cell_type": "code",
      "metadata": {
        "id": "SzBlejDxBlo6",
        "colab_type": "code",
        "outputId": "5c78a705-6499-4457-dc97-e7e6a56c0fb0",
        "colab": {
          "base_uri": "https://localhost:8080/",
          "height": 34
        }
      },
      "source": [
        "pip install vaderSentiment"
      ],
      "execution_count": 0,
      "outputs": [
        {
          "output_type": "stream",
          "text": [
            "Requirement already satisfied: vaderSentiment in /usr/local/lib/python3.6/dist-packages (3.2.1)\n"
          ],
          "name": "stdout"
        }
      ]
    },
    {
      "cell_type": "code",
      "metadata": {
        "id": "rkfniPRqFdRP",
        "colab_type": "code",
        "outputId": "dde3b803-a160-4a1e-fed5-eac76c29bff1",
        "colab": {
          "base_uri": "https://localhost:8080/",
          "height": 68
        }
      },
      "source": [
        "pip install glove_python"
      ],
      "execution_count": 0,
      "outputs": [
        {
          "output_type": "stream",
          "text": [
            "Requirement already satisfied: glove_python in /usr/local/lib/python3.6/dist-packages (0.1.0)\n",
            "Requirement already satisfied: scipy in /usr/local/lib/python3.6/dist-packages (from glove_python) (1.3.3)\n",
            "Requirement already satisfied: numpy in /usr/local/lib/python3.6/dist-packages (from glove_python) (1.17.4)\n"
          ],
          "name": "stdout"
        }
      ]
    },
    {
      "cell_type": "code",
      "metadata": {
        "id": "0g2KW1Nc0vrA",
        "colab_type": "code",
        "colab": {}
      },
      "source": [
        "import pandas as pd #importing for using dataframes\n",
        "import nltk\n",
        "from vaderSentiment.vaderSentiment import SentimentIntensityAnalyzer\n",
        "from textblob import TextBlob as tb\n",
        "from sklearn.metrics import confusion_matrix, accuracy_score"
      ],
      "execution_count": 0,
      "outputs": []
    },
    {
      "cell_type": "code",
      "metadata": {
        "id": "7_9rzWFS1GRE",
        "colab_type": "code",
        "colab": {}
      },
      "source": [
        "url = 'https://raw.githubusercontent.com/zfz/twitter_corpus/master/full-corpus.csv'\n",
        "data = pd.read_csv(url, error_bad_lines=False)"
      ],
      "execution_count": 0,
      "outputs": []
    },
    {
      "cell_type": "code",
      "metadata": {
        "id": "s4SGfi8N1gFB",
        "colab_type": "code",
        "outputId": "fa3113b4-00f6-4faf-d049-f80135386ed6",
        "colab": {
          "base_uri": "https://localhost:8080/",
          "height": 359
        }
      },
      "source": [
        "data.head(10) #viewing the first 10 rows of the data"
      ],
      "execution_count": 0,
      "outputs": [
        {
          "output_type": "execute_result",
          "data": {
            "text/html": [
              "<div>\n",
              "<style scoped>\n",
              "    .dataframe tbody tr th:only-of-type {\n",
              "        vertical-align: middle;\n",
              "    }\n",
              "\n",
              "    .dataframe tbody tr th {\n",
              "        vertical-align: top;\n",
              "    }\n",
              "\n",
              "    .dataframe thead th {\n",
              "        text-align: right;\n",
              "    }\n",
              "</style>\n",
              "<table border=\"1\" class=\"dataframe\">\n",
              "  <thead>\n",
              "    <tr style=\"text-align: right;\">\n",
              "      <th></th>\n",
              "      <th>Topic</th>\n",
              "      <th>Sentiment</th>\n",
              "      <th>TweetId</th>\n",
              "      <th>TweetDate</th>\n",
              "      <th>TweetText</th>\n",
              "    </tr>\n",
              "  </thead>\n",
              "  <tbody>\n",
              "    <tr>\n",
              "      <th>0</th>\n",
              "      <td>apple</td>\n",
              "      <td>positive</td>\n",
              "      <td>126415614616154112</td>\n",
              "      <td>Tue Oct 18 21:53:25 +0000 2011</td>\n",
              "      <td>Now all @Apple has to do is get swype on the i...</td>\n",
              "    </tr>\n",
              "    <tr>\n",
              "      <th>1</th>\n",
              "      <td>apple</td>\n",
              "      <td>positive</td>\n",
              "      <td>126404574230740992</td>\n",
              "      <td>Tue Oct 18 21:09:33 +0000 2011</td>\n",
              "      <td>@Apple will be adding more carrier support to ...</td>\n",
              "    </tr>\n",
              "    <tr>\n",
              "      <th>2</th>\n",
              "      <td>apple</td>\n",
              "      <td>positive</td>\n",
              "      <td>126402758403305474</td>\n",
              "      <td>Tue Oct 18 21:02:20 +0000 2011</td>\n",
              "      <td>Hilarious @youtube video - guy does a duet wit...</td>\n",
              "    </tr>\n",
              "    <tr>\n",
              "      <th>3</th>\n",
              "      <td>apple</td>\n",
              "      <td>positive</td>\n",
              "      <td>126397179614068736</td>\n",
              "      <td>Tue Oct 18 20:40:10 +0000 2011</td>\n",
              "      <td>@RIM you made it too easy for me to switch to ...</td>\n",
              "    </tr>\n",
              "    <tr>\n",
              "      <th>4</th>\n",
              "      <td>apple</td>\n",
              "      <td>positive</td>\n",
              "      <td>126395626979196928</td>\n",
              "      <td>Tue Oct 18 20:34:00 +0000 2011</td>\n",
              "      <td>I just realized that the reason I got into twi...</td>\n",
              "    </tr>\n",
              "    <tr>\n",
              "      <th>5</th>\n",
              "      <td>apple</td>\n",
              "      <td>positive</td>\n",
              "      <td>126394830791254016</td>\n",
              "      <td>Tue Oct 18 20:30:50 +0000 2011</td>\n",
              "      <td>I'm a current @Blackberry user, little bit dis...</td>\n",
              "    </tr>\n",
              "    <tr>\n",
              "      <th>6</th>\n",
              "      <td>apple</td>\n",
              "      <td>positive</td>\n",
              "      <td>126379685453119488</td>\n",
              "      <td>Tue Oct 18 19:30:39 +0000 2011</td>\n",
              "      <td>The 16 strangest things Siri has said so far. ...</td>\n",
              "    </tr>\n",
              "    <tr>\n",
              "      <th>7</th>\n",
              "      <td>apple</td>\n",
              "      <td>positive</td>\n",
              "      <td>126377656416612353</td>\n",
              "      <td>Tue Oct 18 19:22:35 +0000 2011</td>\n",
              "      <td>Great up close &amp; personal event @Apple tonight...</td>\n",
              "    </tr>\n",
              "    <tr>\n",
              "      <th>8</th>\n",
              "      <td>apple</td>\n",
              "      <td>positive</td>\n",
              "      <td>126373779483004928</td>\n",
              "      <td>Tue Oct 18 19:07:11 +0000 2011</td>\n",
              "      <td>From which companies do you experience the bes...</td>\n",
              "    </tr>\n",
              "    <tr>\n",
              "      <th>9</th>\n",
              "      <td>apple</td>\n",
              "      <td>positive</td>\n",
              "      <td>126366353757179904</td>\n",
              "      <td>Tue Oct 18 18:37:41 +0000 2011</td>\n",
              "      <td>Just apply for a job at @Apple, hope they call...</td>\n",
              "    </tr>\n",
              "  </tbody>\n",
              "</table>\n",
              "</div>"
            ],
            "text/plain": [
              "   Topic  ...                                          TweetText\n",
              "0  apple  ...  Now all @Apple has to do is get swype on the i...\n",
              "1  apple  ...  @Apple will be adding more carrier support to ...\n",
              "2  apple  ...  Hilarious @youtube video - guy does a duet wit...\n",
              "3  apple  ...  @RIM you made it too easy for me to switch to ...\n",
              "4  apple  ...  I just realized that the reason I got into twi...\n",
              "5  apple  ...  I'm a current @Blackberry user, little bit dis...\n",
              "6  apple  ...  The 16 strangest things Siri has said so far. ...\n",
              "7  apple  ...  Great up close & personal event @Apple tonight...\n",
              "8  apple  ...  From which companies do you experience the bes...\n",
              "9  apple  ...  Just apply for a job at @Apple, hope they call...\n",
              "\n",
              "[10 rows x 5 columns]"
            ]
          },
          "metadata": {
            "tags": []
          },
          "execution_count": 23
        }
      ]
    },
    {
      "cell_type": "code",
      "metadata": {
        "id": "O4XOAGFQ1lZA",
        "colab_type": "code",
        "colab": {}
      },
      "source": [
        "df = data.copy() #making a copy of the data and storing it in 'df' to leave the original data unaltered."
      ],
      "execution_count": 0,
      "outputs": []
    },
    {
      "cell_type": "code",
      "metadata": {
        "id": "j3_DsfML1n3b",
        "colab_type": "code",
        "outputId": "c1f02c5f-4ebf-43c5-b169-558ff0402d59",
        "colab": {
          "base_uri": "https://localhost:8080/",
          "height": 34
        }
      },
      "source": [
        "df.shape"
      ],
      "execution_count": 0,
      "outputs": [
        {
          "output_type": "execute_result",
          "data": {
            "text/plain": [
              "(5113, 5)"
            ]
          },
          "metadata": {
            "tags": []
          },
          "execution_count": 25
        }
      ]
    },
    {
      "cell_type": "code",
      "metadata": {
        "id": "2PYHc0Ka152G",
        "colab_type": "code",
        "outputId": "58ef6ae5-d1f2-4753-951d-f839c21d70c5",
        "colab": {
          "base_uri": "https://localhost:8080/",
          "height": 34
        }
      },
      "source": [
        "line = df['TweetText'][1] #storing the string as 'line'\n",
        "line"
      ],
      "execution_count": 0,
      "outputs": [
        {
          "output_type": "execute_result",
          "data": {
            "text/plain": [
              "'@Apple will be adding more carrier support to the iPhone 4S (just announced)'"
            ]
          },
          "metadata": {
            "tags": []
          },
          "execution_count": 26
        }
      ]
    },
    {
      "cell_type": "code",
      "metadata": {
        "id": "ATprcK0C4_Vc",
        "colab_type": "code",
        "colab": {}
      },
      "source": [
        "blob1 = tb(line)"
      ],
      "execution_count": 0,
      "outputs": []
    },
    {
      "cell_type": "code",
      "metadata": {
        "id": "t6SETNCH5Gim",
        "colab_type": "code",
        "outputId": "63f90304-69e1-407b-e8a5-3e636fe22876",
        "colab": {
          "base_uri": "https://localhost:8080/",
          "height": 34
        }
      },
      "source": [
        "print(format(blob1.sentiment))"
      ],
      "execution_count": 0,
      "outputs": [
        {
          "output_type": "stream",
          "text": [
            "Sentiment(polarity=0.5, subjectivity=0.5)\n"
          ],
          "name": "stdout"
        }
      ]
    },
    {
      "cell_type": "code",
      "metadata": {
        "id": "Lt-Rqmof5Ms7",
        "colab_type": "code",
        "colab": {}
      },
      "source": [
        "def TweetSent(str):\n",
        "  return tb(str).sentiment.polarity"
      ],
      "execution_count": 0,
      "outputs": []
    },
    {
      "cell_type": "code",
      "metadata": {
        "id": "36Cv-kJv6AJ8",
        "colab_type": "code",
        "outputId": "df1ea916-1a4e-48b0-90a0-a9aa47bbf863",
        "colab": {
          "base_uri": "https://localhost:8080/",
          "height": 255
        }
      },
      "source": [
        "df.SentimentPolarity = df.TweetText.apply(TweetSent)\n",
        "df.SentimentPolarity"
      ],
      "execution_count": 0,
      "outputs": [
        {
          "output_type": "stream",
          "text": [
            "/usr/local/lib/python3.6/dist-packages/ipykernel_launcher.py:1: UserWarning: Pandas doesn't allow columns to be created via a new attribute name - see https://pandas.pydata.org/pandas-docs/stable/indexing.html#attribute-access\n",
            "  \"\"\"Entry point for launching an IPython kernel.\n"
          ],
          "name": "stderr"
        },
        {
          "output_type": "execute_result",
          "data": {
            "text/plain": [
              "0       0.000000\n",
              "1       0.500000\n",
              "2       0.393750\n",
              "3       0.541667\n",
              "4       0.200000\n",
              "          ...   \n",
              "5108    0.000000\n",
              "5109    0.500000\n",
              "5110   -0.250000\n",
              "5111    0.000000\n",
              "5112    0.000000\n",
              "Name: TweetText, Length: 5113, dtype: float64"
            ]
          },
          "metadata": {
            "tags": []
          },
          "execution_count": 30
        }
      ]
    },
    {
      "cell_type": "code",
      "metadata": {
        "id": "1zTNXsuV6UL6",
        "colab_type": "code",
        "colab": {}
      },
      "source": [
        "analyzer = SentimentIntensityAnalyzer()"
      ],
      "execution_count": 0,
      "outputs": []
    },
    {
      "cell_type": "code",
      "metadata": {
        "id": "wVlz6g7ABqVu",
        "colab_type": "code",
        "colab": {}
      },
      "source": [
        "def Vader_Polarity(str):\n",
        "  score = analyzer.polarity_scores(str)\n",
        "  return score"
      ],
      "execution_count": 0,
      "outputs": []
    },
    {
      "cell_type": "code",
      "metadata": {
        "id": "UyXH0UUbBr7m",
        "colab_type": "code",
        "outputId": "c60504af-3fdd-4bf9-ebda-2e6979a8b37c",
        "colab": {
          "base_uri": "https://localhost:8080/",
          "height": 255
        }
      },
      "source": [
        "df.VaderPolarity = df.TweetText.apply(Vader_Polarity)\n",
        "df.VaderPolarity"
      ],
      "execution_count": 0,
      "outputs": [
        {
          "output_type": "stream",
          "text": [
            "/usr/local/lib/python3.6/dist-packages/ipykernel_launcher.py:1: UserWarning: Pandas doesn't allow columns to be created via a new attribute name - see https://pandas.pydata.org/pandas-docs/stable/indexing.html#attribute-access\n",
            "  \"\"\"Entry point for launching an IPython kernel.\n"
          ],
          "name": "stderr"
        },
        {
          "output_type": "execute_result",
          "data": {
            "text/plain": [
              "0       {'neg': 0.0, 'neu': 1.0, 'pos': 0.0, 'compound...\n",
              "1       {'neg': 0.0, 'neu': 0.801, 'pos': 0.199, 'comp...\n",
              "2       {'neg': 0.0, 'neu': 0.591, 'pos': 0.409, 'comp...\n",
              "3       {'neg': 0.0, 'neu': 0.814, 'pos': 0.186, 'comp...\n",
              "4       {'neg': 0.0, 'neu': 0.791, 'pos': 0.209, 'comp...\n",
              "                              ...                        \n",
              "5108    {'neg': 0.0, 'neu': 1.0, 'pos': 0.0, 'compound...\n",
              "5109    {'neg': 0.0, 'neu': 0.7, 'pos': 0.3, 'compound...\n",
              "5110    {'neg': 0.167, 'neu': 0.833, 'pos': 0.0, 'comp...\n",
              "5111    {'neg': 0.0, 'neu': 1.0, 'pos': 0.0, 'compound...\n",
              "5112    {'neg': 0.0, 'neu': 1.0, 'pos': 0.0, 'compound...\n",
              "Name: TweetText, Length: 5113, dtype: object"
            ]
          },
          "metadata": {
            "tags": []
          },
          "execution_count": 33
        }
      ]
    },
    {
      "cell_type": "code",
      "metadata": {
        "id": "sd2-xpBEB6W3",
        "colab_type": "code",
        "colab": {}
      },
      "source": [
        "#def sentimentNltk(tweet):\n",
        " # ss = SentimentIntensityAnalyzer().polarity_scores(tweet)\n",
        "  #m = max(ss, key = ss.get)\n",
        "  # = {}\n",
        "  #d[m] = ss[m]\n",
        "  #return d"
      ],
      "execution_count": 0,
      "outputs": []
    },
    {
      "cell_type": "code",
      "metadata": {
        "id": "apKoiDIsGKoh",
        "colab_type": "code",
        "colab": {}
      },
      "source": [
        "def sentimentNltk(tweet):\n",
        "  x = SentimentIntensityAnalyzer().polarity_scores(tweet)\n",
        "\n",
        "  if x['compound']>=0.05:\n",
        "    return 'positive'\n",
        "  elif x['compound']<=-0.05:\n",
        "    return 'negative'\n",
        "  else:\n",
        "    return 'neutral'"
      ],
      "execution_count": 0,
      "outputs": []
    },
    {
      "cell_type": "code",
      "metadata": {
        "id": "uVsl1wKwEPBE",
        "colab_type": "code",
        "outputId": "f881de2c-cfc9-4a09-d695-89321c64b374",
        "colab": {
          "base_uri": "https://localhost:8080/",
          "height": 221
        }
      },
      "source": [
        "df.TweetKey = df.TweetText.apply(sentimentNltk)\n",
        "TweetKey = df.TweetKey\n",
        "TweetKey"
      ],
      "execution_count": 0,
      "outputs": [
        {
          "output_type": "execute_result",
          "data": {
            "text/plain": [
              "0        neutral\n",
              "1       positive\n",
              "2       positive\n",
              "3       positive\n",
              "4       positive\n",
              "          ...   \n",
              "5108     neutral\n",
              "5109    positive\n",
              "5110    negative\n",
              "5111     neutral\n",
              "5112     neutral\n",
              "Name: TweetText, Length: 5113, dtype: object"
            ]
          },
          "metadata": {
            "tags": []
          },
          "execution_count": 68
        }
      ]
    },
    {
      "cell_type": "code",
      "metadata": {
        "id": "pFEMmpagKQ-L",
        "colab_type": "code",
        "outputId": "37080a36-c59c-4a2d-82c0-9041114c11e7",
        "colab": {
          "base_uri": "https://localhost:8080/",
          "height": 34
        }
      },
      "source": [
        "set(TweetKey)"
      ],
      "execution_count": 0,
      "outputs": [
        {
          "output_type": "execute_result",
          "data": {
            "text/plain": [
              "{'negative', 'neutral', 'positive'}"
            ]
          },
          "metadata": {
            "tags": []
          },
          "execution_count": 69
        }
      ]
    },
    {
      "cell_type": "code",
      "metadata": {
        "id": "ZSpvb6NrK2th",
        "colab_type": "code",
        "outputId": "e4b6968a-923a-4601-9104-065a81bd10bc",
        "colab": {
          "base_uri": "https://localhost:8080/",
          "height": 34
        }
      },
      "source": [
        "set(df['Sentiment'])"
      ],
      "execution_count": 0,
      "outputs": [
        {
          "output_type": "execute_result",
          "data": {
            "text/plain": [
              "{'irrelevant', 'negative', 'neutral', 'positive'}"
            ]
          },
          "metadata": {
            "tags": []
          },
          "execution_count": 70
        }
      ]
    },
    {
      "cell_type": "code",
      "metadata": {
        "id": "693vmReWGkZq",
        "colab_type": "code",
        "outputId": "7d63bc04-e2bc-4312-ebfa-206fcfc4af35",
        "colab": {
          "base_uri": "https://localhost:8080/",
          "height": 85
        }
      },
      "source": [
        "confusion_matrix(df['Sentiment'], TweetKey)"
      ],
      "execution_count": 0,
      "outputs": [
        {
          "output_type": "execute_result",
          "data": {
            "text/plain": [
              "array([[   0,  237, 1189,  263],\n",
              "       [   0,  290,  139,  143],\n",
              "       [   0,  302, 1233,  798],\n",
              "       [   0,   47,   99,  373]])"
            ]
          },
          "metadata": {
            "tags": []
          },
          "execution_count": 71
        }
      ]
    },
    {
      "cell_type": "code",
      "metadata": {
        "id": "0zmnm3tcI7Ql",
        "colab_type": "code",
        "outputId": "286bb3ab-f537-45c4-ba6e-ea8492e0fc2f",
        "colab": {
          "base_uri": "https://localhost:8080/",
          "height": 34
        }
      },
      "source": [
        "accuracy_score(df['Sentiment'], TweetKey)"
      ],
      "execution_count": 0,
      "outputs": [
        {
          "output_type": "execute_result",
          "data": {
            "text/plain": [
              "0.3708194797574809"
            ]
          },
          "metadata": {
            "tags": []
          },
          "execution_count": 74
        }
      ]
    },
    {
      "cell_type": "code",
      "metadata": {
        "id": "8YViRoGLEjG1",
        "colab_type": "code",
        "colab": {}
      },
      "source": [
        "from glove import Corpus, Glove"
      ],
      "execution_count": 0,
      "outputs": []
    }
  ]
}