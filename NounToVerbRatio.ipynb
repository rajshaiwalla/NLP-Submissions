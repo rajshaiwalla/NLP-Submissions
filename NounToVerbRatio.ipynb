{
  "nbformat": 4,
  "nbformat_minor": 0,
  "metadata": {
    "colab": {
      "name": "NounToVerbRatio.ipynb",
      "provenance": [],
      "collapsed_sections": [],
      "include_colab_link": true
    },
    "kernelspec": {
      "name": "python3",
      "display_name": "Python 3"
    }
  },
  "cells": [
    {
      "cell_type": "markdown",
      "metadata": {
        "id": "view-in-github",
        "colab_type": "text"
      },
      "source": [
        "<a href=\"https://colab.research.google.com/github/rajshaiwalla/NLP-Submissions/blob/master/NounToVerbRatio.ipynb\" target=\"_parent\"><img src=\"https://colab.research.google.com/assets/colab-badge.svg\" alt=\"Open In Colab\"/></a>"
      ]
    },
    {
      "cell_type": "code",
      "metadata": {
        "id": "ryunRLhCN02A",
        "colab_type": "code",
        "colab": {}
      },
      "source": [
        "import pandas as pd #importing for using dataframes\n",
        "import spacy #importing spacy "
      ],
      "execution_count": 0,
      "outputs": []
    },
    {
      "cell_type": "code",
      "metadata": {
        "id": "1H8HUchaN9aF",
        "colab_type": "code",
        "colab": {}
      },
      "source": [
        "sp = spacy.load('en')"
      ],
      "execution_count": 0,
      "outputs": []
    },
    {
      "cell_type": "code",
      "metadata": {
        "id": "MvzSjc5yOLR9",
        "colab_type": "code",
        "colab": {}
      },
      "source": [
        "data = pd.read_json(\"http://snap.stanford.edu/data/amazon/productGraph/categoryFiles/reviews_Office_Products_5.json.gz\", lines = True) #Reading the Office Products file "
      ],
      "execution_count": 0,
      "outputs": []
    },
    {
      "cell_type": "code",
      "metadata": {
        "id": "GTygleDtOMXY",
        "colab_type": "code",
        "colab": {
          "base_uri": "https://localhost:8080/",
          "height": 359
        },
        "outputId": "7733773d-4346-4e80-e986-c67688b15ed4"
      },
      "source": [
        "data.head(10) #viewing the first 10 rows of the data"
      ],
      "execution_count": 5,
      "outputs": [
        {
          "output_type": "execute_result",
          "data": {
            "text/html": [
              "<div>\n",
              "<style scoped>\n",
              "    .dataframe tbody tr th:only-of-type {\n",
              "        vertical-align: middle;\n",
              "    }\n",
              "\n",
              "    .dataframe tbody tr th {\n",
              "        vertical-align: top;\n",
              "    }\n",
              "\n",
              "    .dataframe thead th {\n",
              "        text-align: right;\n",
              "    }\n",
              "</style>\n",
              "<table border=\"1\" class=\"dataframe\">\n",
              "  <thead>\n",
              "    <tr style=\"text-align: right;\">\n",
              "      <th></th>\n",
              "      <th>reviewerID</th>\n",
              "      <th>asin</th>\n",
              "      <th>reviewerName</th>\n",
              "      <th>helpful</th>\n",
              "      <th>reviewText</th>\n",
              "      <th>overall</th>\n",
              "      <th>summary</th>\n",
              "      <th>unixReviewTime</th>\n",
              "      <th>reviewTime</th>\n",
              "    </tr>\n",
              "  </thead>\n",
              "  <tbody>\n",
              "    <tr>\n",
              "      <th>0</th>\n",
              "      <td>A32T2H8150OJLU</td>\n",
              "      <td>B00000JBLH</td>\n",
              "      <td>ARH</td>\n",
              "      <td>[3, 4]</td>\n",
              "      <td>I bought my first HP12C in about 1984 or so, a...</td>\n",
              "      <td>5</td>\n",
              "      <td>A solid performer, and long time friend</td>\n",
              "      <td>1094169600</td>\n",
              "      <td>09 3, 2004</td>\n",
              "    </tr>\n",
              "    <tr>\n",
              "      <th>1</th>\n",
              "      <td>A3MAFS04ZABRGO</td>\n",
              "      <td>B00000JBLH</td>\n",
              "      <td>Let it Be \"Alan\"</td>\n",
              "      <td>[7, 9]</td>\n",
              "      <td>WHY THIS BELATED REVIEW? I feel very obliged t...</td>\n",
              "      <td>5</td>\n",
              "      <td>Price of GOLD is up, so don't bury the golden ...</td>\n",
              "      <td>1197676800</td>\n",
              "      <td>12 15, 2007</td>\n",
              "    </tr>\n",
              "    <tr>\n",
              "      <th>2</th>\n",
              "      <td>A1F1A0QQP2XVH5</td>\n",
              "      <td>B00000JBLH</td>\n",
              "      <td>Mark B</td>\n",
              "      <td>[3, 3]</td>\n",
              "      <td>I have an HP 48GX that has been kicking for mo...</td>\n",
              "      <td>2</td>\n",
              "      <td>Good functionality, but not durable like old HPs</td>\n",
              "      <td>1293840000</td>\n",
              "      <td>01 1, 2011</td>\n",
              "    </tr>\n",
              "    <tr>\n",
              "      <th>3</th>\n",
              "      <td>A49R5DBXXQDE5</td>\n",
              "      <td>B00000JBLH</td>\n",
              "      <td>R. D Johnson</td>\n",
              "      <td>[7, 8]</td>\n",
              "      <td>I've started doing more finance stuff recently...</td>\n",
              "      <td>5</td>\n",
              "      <td>One of the last of an almost extinct species</td>\n",
              "      <td>1145404800</td>\n",
              "      <td>04 19, 2006</td>\n",
              "    </tr>\n",
              "    <tr>\n",
              "      <th>4</th>\n",
              "      <td>A2XRMQA6PJ5ZJ8</td>\n",
              "      <td>B00000JBLH</td>\n",
              "      <td>Roger J. Buffington</td>\n",
              "      <td>[0, 0]</td>\n",
              "      <td>For simple calculations and discounted cash fl...</td>\n",
              "      <td>5</td>\n",
              "      <td>Still the best</td>\n",
              "      <td>1375574400</td>\n",
              "      <td>08 4, 2013</td>\n",
              "    </tr>\n",
              "    <tr>\n",
              "      <th>5</th>\n",
              "      <td>A2JFOHC9W629IE</td>\n",
              "      <td>B00000JBLH</td>\n",
              "      <td>scott_from_dallas</td>\n",
              "      <td>[10, 12]</td>\n",
              "      <td>While I don't have an MBA, it's hard to believ...</td>\n",
              "      <td>5</td>\n",
              "      <td>Every MBA student and grad should get one</td>\n",
              "      <td>1011744000</td>\n",
              "      <td>01 23, 2002</td>\n",
              "    </tr>\n",
              "    <tr>\n",
              "      <th>6</th>\n",
              "      <td>A38NELQT98S4H8</td>\n",
              "      <td>B00000JBLH</td>\n",
              "      <td>W. B. Halper</td>\n",
              "      <td>[3, 4]</td>\n",
              "      <td>I've had an HP 12C ever since they were first ...</td>\n",
              "      <td>5</td>\n",
              "      <td>A workhorse of a calculator</td>\n",
              "      <td>1168992000</td>\n",
              "      <td>01 17, 2007</td>\n",
              "    </tr>\n",
              "    <tr>\n",
              "      <th>7</th>\n",
              "      <td>AA8M6331NI1EN</td>\n",
              "      <td>B00000JBLH</td>\n",
              "      <td>ZombieMom</td>\n",
              "      <td>[0, 0]</td>\n",
              "      <td>Bought this for my boss because he lost his.  ...</td>\n",
              "      <td>5</td>\n",
              "      <td>Fast shipping &amp; great price for this awesome c...</td>\n",
              "      <td>1384387200</td>\n",
              "      <td>11 14, 2013</td>\n",
              "    </tr>\n",
              "    <tr>\n",
              "      <th>8</th>\n",
              "      <td>A25C2M3QF9G7OQ</td>\n",
              "      <td>B00000JBLU</td>\n",
              "      <td>Comdet</td>\n",
              "      <td>[3, 3]</td>\n",
              "      <td>This is a well-designed, simple calculator tha...</td>\n",
              "      <td>5</td>\n",
              "      <td>Nice design, works well, great value</td>\n",
              "      <td>1291680000</td>\n",
              "      <td>12 7, 2010</td>\n",
              "    </tr>\n",
              "    <tr>\n",
              "      <th>9</th>\n",
              "      <td>A1RTVWTWZSIC94</td>\n",
              "      <td>B00000JBLU</td>\n",
              "      <td>Hb \"Black Beauty\"</td>\n",
              "      <td>[0, 0]</td>\n",
              "      <td>I love this calculator, big numbers and calcul...</td>\n",
              "      <td>5</td>\n",
              "      <td>Love It!!!!!!!!!</td>\n",
              "      <td>1385942400</td>\n",
              "      <td>12 2, 2013</td>\n",
              "    </tr>\n",
              "  </tbody>\n",
              "</table>\n",
              "</div>"
            ],
            "text/plain": [
              "       reviewerID        asin  ... unixReviewTime   reviewTime\n",
              "0  A32T2H8150OJLU  B00000JBLH  ...     1094169600   09 3, 2004\n",
              "1  A3MAFS04ZABRGO  B00000JBLH  ...     1197676800  12 15, 2007\n",
              "2  A1F1A0QQP2XVH5  B00000JBLH  ...     1293840000   01 1, 2011\n",
              "3   A49R5DBXXQDE5  B00000JBLH  ...     1145404800  04 19, 2006\n",
              "4  A2XRMQA6PJ5ZJ8  B00000JBLH  ...     1375574400   08 4, 2013\n",
              "5  A2JFOHC9W629IE  B00000JBLH  ...     1011744000  01 23, 2002\n",
              "6  A38NELQT98S4H8  B00000JBLH  ...     1168992000  01 17, 2007\n",
              "7   AA8M6331NI1EN  B00000JBLH  ...     1384387200  11 14, 2013\n",
              "8  A25C2M3QF9G7OQ  B00000JBLU  ...     1291680000   12 7, 2010\n",
              "9  A1RTVWTWZSIC94  B00000JBLU  ...     1385942400   12 2, 2013\n",
              "\n",
              "[10 rows x 9 columns]"
            ]
          },
          "metadata": {
            "tags": []
          },
          "execution_count": 5
        }
      ]
    },
    {
      "cell_type": "code",
      "metadata": {
        "id": "HR4Da8pVONe-",
        "colab_type": "code",
        "colab": {}
      },
      "source": [
        "df = data.copy() #making a copy of the data and storing it in 'df' to leave the original data unaltered."
      ],
      "execution_count": 0,
      "outputs": []
    },
    {
      "cell_type": "code",
      "metadata": {
        "id": "3xrz3uZlOOqU",
        "colab_type": "code",
        "colab": {
          "base_uri": "https://localhost:8080/",
          "height": 54
        },
        "outputId": "9627fd67-76a9-4d26-b658-6b2b73ce9570"
      },
      "source": [
        "line = df['reviewText'][0] #storing the string as 'line'\n",
        "line"
      ],
      "execution_count": 7,
      "outputs": [
        {
          "output_type": "execute_result",
          "data": {
            "text/plain": [
              "\"I bought my first HP12C in about 1984 or so, and it served me faithfully until 2002 when I lost it while travelling.  I searched for another one to replace it, but found one difficult to come by in my area.  So, I decided to buy up and purchased an HP 49G.  What a mistake!  I know that many people view the HP 49G (now 49G+) as the flagship of the HP line, but for me that was a disaster.The 49G may be powerful, but using it is extremely counterintuitive...and the manual was sketchy at best.  The 12C, on the other hand, does what I need in a way that makes good sense to me.If you are looking for a solid, reliable calculator, the HP12C may be for you.  It's programmable.  It does basic statistics well, and many business applications too.  The manual makes sense; you will be up and running in short order.I'm ready to set my 49G aside and move back to my old friend.  I didn't even have to replace the batteries in well over a decade of use!HP 12C, I'm coming home!\""
            ]
          },
          "metadata": {
            "tags": []
          },
          "execution_count": 7
        }
      ]
    },
    {
      "cell_type": "code",
      "metadata": {
        "id": "uaf5AV3JOTD9",
        "colab_type": "code",
        "colab": {}
      },
      "source": [
        "x = sp(line)"
      ],
      "execution_count": 0,
      "outputs": []
    },
    {
      "cell_type": "code",
      "metadata": {
        "id": "memTlLN3Oqe3",
        "colab_type": "code",
        "colab": {}
      },
      "source": [
        "def NounToVerbRatio(F):\n",
        "\n",
        "  sentence = sp(F)\n",
        "  noun_count = 0\n",
        "  verb_count = 0 \n",
        "  ratio = 0\n",
        "\n",
        "  for x in sentence:\n",
        "    if (x.pos_== \"PROPN\")|(x.pos_ ==\"NOUN\"):\n",
        "      noun_count += 1\n",
        "    elif x.pos_ == 'VERB':\n",
        "      verb_count += 1\n",
        "  if (verb_count == 0):\n",
        "    ratio = 0\n",
        "  else:\n",
        "   ratio = noun_count/verb_count    \n",
        "\n",
        "  final = {'Number of Nouns' : noun_count,'Number of Verbs' : verb_count,'Noun:Verb' : ratio}\n",
        "  return final"
      ],
      "execution_count": 0,
      "outputs": []
    },
    {
      "cell_type": "code",
      "metadata": {
        "id": "hmj3XB4TTHIp",
        "colab_type": "code",
        "colab": {}
      },
      "source": [
        "test = df['reviewText'][0:50] #making a 'test' dataframe of df consisting first 50 rows\n",
        "test = pd.DataFrame(test)"
      ],
      "execution_count": 0,
      "outputs": []
    },
    {
      "cell_type": "code",
      "metadata": {
        "id": "eBJQep6eRxTN",
        "colab_type": "code",
        "colab": {}
      },
      "source": [
        "test['NounToVerbRatio'] = test['reviewText'].apply(NounToVerbRatio)"
      ],
      "execution_count": 0,
      "outputs": []
    },
    {
      "cell_type": "code",
      "metadata": {
        "id": "HBLTTlu3TO14",
        "colab_type": "code",
        "colab": {
          "base_uri": "https://localhost:8080/",
          "height": 204
        },
        "outputId": "c5c2c6b0-d176-4905-bd89-c31479415b26"
      },
      "source": [
        "test.head()"
      ],
      "execution_count": 26,
      "outputs": [
        {
          "output_type": "execute_result",
          "data": {
            "text/html": [
              "<div>\n",
              "<style scoped>\n",
              "    .dataframe tbody tr th:only-of-type {\n",
              "        vertical-align: middle;\n",
              "    }\n",
              "\n",
              "    .dataframe tbody tr th {\n",
              "        vertical-align: top;\n",
              "    }\n",
              "\n",
              "    .dataframe thead th {\n",
              "        text-align: right;\n",
              "    }\n",
              "</style>\n",
              "<table border=\"1\" class=\"dataframe\">\n",
              "  <thead>\n",
              "    <tr style=\"text-align: right;\">\n",
              "      <th></th>\n",
              "      <th>reviewText</th>\n",
              "      <th>NounToVerbRatio</th>\n",
              "    </tr>\n",
              "  </thead>\n",
              "  <tbody>\n",
              "    <tr>\n",
              "      <th>0</th>\n",
              "      <td>I bought my first HP12C in about 1984 or so, a...</td>\n",
              "      <td>{'Number of Nouns': 29, 'Number of Verbs': 39,...</td>\n",
              "    </tr>\n",
              "    <tr>\n",
              "      <th>1</th>\n",
              "      <td>WHY THIS BELATED REVIEW? I feel very obliged t...</td>\n",
              "      <td>{'Number of Nouns': 310, 'Number of Verbs': 14...</td>\n",
              "    </tr>\n",
              "    <tr>\n",
              "      <th>2</th>\n",
              "      <td>I have an HP 48GX that has been kicking for mo...</td>\n",
              "      <td>{'Number of Nouns': 19, 'Number of Verbs': 19,...</td>\n",
              "    </tr>\n",
              "    <tr>\n",
              "      <th>3</th>\n",
              "      <td>I've started doing more finance stuff recently...</td>\n",
              "      <td>{'Number of Nouns': 172, 'Number of Verbs': 12...</td>\n",
              "    </tr>\n",
              "    <tr>\n",
              "      <th>4</th>\n",
              "      <td>For simple calculations and discounted cash fl...</td>\n",
              "      <td>{'Number of Nouns': 32, 'Number of Verbs': 25,...</td>\n",
              "    </tr>\n",
              "  </tbody>\n",
              "</table>\n",
              "</div>"
            ],
            "text/plain": [
              "                                          reviewText                                    NounToVerbRatio\n",
              "0  I bought my first HP12C in about 1984 or so, a...  {'Number of Nouns': 29, 'Number of Verbs': 39,...\n",
              "1  WHY THIS BELATED REVIEW? I feel very obliged t...  {'Number of Nouns': 310, 'Number of Verbs': 14...\n",
              "2  I have an HP 48GX that has been kicking for mo...  {'Number of Nouns': 19, 'Number of Verbs': 19,...\n",
              "3  I've started doing more finance stuff recently...  {'Number of Nouns': 172, 'Number of Verbs': 12...\n",
              "4  For simple calculations and discounted cash fl...  {'Number of Nouns': 32, 'Number of Verbs': 25,..."
            ]
          },
          "metadata": {
            "tags": []
          },
          "execution_count": 26
        }
      ]
    },
    {
      "cell_type": "code",
      "metadata": {
        "id": "62Duyi4KTYs-",
        "colab_type": "code",
        "colab": {
          "base_uri": "https://localhost:8080/",
          "height": 34
        },
        "outputId": "93d265a2-c8e6-41ce-e4a4-d4cf9b8e855c"
      },
      "source": [
        "test['NounToVerbRatio'][0]"
      ],
      "execution_count": 27,
      "outputs": [
        {
          "output_type": "execute_result",
          "data": {
            "text/plain": [
              "{'Noun:Verb': 0.7435897435897436, 'Number of Nouns': 29, 'Number of Verbs': 39}"
            ]
          },
          "metadata": {
            "tags": []
          },
          "execution_count": 27
        }
      ]
    }
  ]
}